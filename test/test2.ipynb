{
 "cells": [
  {
   "cell_type": "code",
   "execution_count": 1,
   "metadata": {},
   "outputs": [],
   "source": [
    "import beton"
   ]
  },
  {
   "cell_type": "code",
   "execution_count": 3,
   "metadata": {},
   "outputs": [
    {
     "data": {
      "text/latex": [
       "$\\displaystyle t = \\frac{h}{3}$"
      ],
      "text/plain": [
       "Eq(t, h/3)"
      ]
     },
     "metadata": {},
     "output_type": "display_data"
    },
    {
     "data": {
      "text/latex": [
       "$\\displaystyle k_{t} = \\frac{1}{1 + \\frac{h}{6 \\text{m}}}$"
      ],
      "text/plain": [
       "Eq(k_t, 1/(1 + h/(6*meter)))"
      ]
     },
     "metadata": {},
     "output_type": "display_data"
    },
    {
     "data": {
      "text/latex": [
       "$\\displaystyle f_{ctd} = \\frac{f_{ctm}}{1 + \\frac{h}{6 \\text{m}}}$"
      ],
      "text/plain": [
       "Eq(f_ctd, f_ctm/(1 + h/(6*meter)))"
      ]
     },
     "metadata": {},
     "output_type": "display_data"
    },
    {
     "data": {
      "text/latex": [
       "$\\displaystyle m_{cr} = \\frac{f_{ctm} h^{2}}{6 \\cdot \\left(1 + \\frac{h}{6 \\text{m}}\\right)}$"
      ],
      "text/plain": [
       "Eq(m_cr, f_ctm*h**2/(6*(1 + h/(6*meter))))"
      ]
     },
     "metadata": {},
     "output_type": "display_data"
    }
   ],
   "source": [
    "t, k_t, f_ctd, m_cr = beton.m_cr()"
   ]
  },
  {
   "cell_type": "code",
   "execution_count": null,
   "metadata": {},
   "outputs": [],
   "source": []
  }
 ],
 "metadata": {
  "kernelspec": {
   "display_name": "engineering",
   "language": "python",
   "name": "python3"
  },
  "language_info": {
   "codemirror_mode": {
    "name": "ipython",
    "version": 3
   },
   "file_extension": ".py",
   "mimetype": "text/x-python",
   "name": "python",
   "nbconvert_exporter": "python",
   "pygments_lexer": "ipython3",
   "version": "3.10.10"
  },
  "orig_nbformat": 4
 },
 "nbformat": 4,
 "nbformat_minor": 2
}
