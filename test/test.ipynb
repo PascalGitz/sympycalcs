{
 "cells": [
  {
   "cell_type": "code",
   "execution_count": 1,
   "metadata": {},
   "outputs": [],
   "source": [
    "import render as rend\n",
    "import convert as conv"
   ]
  },
  {
   "cell_type": "code",
   "execution_count": 2,
   "metadata": {},
   "outputs": [],
   "source": [
    "import sympy as sp\n",
    "import sympy.physics.units as u\n"
   ]
  },
  {
   "cell_type": "markdown",
   "metadata": {},
   "source": [
    "# System\n",
    "![Alt text](03.jpg)"
   ]
  },
  {
   "cell_type": "markdown",
   "metadata": {},
   "source": [
    "## Parameter"
   ]
  },
  {
   "cell_type": "code",
   "execution_count": 3,
   "metadata": {},
   "outputs": [],
   "source": [
    "params = {\"EI\": 30000 * 10**3*u.N * u.m**2,\n",
    "          \"l_1\":3.*u.m,\n",
    "          \"l_2\":2.*u.m,\n",
    "          \"F_0\":50.*10**3*u.N, \n",
    "          \"M\":1*10**3*u.N * u.seconds**2 / u.m, \n",
    "          \"zeta\":0.5/100,\n",
    "          \"omega\":62.8/u.seconds,\n",
    "          \"g\":10 *u.m / u.seconds**2,\n",
    "          \"h\":200*u.mm,\n",
    "          \"f_ctm\":2.9*u.N/u.mm**2}"
   ]
  },
  {
   "cell_type": "code",
   "execution_count": 4,
   "metadata": {},
   "outputs": [],
   "source": [
    "params_pure = conv.param_value(params)"
   ]
  },
  {
   "cell_type": "code",
   "execution_count": 5,
   "metadata": {},
   "outputs": [
    {
     "data": {
      "text/latex": [
       "$\\displaystyle EI = 30000000 \\text{m}^{2} \\text{N}$"
      ],
      "text/plain": [
       "Eq(EI, 30000000*meter**2*newton)"
      ]
     },
     "metadata": {},
     "output_type": "display_data"
    },
    {
     "data": {
      "text/latex": [
       "$\\displaystyle l_{1} = 3.0 \\text{m}$"
      ],
      "text/plain": [
       "Eq(l_1, 3.0*meter)"
      ]
     },
     "metadata": {},
     "output_type": "display_data"
    },
    {
     "data": {
      "text/latex": [
       "$\\displaystyle l_{2} = 2.0 \\text{m}$"
      ],
      "text/plain": [
       "Eq(l_2, 2.0*meter)"
      ]
     },
     "metadata": {},
     "output_type": "display_data"
    },
    {
     "data": {
      "text/latex": [
       "$\\displaystyle F_{0} = 50000.0 \\text{N}$"
      ],
      "text/plain": [
       "Eq(F_0, 50000.0*newton)"
      ]
     },
     "metadata": {},
     "output_type": "display_data"
    },
    {
     "data": {
      "text/latex": [
       "$\\displaystyle M = \\frac{1000 \\text{N} \\text{s}^{2}}{\\text{m}}$"
      ],
      "text/plain": [
       "Eq(M, 1000*newton*second**2/meter)"
      ]
     },
     "metadata": {},
     "output_type": "display_data"
    },
    {
     "data": {
      "text/latex": [
       "$\\displaystyle \\zeta = 0.005$"
      ],
      "text/plain": [
       "Eq(zeta, 0.005)"
      ]
     },
     "metadata": {},
     "output_type": "display_data"
    },
    {
     "data": {
      "text/latex": [
       "$\\displaystyle \\omega = \\frac{62.8}{\\text{s}}$"
      ],
      "text/plain": [
       "Eq(omega, 62.8/second)"
      ]
     },
     "metadata": {},
     "output_type": "display_data"
    },
    {
     "data": {
      "text/latex": [
       "$\\displaystyle g = \\frac{10 \\text{m}}{\\text{s}^{2}}$"
      ],
      "text/plain": [
       "Eq(g, 10*meter/second**2)"
      ]
     },
     "metadata": {},
     "output_type": "display_data"
    },
    {
     "data": {
      "text/latex": [
       "$\\displaystyle h = 200 \\text{mm}$"
      ],
      "text/plain": [
       "Eq(h, 200*millimeter)"
      ]
     },
     "metadata": {},
     "output_type": "display_data"
    },
    {
     "data": {
      "text/latex": [
       "$\\displaystyle f_{ctm} = \\frac{2.9 \\text{N}}{\\text{mm}^{2}}$"
      ],
      "text/plain": [
       "Eq(f_ctm, 2.9*newton/millimeter**2)"
      ]
     },
     "metadata": {},
     "output_type": "display_data"
    }
   ],
   "source": [
    "rend.param_render(params)"
   ]
  },
  {
   "cell_type": "code",
   "execution_count": 6,
   "metadata": {},
   "outputs": [],
   "source": [
    "EI, l1, l2, F0, M, zeta, t, omega, g= sp.symbols(\"EI, l_1, l_2, F_0, M, zeta t omega g\")"
   ]
  },
  {
   "cell_type": "code",
   "execution_count": 7,
   "metadata": {},
   "outputs": [],
   "source": [
    "F = sp.Function(\"F\")(t)"
   ]
  },
  {
   "cell_type": "code",
   "execution_count": 8,
   "metadata": {},
   "outputs": [
    {
     "data": {
      "text/latex": [
       "$\\displaystyle F_{t} = F_{0} \\cos{\\left(\\omega t \\right)}$"
      ],
      "text/plain": [
       "Eq(F_t, F_0*cos(omega*t))"
      ]
     },
     "metadata": {},
     "output_type": "display_data"
    }
   ],
   "source": [
    "F_t = F0 * sp.cos(omega * t)\n",
    "\n",
    "rend.eq_render(locals())"
   ]
  },
  {
   "cell_type": "markdown",
   "metadata": {},
   "source": [
    "# Bestimmung der Verformung\n",
    "Anhand C4 Bemessungstafeln Seite 166."
   ]
  },
  {
   "cell_type": "code",
   "execution_count": 9,
   "metadata": {},
   "outputs": [
    {
     "data": {
      "text/latex": [
       "$\\displaystyle u_{max} = \\frac{M g l_{2} \\left(l_{1} + l_{2}\\right) \\left(- l_{1}^{2} - l_{2}^{2} + \\left(l_{1} + l_{2}\\right)^{2}\\right)}{6 EI l_{1}}$"
      ],
      "text/plain": [
       "Eq(u_max, M*g*l_2*(l_1 + l_2)*(-l_1**2 - l_2**2 + (l_1 + l_2)**2)/(6*EI*l_1))"
      ]
     },
     "metadata": {},
     "output_type": "display_data"
    }
   ],
   "source": [
    "u_max = 1 / (EI) * ((l1 + l2)**2 - l1**2-l2**2) / (6*l2*l1) *l2*M*g * 1 * l2 * (l1+l2)\n",
    "\n",
    "rend.eq_render(locals())"
   ]
  },
  {
   "cell_type": "markdown",
   "metadata": {},
   "source": [
    "# Bestimmung der Steifigkeit des Systems"
   ]
  },
  {
   "cell_type": "code",
   "execution_count": 10,
   "metadata": {},
   "outputs": [
    {
     "data": {
      "text/latex": [
       "$\\displaystyle k = \\frac{6 EI l_{1}}{l_{2} \\left(l_{1} + l_{2}\\right) \\left(- l_{1}^{2} - l_{2}^{2} + \\left(l_{1} + l_{2}\\right)^{2}\\right)}$"
      ],
      "text/plain": [
       "Eq(k, 6*EI*l_1/(l_2*(l_1 + l_2)*(-l_1**2 - l_2**2 + (l_1 + l_2)**2)))"
      ]
     },
     "metadata": {},
     "output_type": "display_data"
    }
   ],
   "source": [
    "k = M*g / u_max\n",
    "\n",
    "rend.eq_render(locals())"
   ]
  },
  {
   "cell_type": "markdown",
   "metadata": {},
   "source": [
    "# Bestimmung der Eigenkreisfrequenz\n",
    "\n",
    "Eigenkreisfrequenz und Anregungsfrequenz liegen sehr stark bei einander! Die Dämpfungskonstante beeinflusst den Vergrösserungsfaktor massgebend!"
   ]
  },
  {
   "cell_type": "code",
   "execution_count": 11,
   "metadata": {},
   "outputs": [
    {
     "data": {
      "text/latex": [
       "$\\displaystyle \\omega_{n} = \\sqrt{6} \\sqrt{\\frac{EI l_{1}}{M l_{2} \\left(l_{1} + l_{2}\\right) \\left(- l_{1}^{2} - l_{2}^{2} + \\left(l_{1} + l_{2}\\right)^{2}\\right)}}$"
      ],
      "text/plain": [
       "Eq(omega_n, sqrt(6)*sqrt(EI*l_1/(M*l_2*(l_1 + l_2)*(-l_1**2 - l_2**2 + (l_1 + l_2)**2))))"
      ]
     },
     "metadata": {},
     "output_type": "display_data"
    }
   ],
   "source": [
    "omega_n = sp.sqrt(k / M)\n",
    "\n",
    "rend.eq_render(locals())"
   ]
  },
  {
   "cell_type": "markdown",
   "metadata": {},
   "source": [
    "# Vergrösserungsfaktor "
   ]
  },
  {
   "cell_type": "code",
   "execution_count": 12,
   "metadata": {},
   "outputs": [
    {
     "data": {
      "text/latex": [
       "$\\displaystyle V_{\\omega} = \\frac{1}{\\sqrt{\\left(1 - \\frac{M l_{2} \\omega^{2} \\left(l_{1} + l_{2}\\right) \\left(- l_{1}^{2} - l_{2}^{2} + \\left(l_{1} + l_{2}\\right)^{2}\\right)}{6 EI l_{1}}\\right)^{2} + \\frac{2 M l_{2} \\omega^{2} \\zeta^{2} \\left(l_{1} + l_{2}\\right) \\left(- l_{1}^{2} - l_{2}^{2} + \\left(l_{1} + l_{2}\\right)^{2}\\right)}{3 EI l_{1}}}}$"
      ],
      "text/plain": [
       "Eq(V_omega, 1/sqrt((1 - M*l_2*omega**2*(l_1 + l_2)*(-l_1**2 - l_2**2 + (l_1 + l_2)**2)/(6*EI*l_1))**2 + 2*M*l_2*omega**2*zeta**2*(l_1 + l_2)*(-l_1**2 - l_2**2 + (l_1 + l_2)**2)/(3*EI*l_1)))"
      ]
     },
     "metadata": {},
     "output_type": "display_data"
    },
    {
     "data": {
      "text/latex": [
       "$\\displaystyle V_{\\omega } = 8.07$"
      ],
      "text/plain": [
       "Eq(V_omega_, 8.07)"
      ]
     },
     "metadata": {},
     "output_type": "display_data"
    }
   ],
   "source": [
    "V_omega = 1 / (sp.sqrt((1-(omega/omega_n)**2)**2 + (2*zeta*(omega/omega_n))**2))\n",
    "V_omega_ = conv.expr_value(V_omega, params)\n",
    "rend.eq_render(locals())"
   ]
  },
  {
   "cell_type": "markdown",
   "metadata": {},
   "source": [
    "# Maximale statische Auslenkung"
   ]
  },
  {
   "cell_type": "code",
   "execution_count": 13,
   "metadata": {},
   "outputs": [
    {
     "data": {
      "text/latex": [
       "$\\displaystyle u_{stat} = \\frac{F_{0} l_{2} \\left(l_{1} + l_{2}\\right) \\left(- l_{1}^{2} - l_{2}^{2} + \\left(l_{1} + l_{2}\\right)^{2}\\right)}{6 EI l_{1}}$"
      ],
      "text/plain": [
       "Eq(u_stat, F_0*l_2*(l_1 + l_2)*(-l_1**2 - l_2**2 + (l_1 + l_2)**2)/(6*EI*l_1))"
      ]
     },
     "metadata": {},
     "output_type": "display_data"
    },
    {
     "data": {
      "text/latex": [
       "$\\displaystyle u_{stat } = 11.1 \\text{mm}$"
      ],
      "text/plain": [
       "Eq(u_stat_, 11.1*millimeter)"
      ]
     },
     "metadata": {},
     "output_type": "display_data"
    }
   ],
   "source": [
    "u_stat = F0 / k\n",
    "u_stat_ = conv.expr_value(u_stat, params, u.mm)\n",
    "\n",
    "rend.eq_render(locals())"
   ]
  },
  {
   "cell_type": "markdown",
   "metadata": {},
   "source": [
    "# Dynamische Amplitude im stationären Fall "
   ]
  },
  {
   "cell_type": "code",
   "execution_count": 14,
   "metadata": {},
   "outputs": [
    {
     "data": {
      "text/latex": [
       "$\\displaystyle u_{dyn} = \\frac{F_{0} l_{2} \\left(l_{1} + l_{2}\\right) \\left(- l_{1}^{2} - l_{2}^{2} + \\left(l_{1} + l_{2}\\right)^{2}\\right)}{6 EI l_{1} \\sqrt{\\left(1 - \\frac{M l_{2} \\omega^{2} \\left(l_{1} + l_{2}\\right) \\left(- l_{1}^{2} - l_{2}^{2} + \\left(l_{1} + l_{2}\\right)^{2}\\right)}{6 EI l_{1}}\\right)^{2} + \\frac{2 M l_{2} \\omega^{2} \\zeta^{2} \\left(l_{1} + l_{2}\\right) \\left(- l_{1}^{2} - l_{2}^{2} + \\left(l_{1} + l_{2}\\right)^{2}\\right)}{3 EI l_{1}}}}$"
      ],
      "text/plain": [
       "Eq(u_dyn, F_0*l_2*(l_1 + l_2)*(-l_1**2 - l_2**2 + (l_1 + l_2)**2)/(6*EI*l_1*sqrt((1 - M*l_2*omega**2*(l_1 + l_2)*(-l_1**2 - l_2**2 + (l_1 + l_2)**2)/(6*EI*l_1))**2 + 2*M*l_2*omega**2*zeta**2*(l_1 + l_2)*(-l_1**2 - l_2**2 + (l_1 + l_2)**2)/(3*EI*l_1))))"
      ]
     },
     "metadata": {},
     "output_type": "display_data"
    },
    {
     "data": {
      "text/latex": [
       "$\\displaystyle u_{dyn } = 89.6 \\text{mm}$"
      ],
      "text/plain": [
       "Eq(u_dyn_, 89.6*millimeter)"
      ]
     },
     "metadata": {},
     "output_type": "display_data"
    }
   ],
   "source": [
    "u_dyn = u_stat * V_omega\n",
    "u_dyn_ = conv.expr_value(u_dyn, params, u.mm)\n",
    "rend.eq_render(locals())"
   ]
  },
  {
   "cell_type": "markdown",
   "metadata": {},
   "source": [
    "# Stationäre Antwort \n",
    "\n",
    "Durch die harmonische Anregung wird sich das System in diesen Verlauf \"einpendeln\". Es gilt jedoch zu überprüfen ob anfängliche Überlagerungen mit der transienten Antwort nicht die Fliessspannung überschreiten. Ohnehin zeigt die stationäre Lösung, dass die Gebrauchstauglichkeit nicht erfüllt ist."
   ]
  },
  {
   "cell_type": "code",
   "execution_count": 15,
   "metadata": {},
   "outputs": [
    {
     "data": {
      "text/latex": [
       "$\\displaystyle u_{p t} = \\frac{F_{0} l_{2} \\left(l_{1} + l_{2}\\right) \\left(- l_{1}^{2} - l_{2}^{2} + \\left(l_{1} + l_{2}\\right)^{2}\\right) \\cos{\\left(\\omega t \\right)}}{6 EI l_{1} \\sqrt{\\left(1 - \\frac{M l_{2} \\omega^{2} \\left(l_{1} + l_{2}\\right) \\left(- l_{1}^{2} - l_{2}^{2} + \\left(l_{1} + l_{2}\\right)^{2}\\right)}{6 EI l_{1}}\\right)^{2} + \\frac{2 M l_{2} \\omega^{2} \\zeta^{2} \\left(l_{1} + l_{2}\\right) \\left(- l_{1}^{2} - l_{2}^{2} + \\left(l_{1} + l_{2}\\right)^{2}\\right)}{3 EI l_{1}}}}$"
      ],
      "text/plain": [
       "Eq(u_p_t, F_0*l_2*(l_1 + l_2)*(-l_1**2 - l_2**2 + (l_1 + l_2)**2)*cos(omega*t)/(6*EI*l_1*sqrt((1 - M*l_2*omega**2*(l_1 + l_2)*(-l_1**2 - l_2**2 + (l_1 + l_2)**2)/(6*EI*l_1))**2 + 2*M*l_2*omega**2*zeta**2*(l_1 + l_2)*(-l_1**2 - l_2**2 + (l_1 + l_2)**2)/(3*EI*l_1))))"
      ]
     },
     "metadata": {},
     "output_type": "display_data"
    },
    {
     "data": {
      "text/latex": [
       "$\\displaystyle u_{p t } = 0.0896 \\cos{\\left(62.8 t \\right)}$"
      ],
      "text/plain": [
       "Eq(u_p_t_, 0.0896*cos(62.8*t))"
      ]
     },
     "metadata": {},
     "output_type": "display_data"
    }
   ],
   "source": [
    "u_p_t = u_dyn * sp.cos(omega * t)\n",
    "u_p_t_ = conv.expr_value(u_p_t, params_pure)\n",
    "\n",
    "rend.eq_render(locals())"
   ]
  },
  {
   "cell_type": "code",
   "execution_count": 16,
   "metadata": {},
   "outputs": [
    {
     "data": {
      "image/png": "[encoded data removed]",
      "text/plain": [
       "<Figure size 640x480 with 1 Axes>"
      ]
     },
     "metadata": {},
     "output_type": "display_data"
    }
   ],
   "source": [
    "plot_stat = sp.plot(u_p_t_, (t, 0, 0.3), title='Stationäre Antwort', adaptive = False, nb_of_points = 500, xlabel='$t$ [s]', ylabel='$f(t)$ [m]')"
   ]
  },
  {
   "cell_type": "code",
   "execution_count": 17,
   "metadata": {},
   "outputs": [],
   "source": [
    "import beton as b"
   ]
  },
  {
   "cell_type": "code",
   "execution_count": 18,
   "metadata": {},
   "outputs": [
    {
     "data": {
      "text/markdown": [
       "\n",
       "Berechnung des Rissmoments nach Skript **Karel Thoma Stahlbetonbau 2019**.\n",
       "\n",
       "$t$ entspricht der Höhe des Zuggurts"
      ],
      "text/plain": [
       "<IPython.core.display.Markdown object>"
      ]
     },
     "metadata": {},
     "output_type": "display_data"
    },
    {
     "data": {
      "text/latex": [
       "$\\displaystyle t = \\frac{h}{3}$"
      ],
      "text/plain": [
       "Eq(t, h/3)"
      ]
     },
     "metadata": {},
     "output_type": "display_data"
    },
    {
     "data": {
      "text/latex": [
       "$\\displaystyle k_{t} = \\frac{1}{1 + \\frac{h}{6 \\text{m}}}$"
      ],
      "text/plain": [
       "Eq(k_t, 1/(1 + h/(6*meter)))"
      ]
     },
     "metadata": {},
     "output_type": "display_data"
    },
    {
     "data": {
      "text/latex": [
       "$\\displaystyle f_{ctd} = \\frac{f_{ctm}}{1 + \\frac{h}{6 \\text{m}}}$"
      ],
      "text/plain": [
       "Eq(f_ctd, f_ctm/(1 + h/(6*meter)))"
      ]
     },
     "metadata": {},
     "output_type": "display_data"
    },
    {
     "data": {
      "text/latex": [
       "$\\displaystyle m_{cr} = \\frac{f_{ctm} h^{2}}{6 \\cdot \\left(1 + \\frac{h}{6 \\text{m}}\\right)}$"
      ],
      "text/plain": [
       "Eq(m_cr, f_ctm*h**2/(6*(1 + h/(6*meter))))"
      ]
     },
     "metadata": {},
     "output_type": "display_data"
    }
   ],
   "source": [
    "t, k_t, f_ctd, m_cr = b.m_cr()\n",
    "\n"
   ]
  },
  {
   "cell_type": "code",
   "execution_count": 19,
   "metadata": {},
   "outputs": [
    {
     "data": {
      "text/latex": [
       "$\\displaystyle t_{} = 66.7 \\text{mm}$"
      ],
      "text/plain": [
       "Eq(t_, 66.7*millimeter)"
      ]
     },
     "metadata": {},
     "output_type": "display_data"
    },
    {
     "data": {
      "text/latex": [
       "$\\displaystyle k_{t } = 0.968$"
      ],
      "text/plain": [
       "Eq(k_t_, 0.968)"
      ]
     },
     "metadata": {},
     "output_type": "display_data"
    },
    {
     "data": {
      "text/latex": [
       "$\\displaystyle f_{ctd } = \\frac{2.81 \\text{N}}{\\text{mm}^{2}}$"
      ],
      "text/plain": [
       "Eq(f_ctd_, 2.81*newton/millimeter**2)"
      ]
     },
     "metadata": {},
     "output_type": "display_data"
    },
    {
     "data": {
      "text/latex": [
       "$\\displaystyle m_{cr } = 1.87 \\cdot 10^{4} \\text{N}$"
      ],
      "text/plain": [
       "Eq(m_cr_, 1.87e+4*newton)"
      ]
     },
     "metadata": {},
     "output_type": "display_data"
    }
   ],
   "source": [
    "t_ = conv.expr_value(t, params, u.mm)\n",
    "k_t_ = conv.expr_value(k_t, params)\n",
    "f_ctd_ = conv.expr_value(f_ctd, params, u.N/u.mm**2)\n",
    "m_cr_ = conv.expr_value(m_cr, params, u.N)\n",
    "rend.eq_render(globals())"
   ]
  },
  {
   "cell_type": "code",
   "execution_count": 20,
   "metadata": {},
   "outputs": [],
   "source": [
    "import export as exp"
   ]
  },
  {
   "cell_type": "code",
   "execution_count": 21,
   "metadata": {},
   "outputs": [],
   "source": [
    "exp.convert_notebook(\"test.ipynb\", \"docx\")"
   ]
  }
 ],
 "metadata": {
  "kernelspec": {
   "display_name": "engineering",
   "language": "python",
   "name": "python3"
  },
  "language_info": {
   "codemirror_mode": {
    "name": "ipython",
    "version": 3
   },
   "file_extension": ".py",
   "mimetype": "text/x-python",
   "name": "python",
   "nbconvert_exporter": "python",
   "pygments_lexer": "ipython3",
   "version": "3.10.10"
  },
  "orig_nbformat": 4
 },
 "nbformat": 4,
 "nbformat_minor": 2
}
