{
 "cells": [
  {
   "cell_type": "code",
   "execution_count": 1,
   "metadata": {},
   "outputs": [],
   "source": [
    "from sympy import *"
   ]
  },
  {
   "cell_type": "code",
   "execution_count": 2,
   "metadata": {},
   "outputs": [],
   "source": [
    "\n",
    "import render \n",
    "\n",
    "import export"
   ]
  },
  {
   "cell_type": "code",
   "execution_count": 3,
   "metadata": {},
   "outputs": [],
   "source": [
    "a, b, c, d, e, f = symbols(\"a b c d e f\")"
   ]
  },
  {
   "cell_type": "code",
   "execution_count": 4,
   "metadata": {},
   "outputs": [],
   "source": [
    "T = Function(\"T\")(a)"
   ]
  },
  {
   "cell_type": "code",
   "execution_count": 5,
   "metadata": {},
   "outputs": [
    {
     "data": {
      "text/latex": [
       "$\\displaystyle s = a b c$"
      ],
      "text/plain": [
       "Eq(s, a*b*c)"
      ]
     },
     "metadata": {},
     "output_type": "display_data"
    },
    {
     "data": {
      "text/latex": [
       "$\\displaystyle V_{\\omega} = \\frac{a \\sqrt{c}}{b}$"
      ],
      "text/plain": [
       "Eq(V_omega, a*sqrt(c)/b)"
      ]
     },
     "metadata": {},
     "output_type": "display_data"
    },
    {
     "data": {
      "text/latex": [
       "$\\displaystyle q = V_{\\omega} s$"
      ],
      "text/plain": [
       "Eq(q, V_omega*s)"
      ]
     },
     "metadata": {},
     "output_type": "display_data"
    },
    {
     "data": {
      "text/latex": [
       "$\\displaystyle q = a^{2} c^{\\frac{3}{2}}$"
      ],
      "text/plain": [
       "Eq(q, a**2*c**(3/2))"
      ]
     },
     "metadata": {},
     "output_type": "display_data"
    },
    {
     "data": {
      "text/latex": [
       "$\\displaystyle T = a^{2}$"
      ],
      "text/plain": [
       "Eq(T, a**2)"
      ]
     },
     "metadata": {},
     "output_type": "display_data"
    },
    {
     "data": {
      "text/latex": [
       "$\\displaystyle DGL_{Biegetrager} = q = \\frac{d^{4}}{d a^{4}} T$"
      ],
      "text/plain": [
       "Eq(DGL_Biegetrager, Eq(q, Derivative(T, (a, 4))))"
      ]
     },
     "metadata": {},
     "output_type": "display_data"
    },
    {
     "data": {
      "text/latex": [
       "$\\displaystyle DGL_{Biegetrager} = a^{2} c^{\\frac{3}{2}} = \\frac{d^{4}}{d a^{4}} a^{2}$"
      ],
      "text/plain": [
       "Eq(DGL_Biegetrager, Eq(a**2*c**(3/2), Derivative(a**2, (a, 4))))"
      ]
     },
     "metadata": {},
     "output_type": "display_data"
    }
   ],
   "source": [
    "s = a * b * c \n",
    "V_omega = 1 * a / b *sqrt(c)\n",
    "q = s * V_omega\n",
    "T = a **2\n",
    "DGL_Biegetrager = Eq(q, Derivative(T,a,a,a,a))\n",
    "\n",
    "render.eq_render(locals())"
   ]
  },
  {
   "cell_type": "code",
   "execution_count": 6,
   "metadata": {},
   "outputs": [
    {
     "data": {
      "text/latex": [
       "$\\displaystyle GL_{1} = 0 = a + b$"
      ],
      "text/plain": [
       "Eq(GL1, Eq(0, a + b))"
      ]
     },
     "metadata": {},
     "output_type": "display_data"
    },
    {
     "data": {
      "text/latex": [
       "$\\displaystyle GL_{2} = a + c$"
      ],
      "text/plain": [
       "Eq(GL2, a + c)"
      ]
     },
     "metadata": {},
     "output_type": "display_data"
    },
    {
     "data": {
      "text/latex": [
       "$\\displaystyle GL_{3} = b + c$"
      ],
      "text/plain": [
       "Eq(GL3, b + c)"
      ]
     },
     "metadata": {},
     "output_type": "display_data"
    }
   ],
   "source": [
    "GL1 = Eq(0,a + b)\n",
    "GL2 = a + c\n",
    "GL3 = b+c\n",
    "\n",
    "render.eq_render(locals())"
   ]
  },
  {
   "cell_type": "code",
   "execution_count": 7,
   "metadata": {},
   "outputs": [
    {
     "data": {
      "text/latex": [
       "$\\displaystyle a = 0$"
      ],
      "text/plain": [
       "Eq(a, 0)"
      ]
     },
     "metadata": {},
     "output_type": "display_data"
    },
    {
     "data": {
      "text/latex": [
       "$\\displaystyle b = 0$"
      ],
      "text/plain": [
       "Eq(b, 0)"
      ]
     },
     "metadata": {},
     "output_type": "display_data"
    },
    {
     "data": {
      "text/latex": [
       "$\\displaystyle c = 0$"
      ],
      "text/plain": [
       "Eq(c, 0)"
      ]
     },
     "metadata": {},
     "output_type": "display_data"
    }
   ],
   "source": [
    "\n",
    "solve_set = solve([GL1, GL2, GL3],[a,b,c], dict=True)[0]\n",
    "\n",
    "render.dict_render(solve_set)"
   ]
  },
  {
   "cell_type": "code",
   "execution_count": 8,
   "metadata": {},
   "outputs": [],
   "source": [
    "export.convert_notebook(\"test.ipynb\", \"docx\")"
   ]
  }
 ],
 "metadata": {
  "kernelspec": {
   "display_name": "engineering",
   "language": "python",
   "name": "python3"
  },
  "language_info": {
   "codemirror_mode": {
    "name": "ipython",
    "version": 3
   },
   "file_extension": ".py",
   "mimetype": "text/x-python",
   "name": "python",
   "nbconvert_exporter": "python",
   "pygments_lexer": "ipython3",
   "version": "3.10.10"
  },
  "orig_nbformat": 4
 },
 "nbformat": 4,
 "nbformat_minor": 2
}
