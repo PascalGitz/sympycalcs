{
 "cells": [
  {
   "cell_type": "code",
   "execution_count": 1,
   "metadata": {},
   "outputs": [],
   "source": [
    "import sympy as sp"
   ]
  },
  {
   "cell_type": "code",
   "execution_count": 2,
   "metadata": {},
   "outputs": [],
   "source": [
    "import sympy.physics.units as u"
   ]
  },
  {
   "cell_type": "code",
   "execution_count": 3,
   "metadata": {},
   "outputs": [],
   "source": [
    "import render \n",
    "\n",
    "import export"
   ]
  },
  {
   "cell_type": "code",
   "execution_count": 4,
   "metadata": {},
   "outputs": [],
   "source": [
    "a, b, c, d, e, f = sp.symbols(\"a b c d e f\")"
   ]
  },
  {
   "cell_type": "code",
   "execution_count": 5,
   "metadata": {},
   "outputs": [],
   "source": [
    "params = {\"a\":2*u.m,\n",
    "          \"b\":3 *u.N, \n",
    "          \"c\":4 * u.N*u.m,\n",
    "          \"d\":20*u.seconds,\n",
    "          \"e\":10 *u.N/u.m**2,\n",
    "          \"f\":20}"
   ]
  },
  {
   "cell_type": "code",
   "execution_count": 6,
   "metadata": {},
   "outputs": [],
   "source": [
    "T = sp.Function(\"T\")(a)"
   ]
  },
  {
   "cell_type": "code",
   "execution_count": 7,
   "metadata": {},
   "outputs": [
    {
     "data": {
      "text/latex": [
       "$\\displaystyle s = a b c$"
      ],
      "text/plain": [
       "Eq(s, a*b*c)"
      ]
     },
     "metadata": {},
     "output_type": "display_data"
    },
    {
     "data": {
      "text/latex": [
       "$\\displaystyle s = 24 \\text{m}^{2} \\text{N}^{2}$"
      ],
      "text/plain": [
       "Eq(s, 24*meter**2*newton**2)"
      ]
     },
     "metadata": {},
     "output_type": "display_data"
    },
    {
     "data": {
      "text/latex": [
       "$\\displaystyle V_{\\omega} = \\frac{a \\sqrt{c}}{b}$"
      ],
      "text/plain": [
       "Eq(V_omega, a*sqrt(c)/b)"
      ]
     },
     "metadata": {},
     "output_type": "display_data"
    },
    {
     "data": {
      "text/latex": [
       "$\\displaystyle V_{\\omega} = \\frac{4 \\text{m}^{\\frac{3}{2}}}{3 \\sqrt{\\text{N}}}$"
      ],
      "text/plain": [
       "Eq(V_omega, 4*meter**(3/2)/(3*sqrt(newton)))"
      ]
     },
     "metadata": {},
     "output_type": "display_data"
    },
    {
     "data": {
      "text/latex": [
       "$\\displaystyle q = V_{\\omega} s$"
      ],
      "text/plain": [
       "Eq(q, V_omega*s)"
      ]
     },
     "metadata": {},
     "output_type": "display_data"
    },
    {
     "data": {
      "text/latex": [
       "$\\displaystyle q = a^{2} c^{\\frac{3}{2}}$"
      ],
      "text/plain": [
       "Eq(q, a**2*c**(3/2))"
      ]
     },
     "metadata": {},
     "output_type": "display_data"
    },
    {
     "data": {
      "text/latex": [
       "$\\displaystyle q = 32 \\text{m}^{\\frac{7}{2}} \\text{N}^{\\frac{3}{2}}$"
      ],
      "text/plain": [
       "Eq(q, 32*meter**(7/2)*newton**(3/2))"
      ]
     },
     "metadata": {},
     "output_type": "display_data"
    }
   ],
   "source": [
    "s = a * b * c \n",
    "V_omega = 1 * a / b *sp.sqrt(c)\n",
    "q = s * V_omega\n",
    "\n",
    "s_, V_omega_, q_ = render.eq_render(locals(), params)\n"
   ]
  },
  {
   "cell_type": "code",
   "execution_count": 9,
   "metadata": {},
   "outputs": [
    {
     "data": {
      "text/latex": [
       "$\\displaystyle T = a^{2}$"
      ],
      "text/plain": [
       "Eq(T, a**2)"
      ]
     },
     "metadata": {},
     "output_type": "display_data"
    },
    {
     "data": {
      "text/latex": [
       "$\\displaystyle T = 4 \\text{m}^{2}$"
      ],
      "text/plain": [
       "Eq(T, 4*meter**2)"
      ]
     },
     "metadata": {},
     "output_type": "display_data"
    },
    {
     "data": {
      "text/latex": [
       "$\\displaystyle DGL_{Biegetrager} = q = \\frac{d^{4}}{d a^{4}} T$"
      ],
      "text/plain": [
       "Eq(DGL_Biegetrager, Eq(q, Derivative(T, (a, 4))))"
      ]
     },
     "metadata": {},
     "output_type": "display_data"
    },
    {
     "data": {
      "text/latex": [
       "$\\displaystyle DGL_{Biegetrager} = a^{2} c^{\\frac{3}{2}} = \\frac{d^{4}}{d a^{4}} a^{2}$"
      ],
      "text/plain": [
       "Eq(DGL_Biegetrager, Eq(a**2*c**(3/2), Derivative(a**2, (a, 4))))"
      ]
     },
     "metadata": {},
     "output_type": "display_data"
    },
    {
     "data": {
      "text/latex": [
       "$\\displaystyle DGL_{Biegetrager} = 32 \\text{m}^{\\frac{7}{2}} \\text{N}^{\\frac{3}{2}} = \\left. \\frac{d^{4}}{d a^{4}} a^{2} \\right|_{\\substack{ a=2 \\text{m} }}$"
      ],
      "text/plain": [
       "Eq(DGL_Biegetrager, Eq(32*meter**(7/2)*newton**(3/2), Subs(Derivative(a**2, (a, 4)), a, 2*meter)))"
      ]
     },
     "metadata": {},
     "output_type": "display_data"
    }
   ],
   "source": [
    "T = a **2\n",
    "DGL_Biegetrager = sp.Eq(q, sp.Derivative(T,a,a,a,a))\n",
    "\n",
    "T_,DGL_Biegetrager_= render.eq_render(locals(), params)"
   ]
  },
  {
   "cell_type": "code",
   "execution_count": 10,
   "metadata": {},
   "outputs": [
    {
     "data": {
      "text/latex": [
       "$\\displaystyle 32 \\text{m}^{\\frac{7}{2}} \\text{N}^{\\frac{3}{2}} = \\left. \\frac{d^{4}}{d a^{4}} a^{2} \\right|_{\\substack{ a=2 \\text{m} }}$"
      ],
      "text/plain": [
       "Eq(32*meter**(7/2)*newton**(3/2), Subs(Derivative(a**2, (a, 4)), a, 2*meter))"
      ]
     },
     "execution_count": 10,
     "metadata": {},
     "output_type": "execute_result"
    }
   ],
   "source": [
    "DGL_Biegetrager_"
   ]
  },
  {
   "cell_type": "code",
   "execution_count": 12,
   "metadata": {},
   "outputs": [
    {
     "data": {
      "text/latex": [
       "$\\displaystyle GL_{1} = 0 = a + b$"
      ],
      "text/plain": [
       "Eq(GL1, Eq(0, a + b))"
      ]
     },
     "metadata": {},
     "output_type": "display_data"
    },
    {
     "data": {
      "text/latex": [
       "$\\displaystyle GL_{1} = \\text{False}$"
      ],
      "text/plain": [
       "Eq(GL1, False)"
      ]
     },
     "metadata": {},
     "output_type": "display_data"
    },
    {
     "data": {
      "text/latex": [
       "$\\displaystyle GL_{2} = a + c$"
      ],
      "text/plain": [
       "Eq(GL2, a + c)"
      ]
     },
     "metadata": {},
     "output_type": "display_data"
    },
    {
     "data": {
      "text/latex": [
       "$\\displaystyle GL_{2} = 4 \\text{m} \\text{N} + 2 \\text{m}$"
      ],
      "text/plain": [
       "Eq(GL2, 4*meter*newton + 2*meter)"
      ]
     },
     "metadata": {},
     "output_type": "display_data"
    },
    {
     "data": {
      "text/latex": [
       "$\\displaystyle GL_{3} = b + c$"
      ],
      "text/plain": [
       "Eq(GL3, b + c)"
      ]
     },
     "metadata": {},
     "output_type": "display_data"
    },
    {
     "data": {
      "text/latex": [
       "$\\displaystyle GL_{3} = 4 \\text{m} \\text{N} + 3 \\text{N}$"
      ],
      "text/plain": [
       "Eq(GL3, 4*meter*newton + 3*newton)"
      ]
     },
     "metadata": {},
     "output_type": "display_data"
    }
   ],
   "source": [
    "GL1 = sp.Eq(0,a + b)\n",
    "GL2 = a + c\n",
    "GL3 = b+c\n",
    "\n",
    "GL1_, GL2_, GL3_ = render.eq_render(locals(), params)"
   ]
  },
  {
   "cell_type": "code",
   "execution_count": 13,
   "metadata": {},
   "outputs": [
    {
     "data": {
      "text/latex": [
       "$\\displaystyle a = 0$"
      ],
      "text/plain": [
       "Eq(a, 0)"
      ]
     },
     "metadata": {},
     "output_type": "display_data"
    },
    {
     "data": {
      "text/latex": [
       "$\\displaystyle b = 0$"
      ],
      "text/plain": [
       "Eq(b, 0)"
      ]
     },
     "metadata": {},
     "output_type": "display_data"
    },
    {
     "data": {
      "text/latex": [
       "$\\displaystyle c = 0$"
      ],
      "text/plain": [
       "Eq(c, 0)"
      ]
     },
     "metadata": {},
     "output_type": "display_data"
    }
   ],
   "source": [
    "\n",
    "solve_set = sp.solve([GL1, GL2, GL3],[a,b,c], dict=True)[0]\n",
    "\n",
    "render.dict_render(solve_set)"
   ]
  },
  {
   "cell_type": "code",
   "execution_count": null,
   "metadata": {},
   "outputs": [],
   "source": [
    "# export.convert_notebook(\"test.ipynb\", \"docx\")"
   ]
  }
 ],
 "metadata": {
  "kernelspec": {
   "display_name": "engineering",
   "language": "python",
   "name": "python3"
  },
  "language_info": {
   "codemirror_mode": {
    "name": "ipython",
    "version": 3
   },
   "file_extension": ".py",
   "mimetype": "text/x-python",
   "name": "python",
   "nbconvert_exporter": "python",
   "pygments_lexer": "ipython3",
   "version": "3.10.10"
  },
  "orig_nbformat": 4
 },
 "nbformat": 4,
 "nbformat_minor": 2
}
