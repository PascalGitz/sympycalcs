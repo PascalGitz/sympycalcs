{
 "cells": [
  {
   "cell_type": "code",
   "execution_count": 2,
   "id": "15e8b4d0-c3f3-47e6-9e46-cbcacdb92331",
   "metadata": {},
   "outputs": [
    {
     "name": "stdout",
     "output_type": "stream",
     "text": [
      "* Creating venv isolated environment...\n",
      "* Installing packages in isolated environment... (setuptools >= 40.8.0, wheel)\n",
      "* Getting build dependencies for wheel...\n",
      "running egg_info\n",
      "writing sympycalcs.egg-info\\PKG-INFO\n",
      "writing dependency_links to sympycalcs.egg-info\\dependency_links.txt\n",
      "writing top-level names to sympycalcs.egg-info\\top_level.txt\n",
      "reading manifest file 'sympycalcs.egg-info\\SOURCES.txt'\n",
      "writing manifest file 'sympycalcs.egg-info\\SOURCES.txt'\n",
      "* Installing packages in isolated environment... (wheel)\n",
      "* Building wheel...\n",
      "running bdist_wheel\n",
      "running build\n",
      "running build_py\n",
      "copying sympycalcs\\convert.py -> build\\lib\\sympycalcs\n",
      "installing to build\\bdist.win-amd64\\wheel\n",
      "running install\n",
      "running install_lib\n",
      "creating build\\bdist.win-amd64\\wheel\n",
      "creating build\\bdist.win-amd64\\wheel\\sympycalcs\n",
      "copying build\\lib\\sympycalcs\\beton.py -> build\\bdist.win-amd64\\wheel\\.\\sympycalcs\n",
      "copying build\\lib\\sympycalcs\\convert.py -> build\\bdist.win-amd64\\wheel\\.\\sympycalcs\n",
      "copying build\\lib\\sympycalcs\\export.py -> build\\bdist.win-amd64\\wheel\\.\\sympycalcs\n",
      "copying build\\lib\\sympycalcs\\render.py -> build\\bdist.win-amd64\\wheel\\.\\sympycalcs\n",
      "copying build\\lib\\sympycalcs\\__init__.py -> build\\bdist.win-amd64\\wheel\\.\\sympycalcs\n",
      "running install_egg_info\n",
      "running egg_info\n",
      "writing sympycalcs.egg-info\\PKG-INFO\n",
      "writing dependency_links to sympycalcs.egg-info\\dependency_links.txt\n",
      "writing top-level names to sympycalcs.egg-info\\top_level.txt\n",
      "reading manifest file 'sympycalcs.egg-info\\SOURCES.txt'\n",
      "writing manifest file 'sympycalcs.egg-info\\SOURCES.txt'\n",
      "Copying sympycalcs.egg-info to build\\bdist.win-amd64\\wheel\\.\\sympycalcs-0.1.0-py3.10.egg-info\n",
      "running install_scripts\n",
      "creating build\\bdist.win-amd64\\wheel\\sympycalcs-0.1.0.dist-info\\WHEEL\n",
      "creating 'C:\\Users\\Pascal Gitz\\OneDrive - Hochschule Luzern\\Dokumente\\sympycalcs\\dist\\.tmp-3f888avs\\sympycalcs-0.1.0-py3-none-any.whl' and adding 'build\\bdist.win-amd64\\wheel' to it\n",
      "adding 'sympycalcs/__init__.py'\n",
      "adding 'sympycalcs/beton.py'\n",
      "adding 'sympycalcs/convert.py'\n",
      "adding 'sympycalcs/export.py'\n",
      "adding 'sympycalcs/render.py'\n",
      "adding 'sympycalcs-0.1.0.dist-info/METADATA'\n",
      "adding 'sympycalcs-0.1.0.dist-info/WHEEL'\n",
      "adding 'sympycalcs-0.1.0.dist-info/top_level.txt'\n",
      "adding 'sympycalcs-0.1.0.dist-info/RECORD'\n",
      "removing build\\bdist.win-amd64\\wheel\n",
      "Successfully built sympycalcs-0.1.0-py3-none-any.whl\n",
      "Processing c:\\users\\pascal gitz\\onedrive - hochschule luzern\\dokumente\\sympycalcs\\dist\\sympycalcs-0.1.0-py3-none-any.whl\n",
      "Installing collected packages: sympycalcs\n",
      "  Attempting uninstall: sympycalcs\n",
      "    Found existing installation: sympycalcs 0.1.0\n",
      "    Uninstalling sympycalcs-0.1.0:\n",
      "      Successfully uninstalled sympycalcs-0.1.0\n",
      "Successfully installed sympycalcs-0.1.0\n"
     ]
    }
   ],
   "source": [
    "!python -m build --wheel\n",
    "!pip install dist/sympycalcs-0.1.0-py3-none-any.whl --force-reinstall"
   ]
  }
 ],
 "metadata": {
  "kernelspec": {
   "display_name": "Python 3 (ipykernel)",
   "language": "python",
   "name": "python3"
  },
  "language_info": {
   "codemirror_mode": {
    "name": "ipython",
    "version": 3
   },
   "file_extension": ".py",
   "mimetype": "text/x-python",
   "name": "python",
   "nbconvert_exporter": "python",
   "pygments_lexer": "ipython3",
   "version": "3.10.12"
  }
 },
 "nbformat": 4,
 "nbformat_minor": 5
}
