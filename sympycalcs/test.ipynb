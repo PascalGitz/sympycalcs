{
 "cells": [
  {
   "cell_type": "code",
   "execution_count": 1,
   "metadata": {},
   "outputs": [],
   "source": [
    "import sympy as sp"
   ]
  },
  {
   "cell_type": "code",
   "execution_count": 2,
   "metadata": {},
   "outputs": [],
   "source": [
    "import sympy.physics.units as u"
   ]
  },
  {
   "cell_type": "code",
   "execution_count": 3,
   "metadata": {},
   "outputs": [],
   "source": [
    "import render \n",
    "\n",
    "import export"
   ]
  },
  {
   "attachments": {},
   "cell_type": "markdown",
   "metadata": {},
   "source": [
    "# Test\n",
    "testtesttesttesttesttesttesttesttestesttesttesttesttesttesttesttesttesttest\\\n",
    "ttesttesttesttesttesttesttesttesttesttesttesttesttesttesttesttesttesttesttest\\\n",
    "testtesttesttesttesttesttesttesttesttestestesttesttesttesttesttesttesttesttesttest\\ttesttesttesttesttesttesttesttesttest\\\n",
    "ttesttesttesttesttesttesttesttesttest\n",
    "testtesttesttesttesttesttesttesttesttestesttesttesttesttesttesttesttesttesttest\\\n",
    "ttesttesttesttesttesttesttesttesttesttesttesttesttesttesttesttesttesttesttest\\\n",
    "testtesttesttesttesttesttesttesttestttesttesttesttesttesttesttesttesttesttest\\\n",
    "esttesttesttesttesttesttesttesttesttetesttesttesttesttesttesttesttesttesttest\\\n",
    "testtesttesttesttesttesttesttesttesttest\\\n",
    "\n",
    "testtesttesttesttesttesttesttesttesttest\\\n",
    "testtesttesttesttesttesttesttesttesttest\\\n",
    "\n",
    "testtesttesttesttesttesttesttesttesttest\\\n",
    "ttesttesttesttesttesttesttesttesttesttesttesttesttesttesttesttesttesttestte\n",
    "sttesttesttesttesttesttesttesttesttesttesttesttesttesttest\n",
    "\n",
    "testtesttesttesttesttesttesttesttesttesttesttesttesttesttesttesttesttesttesttesttesttesttesttesttesttesttesttesttesttesttesttesttesttesttesttesttesttesttesttesttesttesttesttesttesttesttesttesttesttesttesttesttesttesttesttesttesttesttesttesttesttesttesttesttesttesttest\\\n",
    "testtesttesttesttesttesttesttesttesttesttesttesttesttesttesttesttesttesttesttesttesttesttesttesttesttesttesttesttesttesttesttesttest\n",
    "testtesttesttesttesttesttesttesttesttesttesttesttesttesttesttesttesttesttesttesttesttesttesttesttesttesttesttesttesttesttesttesttesttesttesttesttesttesttesttesttesttesttesttesttesttesttesttesttesttesttesttesttesttesttesttesttesttesttesttesttesttesttesttesttesttesttesttesttesttesttesttesttesttesttesttesttesttesttesttesttesttesttesttesttesttesttesttesttesttesttesttesttesttesttesttesttesttesttesttest\n",
    "\n",
    "![test](test.jpg){#fig:test}\n",
    "\n",
    "testtesttesttesttesttesttesttesttesttesttesttesttesttesttesttesttesttesttesttesttesttesttesttesttesttesttesttesttesttesttesttesttesttesttesttesttesttesttesttesttesttesttesttesttesttesttesttesttesttesttesttesttesttesttesttesttesttesttesttesttesttesttesttesttesttesttesttesttesttesttesttesttesttesttesttesttesttesttesttesttesttesttesttesttesttesttesttesttesttesttesttesttesttesttesttesttesttesttesttest\n",
    "testtesttesttesttesttesttesttesttesttesttesttesttesttesttesttesttesttesttesttesttesttesttesttesttesttesttesttesttesttesttesttesttesttesttesttesttesttesttesttesttesttesttesttesttesttesttesttesttesttesttesttesttesttesttesttesttesttesttesttesttesttesttesttesttesttesttesttesttesttesttesttesttesttesttesttesttesttesttesttesttesttesttesttesttesttesttesttesttesttesttesttesttesttesttesttesttesttesttesttest"
   ]
  },
  {
   "cell_type": "code",
   "execution_count": 4,
   "metadata": {},
   "outputs": [],
   "source": [
    "a, b, c, d, e, f = sp.symbols(\"a b c d e f\")"
   ]
  },
  {
   "cell_type": "code",
   "execution_count": 5,
   "metadata": {},
   "outputs": [],
   "source": [
    "params = {\"a\":2*u.m,\n",
    "          \"b\":3 , \n",
    "}"
   ]
  },
  {
   "cell_type": "code",
   "execution_count": 6,
   "metadata": {},
   "outputs": [],
   "source": [
    "T = sp.Function(\"T\")(a)"
   ]
  },
  {
   "cell_type": "code",
   "execution_count": 7,
   "metadata": {},
   "outputs": [
    {
     "data": {
      "text/latex": [
       "$\\displaystyle s = a b c$"
      ],
      "text/plain": [
       "Eq(s, a*b*c)"
      ]
     },
     "metadata": {},
     "output_type": "display_data"
    },
    {
     "data": {
      "text/latex": [
       "$\\displaystyle s = 60.0 c \\text{dm}$"
      ],
      "text/plain": [
       "Eq(s, 60.0*decimeter*c)"
      ]
     },
     "metadata": {},
     "output_type": "display_data"
    },
    {
     "data": {
      "text/latex": [
       "$\\displaystyle V_{\\omega} = \\frac{a \\sqrt{c}}{b}$"
      ],
      "text/plain": [
       "Eq(V_omega, a*sqrt(c)/b)"
      ]
     },
     "metadata": {},
     "output_type": "display_data"
    },
    {
     "data": {
      "text/latex": [
       "$\\displaystyle V_{\\omega} = 0.667 c^{0.5} \\text{m}$"
      ],
      "text/plain": [
       "Eq(V_omega, 0.667*meter*c**0.5)"
      ]
     },
     "metadata": {},
     "output_type": "display_data"
    },
    {
     "data": {
      "text/latex": [
       "$\\displaystyle q = V_{\\omega} s$"
      ],
      "text/plain": [
       "Eq(q, V_omega*s)"
      ]
     },
     "metadata": {},
     "output_type": "display_data"
    },
    {
     "data": {
      "text/latex": [
       "$\\displaystyle q = a^{2} c^{\\frac{3}{2}}$"
      ],
      "text/plain": [
       "Eq(q, a**2*c**(3/2))"
      ]
     },
     "metadata": {},
     "output_type": "display_data"
    },
    {
     "data": {
      "text/latex": [
       "$\\displaystyle q = 4.0 c^{1.5} \\text{m}^{2}$"
      ],
      "text/plain": [
       "Eq(q, 4.0*meter**2*c**1.5)"
      ]
     },
     "metadata": {},
     "output_type": "display_data"
    }
   ],
   "source": [
    "s = a * b * c \n",
    "V_omega = 1 * a / b *sp.sqrt(c)\n",
    "q = s * V_omega\n",
    "\n",
    "s_, V_omega_, q_ = render.eq_render(\n",
    "                 locals(), \n",
    "                 raw_input=True, \n",
    "                 parameters=params, \n",
    "                 units=[u.decimeter]\n",
    "                 )\n"
   ]
  },
  {
   "cell_type": "code",
   "execution_count": 8,
   "metadata": {},
   "outputs": [
    {
     "data": {
      "text/latex": [
       "$\\displaystyle T = a^{2}$"
      ],
      "text/plain": [
       "Eq(T, a**2)"
      ]
     },
     "metadata": {},
     "output_type": "display_data"
    },
    {
     "data": {
      "text/latex": [
       "$\\displaystyle DGL_{Biegetrager} = q = \\frac{d^{4}}{d a^{4}} T$"
      ],
      "text/plain": [
       "Eq(DGL_Biegetrager, Eq(q, Derivative(T, (a, 4))))"
      ]
     },
     "metadata": {},
     "output_type": "display_data"
    },
    {
     "data": {
      "text/latex": [
       "$\\displaystyle DGL_{Biegetrager} = a^{2} c^{\\frac{3}{2}} = \\frac{d^{4}}{d a^{4}} a^{2}$"
      ],
      "text/plain": [
       "Eq(DGL_Biegetrager, Eq(a**2*c**(3/2), Derivative(a**2, (a, 4))))"
      ]
     },
     "metadata": {},
     "output_type": "display_data"
    }
   ],
   "source": [
    "T = a **2\n",
    "DGL_Biegetrager = sp.Eq(q, sp.Derivative(T,a,a,a,a))\n",
    "\n",
    "render.eq_render(locals())"
   ]
  },
  {
   "cell_type": "code",
   "execution_count": 12,
   "metadata": {},
   "outputs": [
    {
     "data": {
      "text/latex": [
       "$\\displaystyle GL_{1} = a + b$"
      ],
      "text/plain": [
       "Eq(GL1, a + b)"
      ]
     },
     "metadata": {},
     "output_type": "display_data"
    },
    {
     "data": {
      "text/latex": [
       "$\\displaystyle GL_{1} = 2.0 \\text{m} + 3.0$"
      ],
      "text/plain": [
       "Eq(GL1, 2.0*meter + 3.0)"
      ]
     },
     "metadata": {},
     "output_type": "display_data"
    },
    {
     "data": {
      "text/latex": [
       "$\\displaystyle GL_{2} = 2 GL_{1}$"
      ],
      "text/plain": [
       "Eq(GL2, 2*GL1)"
      ]
     },
     "metadata": {},
     "output_type": "display_data"
    },
    {
     "data": {
      "text/latex": [
       "$\\displaystyle GL_{2} = 2 a + 2 b$"
      ],
      "text/plain": [
       "Eq(GL2, 2*a + 2*b)"
      ]
     },
     "metadata": {},
     "output_type": "display_data"
    },
    {
     "data": {
      "text/latex": [
       "$\\displaystyle GL_{2} = 4.0 \\text{m} + 6.0$"
      ],
      "text/plain": [
       "Eq(GL2, 4.0*meter + 6.0)"
      ]
     },
     "metadata": {},
     "output_type": "display_data"
    }
   ],
   "source": [
    "GL1 = a + b \n",
    "GL2 = GL1*2\n",
    "\n",
    "GL1_, GL2_= render.eq_render(globals(), params)"
   ]
  },
  {
   "cell_type": "code",
   "execution_count": 13,
   "metadata": {},
   "outputs": [
    {
     "data": {
      "text/latex": [
       "$\\displaystyle 2.0 \\text{m} + 3.0$"
      ],
      "text/plain": [
       "2.0*meter + 3.0"
      ]
     },
     "execution_count": 13,
     "metadata": {},
     "output_type": "execute_result"
    }
   ],
   "source": [
    "GL1_"
   ]
  },
  {
   "cell_type": "code",
   "execution_count": 10,
   "metadata": {},
   "outputs": [
    {
     "ename": "NameError",
     "evalue": "name 'GL3' is not defined",
     "output_type": "error",
     "traceback": [
      "\u001b[1;31m---------------------------------------------------------------------------\u001b[0m",
      "\u001b[1;31mNameError\u001b[0m                                 Traceback (most recent call last)",
      "Cell \u001b[1;32mIn[10], line 1\u001b[0m\n\u001b[1;32m----> 1\u001b[0m solve_set \u001b[39m=\u001b[39m sp\u001b[39m.\u001b[39msolve([GL1, GL2, GL3],[a,b,c], \u001b[39mdict\u001b[39m\u001b[39m=\u001b[39m\u001b[39mTrue\u001b[39;00m)[\u001b[39m0\u001b[39m]\n\u001b[0;32m      3\u001b[0m render\u001b[39m.\u001b[39mdict_render(solve_set)\n",
      "\u001b[1;31mNameError\u001b[0m: name 'GL3' is not defined"
     ]
    }
   ],
   "source": [
    "\n",
    "solve_set = sp.solve([GL1, GL2, GL3],[a,b,c], dict=True)[0]\n",
    "\n",
    "render.dict_render(solve_set)"
   ]
  },
  {
   "cell_type": "code",
   "execution_count": null,
   "metadata": {},
   "outputs": [],
   "source": [
    "export.convert_notebook(\"test.ipynb\", \"tex\", standalone=True)"
   ]
  }
 ],
 "metadata": {
  "kernelspec": {
   "display_name": "engineering",
   "language": "python",
   "name": "python3"
  },
  "language_info": {
   "codemirror_mode": {
    "name": "ipython",
    "version": 3
   },
   "file_extension": ".py",
   "mimetype": "text/x-python",
   "name": "python",
   "nbconvert_exporter": "python",
   "pygments_lexer": "ipython3",
   "version": "3.10.10"
  },
  "orig_nbformat": 4
 },
 "nbformat": 4,
 "nbformat_minor": 2
}
