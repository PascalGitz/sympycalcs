{
 "cells": [
  {
   "cell_type": "code",
   "execution_count": 1,
   "metadata": {},
   "outputs": [],
   "source": [
    "import sympy as sp"
   ]
  },
  {
   "cell_type": "code",
   "execution_count": 2,
   "metadata": {},
   "outputs": [],
   "source": [
    "import sympy.physics.units as u"
   ]
  },
  {
   "cell_type": "code",
   "execution_count": 3,
   "metadata": {},
   "outputs": [],
   "source": [
    "import render \n",
    "\n",
    "import export"
   ]
  },
  {
   "attachments": {},
   "cell_type": "markdown",
   "metadata": {},
   "source": [
    "# Test\n",
    "testtesttesttesttesttesttesttesttestesttesttesttesttesttesttesttesttesttest\\\n",
    "ttesttesttesttesttesttesttesttesttesttesttesttesttesttesttesttesttesttesttest\\\n",
    "testtesttesttesttesttesttesttesttesttestestesttesttesttesttesttesttesttesttesttest\\ttesttesttesttesttesttesttesttesttest\\\n",
    "ttesttesttesttesttesttesttesttesttest\n",
    "testtesttesttesttesttesttesttesttesttestesttesttesttesttesttesttesttesttesttest\\\n",
    "ttesttesttesttesttesttesttesttesttesttesttesttesttesttesttesttesttesttesttest\\\n",
    "testtesttesttesttesttesttesttesttestttesttesttesttesttesttesttesttesttesttest\\\n",
    "esttesttesttesttesttesttesttesttesttetesttesttesttesttesttesttesttesttesttest\\\n",
    "testtesttesttesttesttesttesttesttesttest\\\n",
    "\n",
    "testtesttesttesttesttesttesttesttesttest\\\n",
    "testtesttesttesttesttesttesttesttesttest\\\n",
    "\n",
    "testtesttesttesttesttesttesttesttesttest\\\n",
    "ttesttesttesttesttesttesttesttesttesttesttesttesttesttesttesttesttesttestte\n",
    "sttesttesttesttesttesttesttesttesttesttesttesttesttesttest\n",
    "\n",
    "testtesttesttesttesttesttesttesttesttesttesttesttesttesttesttesttesttesttesttesttesttesttesttesttesttesttesttesttesttesttesttesttesttesttesttesttesttesttesttesttesttesttesttesttesttesttesttesttesttesttesttesttesttesttesttesttesttesttesttesttesttesttesttesttesttesttest\\\n",
    "testtesttesttesttesttesttesttesttesttesttesttesttesttesttesttesttesttesttesttesttesttesttesttesttesttesttesttesttesttesttesttesttest\n",
    "testtesttesttesttesttesttesttesttesttesttesttesttesttesttesttesttesttesttesttesttesttesttesttesttesttesttesttesttesttesttesttesttesttesttesttesttesttesttesttesttesttesttesttesttesttesttesttesttesttesttesttesttesttesttesttesttesttesttesttesttesttesttesttesttesttesttesttesttesttesttesttesttesttesttesttesttesttesttesttesttesttesttesttesttesttesttesttesttesttesttesttesttesttesttesttesttesttesttesttest\n",
    "\n",
    "![test](test.jpg){#fig:test}\n",
    "\n",
    "testtesttesttesttesttesttesttesttesttesttesttesttesttesttesttesttesttesttesttesttesttesttesttesttesttesttesttesttesttesttesttesttesttesttesttesttesttesttesttesttesttesttesttesttesttesttesttesttesttesttesttesttesttesttesttesttesttesttesttesttesttesttesttesttesttesttesttesttesttesttesttesttesttesttesttesttesttesttesttesttesttesttesttesttesttesttesttesttesttesttesttesttesttesttesttesttesttesttesttest\n",
    "testtesttesttesttesttesttesttesttesttesttesttesttesttesttesttesttesttesttesttesttesttesttesttesttesttesttesttesttesttesttesttesttesttesttesttesttesttesttesttesttesttesttesttesttesttesttesttesttesttesttesttesttesttesttesttesttesttesttesttesttesttesttesttesttesttesttesttesttesttesttesttesttesttesttesttesttesttesttesttesttesttesttesttesttesttesttesttesttesttesttesttesttesttesttesttesttesttesttesttest"
   ]
  },
  {
   "cell_type": "code",
   "execution_count": 4,
   "metadata": {},
   "outputs": [],
   "source": [
    "a, b, c, d, e, f = sp.symbols(\"a b c d e f\")"
   ]
  },
  {
   "cell_type": "code",
   "execution_count": 5,
   "metadata": {},
   "outputs": [],
   "source": [
    "params = {\"a\":2*u.m,\n",
    "          \"b\":3 , \n",
    "          \"c\":4 ,\n",
    "          \"d\":20,\n",
    "          \"e\":10,\n",
    "          \"f\":20}"
   ]
  },
  {
   "cell_type": "code",
   "execution_count": 6,
   "metadata": {},
   "outputs": [],
   "source": [
    "T = sp.Function(\"T\")(a)"
   ]
  },
  {
   "cell_type": "code",
   "execution_count": 12,
   "metadata": {},
   "outputs": [
    {
     "data": {
      "text/latex": [
       "$\\displaystyle s = a b c$"
      ],
      "text/plain": [
       "Eq(s, a*b*c)"
      ]
     },
     "metadata": {},
     "output_type": "display_data"
    },
    {
     "data": {
      "text/latex": [
       "$\\displaystyle s = 240.0 \\text{dm}$"
      ],
      "text/plain": [
       "Eq(s, 240.0*decimeter)"
      ]
     },
     "metadata": {},
     "output_type": "display_data"
    },
    {
     "data": {
      "text/latex": [
       "$\\displaystyle V_{\\omega} = \\frac{a \\sqrt{c}}{b}$"
      ],
      "text/plain": [
       "Eq(V_omega, a*sqrt(c)/b)"
      ]
     },
     "metadata": {},
     "output_type": "display_data"
    },
    {
     "data": {
      "text/latex": [
       "$\\displaystyle V_{\\omega} = 1.33 \\text{m}$"
      ],
      "text/plain": [
       "Eq(V_omega, 1.33*meter)"
      ]
     },
     "metadata": {},
     "output_type": "display_data"
    },
    {
     "data": {
      "text/latex": [
       "$\\displaystyle q = V_{\\omega} s$"
      ],
      "text/plain": [
       "Eq(q, V_omega*s)"
      ]
     },
     "metadata": {},
     "output_type": "display_data"
    },
    {
     "data": {
      "text/latex": [
       "$\\displaystyle q = a^{2} c^{\\frac{3}{2}}$"
      ],
      "text/plain": [
       "Eq(q, a**2*c**(3/2))"
      ]
     },
     "metadata": {},
     "output_type": "display_data"
    },
    {
     "data": {
      "text/latex": [
       "$\\displaystyle q = 32.0 \\text{m}^{2}$"
      ],
      "text/plain": [
       "Eq(q, 32.0*meter**2)"
      ]
     },
     "metadata": {},
     "output_type": "display_data"
    }
   ],
   "source": [
    "s = a * b * c \n",
    "V_omega = 1 * a / b *sp.sqrt(c)\n",
    "q = s * V_omega\n",
    "\n",
    "s_, V_omega_, q_ = render.eq_render(\n",
    "                 locals(), \n",
    "                 raw_input=True, \n",
    "                 parameters=params, \n",
    "                 units=[u.decimeter]\n",
    "                 )\n"
   ]
  },
  {
   "cell_type": "code",
   "execution_count": 8,
   "metadata": {},
   "outputs": [
    {
     "data": {
      "text/latex": [
       "$\\displaystyle T = a^{2}$"
      ],
      "text/plain": [
       "Eq(T, a**2)"
      ]
     },
     "metadata": {},
     "output_type": "display_data"
    },
    {
     "data": {
      "text/latex": [
       "$\\displaystyle DGL_{Biegetrager} = a^{2} c^{\\frac{3}{2}} = \\frac{d^{4}}{d a^{4}} a^{2}$"
      ],
      "text/plain": [
       "Eq(DGL_Biegetrager, Eq(a**2*c**(3/2), Derivative(a**2, (a, 4))))"
      ]
     },
     "metadata": {},
     "output_type": "display_data"
    }
   ],
   "source": [
    "T = a **2\n",
    "DGL_Biegetrager = sp.Eq(q, sp.Derivative(T,a,a,a,a))\n",
    "\n",
    "render.eq_render(locals())"
   ]
  },
  {
   "cell_type": "code",
   "execution_count": 9,
   "metadata": {},
   "outputs": [
    {
     "data": {
      "text/latex": [
       "$\\displaystyle GL_{1} = 0 = a + b$"
      ],
      "text/plain": [
       "Eq(GL1, Eq(0, a + b))"
      ]
     },
     "metadata": {},
     "output_type": "display_data"
    },
    {
     "data": {
      "text/latex": [
       "$\\displaystyle GL_{2} = a + c$"
      ],
      "text/plain": [
       "Eq(GL2, a + c)"
      ]
     },
     "metadata": {},
     "output_type": "display_data"
    },
    {
     "data": {
      "text/latex": [
       "$\\displaystyle GL_{3} = b + c$"
      ],
      "text/plain": [
       "Eq(GL3, b + c)"
      ]
     },
     "metadata": {},
     "output_type": "display_data"
    }
   ],
   "source": [
    "GL1 = sp.Eq(0,a + b)\n",
    "GL2 = a + c\n",
    "GL3 = b+c\n",
    "\n",
    "render.eq_render(locals())"
   ]
  },
  {
   "cell_type": "code",
   "execution_count": 10,
   "metadata": {},
   "outputs": [
    {
     "data": {
      "text/latex": [
       "$\\displaystyle a = 0$"
      ],
      "text/plain": [
       "Eq(a, 0)"
      ]
     },
     "metadata": {},
     "output_type": "display_data"
    },
    {
     "data": {
      "text/latex": [
       "$\\displaystyle b = 0$"
      ],
      "text/plain": [
       "Eq(b, 0)"
      ]
     },
     "metadata": {},
     "output_type": "display_data"
    },
    {
     "data": {
      "text/latex": [
       "$\\displaystyle c = 0$"
      ],
      "text/plain": [
       "Eq(c, 0)"
      ]
     },
     "metadata": {},
     "output_type": "display_data"
    }
   ],
   "source": [
    "\n",
    "solve_set = sp.solve([GL1, GL2, GL3],[a,b,c], dict=True)[0]\n",
    "\n",
    "render.dict_render(solve_set)"
   ]
  },
  {
   "cell_type": "code",
   "execution_count": 11,
   "metadata": {},
   "outputs": [],
   "source": [
    "export.convert_notebook(\"test.ipynb\", \"tex\", standalone=True)"
   ]
  }
 ],
 "metadata": {
  "kernelspec": {
   "display_name": "engineering",
   "language": "python",
   "name": "python3"
  },
  "language_info": {
   "codemirror_mode": {
    "name": "ipython",
    "version": 3
   },
   "file_extension": ".py",
   "mimetype": "text/x-python",
   "name": "python",
   "nbconvert_exporter": "python",
   "pygments_lexer": "ipython3",
   "version": "3.10.10"
  },
  "orig_nbformat": 4
 },
 "nbformat": 4,
 "nbformat_minor": 2
}
