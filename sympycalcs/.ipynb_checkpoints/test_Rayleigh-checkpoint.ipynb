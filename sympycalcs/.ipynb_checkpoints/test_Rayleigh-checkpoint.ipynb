{
 "cells": [
  {
   "cell_type": "code",
   "execution_count": 1,
   "id": "8327504c-0de7-4436-bb62-c26a8539b8ea",
   "metadata": {},
   "outputs": [],
   "source": [
    "%run style_and_packages.ipynb"
   ]
  },
  {
   "cell_type": "code",
   "execution_count": 2,
   "id": "78fedd9e-3d5d-4628-bfd3-0b3ec5d7d246",
   "metadata": {},
   "outputs": [],
   "source": [
    "Psi_x = sp.Function('Psi')(x)\n",
    "f = sp.Function('f')\n",
    "L = sp.symbols('L', positive=True)\n",
    "m_star, k_star, omega_1, m_1, m_2 = sp.symbols('m^\\star k^\\star omega_1 m_1, m_2')"
   ]
  },
  {
   "cell_type": "code",
   "execution_count": 3,
   "id": "376a3548-b345-4468-8893-a900e447e56e",
   "metadata": {},
   "outputs": [],
   "source": [
    "params={\n",
    "    m:0,\n",
    "    m_1:m,\n",
    "    m_2:0,\n",
    "}"
   ]
  },
  {
   "cell_type": "markdown",
   "id": "e887f244-ee96-4b33-943d-9dfd56094e85",
   "metadata": {},
   "source": [
    "## Musterlösung"
   ]
  },
  {
   "cell_type": "markdown",
   "id": "6c99ffc9-f4a1-4818-b575-90252d896e1e",
   "metadata": {},
   "source": [
    "### Formfunktion"
   ]
  },
  {
   "cell_type": "code",
   "execution_count": 4,
   "id": "d3e7c60a-65d3-4032-89a7-37799b944706",
   "metadata": {},
   "outputs": [
    {
     "data": {
      "text/latex": [
       "\\begin{equation}\\Psi{\\left(x \\right)}=1 - \\cos{\\left(\\frac{\\pi x}{2 L} \\right)}\\end{equation}"
      ],
      "text/plain": [
       "Equation(Psi(x), 1 - cos(pi*x/(2*L)))"
      ]
     },
     "execution_count": 4,
     "metadata": {},
     "output_type": "execute_result"
    }
   ],
   "source": [
    "eq_Psi_x = Eqn(Psi_x, 1 - sp.cos(sp.pi*x/(2*L)))\n",
    "eq_Psi_x"
   ]
  },
  {
   "cell_type": "markdown",
   "id": "c5c58bef-778c-4c3a-b536-db8812d74130",
   "metadata": {},
   "source": [
    "### Allgemeine Bewegungsgleichung"
   ]
  },
  {
   "cell_type": "code",
   "execution_count": 5,
   "id": "6a15dd7c-8b81-4e5f-8a76-0c280d768af5",
   "metadata": {},
   "outputs": [
    {
     "data": {
      "text/latex": [
       "\\begin{equation}m^{\\star}=m_{1} \\Psi^{2}{\\left(L \\right)} + m_{2} \\Psi^{2}{\\left(\\frac{L}{2} \\right)} + \\int\\limits_{0}^{L} m \\Psi^{2}{\\left(x \\right)}\\, dx\\end{equation}"
      ],
      "text/plain": [
       "Equation(m^\\star, m_1*Psi(L)**2 + m_2*Psi(L/2)**2 + Integral(m*Psi(x)**2, (x, 0, L)))"
      ]
     },
     "metadata": {},
     "output_type": "display_data"
    },
    {
     "data": {
      "text/latex": [
       "\\begin{equation}k^{\\star}=\\int\\limits_{0}^{L} E I \\left(\\frac{d^{2}}{d x^{2}} \\Psi{\\left(x \\right)}\\right)^{2}\\, dx\\end{equation}"
      ],
      "text/plain": [
       "Equation(k^\\star, Integral(E*I*Derivative(Psi(x), (x, 2))**2, (x, 0, L)))"
      ]
     },
     "metadata": {},
     "output_type": "display_data"
    }
   ],
   "source": [
    "eq_m_star = Eqn(m_star,sp.Integral(m*Psi_x**2,(x, 0,L))+m_1 * Psi_x.subs(x,L)**2 + m_2 *Psi_x.subs(x,L/2)**2)\n",
    "eq_k_star = Eqn(k_star,sp.Integral(E*I*sp.Derivative(Psi_x,x,2)**2, (x,0,L)))\n",
    "display(eq_m_star, eq_k_star)"
   ]
  },
  {
   "cell_type": "code",
   "execution_count": 6,
   "id": "b8fcc28c-31fa-4f63-998b-41dde19a5b3c",
   "metadata": {},
   "outputs": [
    {
     "data": {
      "text/latex": [
       "\\begin{equation}f{\\left(x,t \\right)}=k^{\\star} u + m^{\\star} \\frac{d^{2}}{d x^{2}} u\\end{equation}"
      ],
      "text/plain": [
       "Equation(f(x, t), k^\\star*u + m^\\star*Derivative(u, (x, 2)))"
      ]
     },
     "execution_count": 6,
     "metadata": {},
     "output_type": "execute_result"
    }
   ],
   "source": [
    "eq_bewegung_allg = Eqn(f(x,t), sp.Derivative(u,x,2)*m_star+u*k_star)\n",
    "eq_bewegung_allg"
   ]
  },
  {
   "cell_type": "code",
   "execution_count": 7,
   "id": "e4024d49-176c-4bbe-a57a-fa58eadd46a6",
   "metadata": {},
   "outputs": [
    {
     "data": {
      "text/latex": [
       "\\begin{equation}f{\\left(x,t \\right)}=u \\int\\limits_{0}^{L} E I \\left(\\frac{d^{2}}{d x^{2}} \\Psi{\\left(x \\right)}\\right)^{2}\\, dx + \\left(m_{1} \\Psi^{2}{\\left(L \\right)} + m_{2} \\Psi^{2}{\\left(\\frac{L}{2} \\right)} + \\int\\limits_{0}^{L} m \\Psi^{2}{\\left(x \\right)}\\, dx\\right) \\frac{d^{2}}{d x^{2}} u\\end{equation}"
      ],
      "text/plain": [
       "Equation(f(x, t), u*Integral(E*I*Derivative(Psi(x), (x, 2))**2, (x, 0, L)) + (m_1*Psi(L)**2 + m_2*Psi(L/2)**2 + Integral(m*Psi(x)**2, (x, 0, L)))*Derivative(u, (x, 2)))"
      ]
     },
     "execution_count": 7,
     "metadata": {},
     "output_type": "execute_result"
    }
   ],
   "source": [
    "eq_bewegung_allg.subs(eq_m_star, eq_k_star)"
   ]
  },
  {
   "cell_type": "markdown",
   "id": "90f30314-09c6-496d-818f-488506e59471",
   "metadata": {},
   "source": [
    "Substituiert mit Massen- und Steifigkeitsvariable:"
   ]
  },
  {
   "cell_type": "markdown",
   "id": "48ff7287-801f-4e42-b0c6-4d211db76381",
   "metadata": {},
   "source": [
    "### Eigenkreisfrequenz"
   ]
  },
  {
   "cell_type": "code",
   "execution_count": 8,
   "id": "c4b5020b-2623-4d6f-ac06-e4cb87c723ad",
   "metadata": {},
   "outputs": [
    {
     "data": {
      "text/latex": [
       "\\begin{equation}\\omega_{1}=\\sqrt{\\frac{k^{\\star}}{m^{\\star}}}\\end{equation}"
      ],
      "text/plain": [
       "Equation(omega_1, sqrt(k^\\star/m^\\star))"
      ]
     },
     "execution_count": 8,
     "metadata": {},
     "output_type": "execute_result"
    }
   ],
   "source": [
    "eq_eigenkreisfreq = Eqn(omega_1, sp.sqrt(k_star/ m_star))\n",
    "eq_eigenkreisfreq"
   ]
  },
  {
   "cell_type": "markdown",
   "id": "4ea9b135-42cc-4b37-9368-d6c2c96bcfa4",
   "metadata": {},
   "source": [
    "#### Bestimmung der Masse"
   ]
  },
  {
   "cell_type": "code",
   "execution_count": 9,
   "id": "7ad09d8f-ae3b-42ee-a579-5bfa9bae0f42",
   "metadata": {},
   "outputs": [
    {
     "data": {
      "text/latex": [
       "\\begin{equation}\\Psi{\\left(L \\right)}=1\\end{equation}"
      ],
      "text/plain": [
       "Equation(Psi(L), 1)"
      ]
     },
     "execution_count": 9,
     "metadata": {},
     "output_type": "execute_result"
    }
   ],
   "source": [
    "eq_Psi_x.subs(x,L)"
   ]
  },
  {
   "cell_type": "code",
   "execution_count": 10,
   "id": "6a7c4c5d-5904-4b3f-aac8-713b0ac99221",
   "metadata": {},
   "outputs": [
    {
     "data": {
      "text/latex": [
       "\\begin{equation}\\Psi{\\left(\\frac{L}{2} \\right)}=1 - \\frac{\\sqrt{2}}{2}\\end{equation}"
      ],
      "text/plain": [
       "Equation(Psi(L/2), 1 - sqrt(2)/2)"
      ]
     },
     "execution_count": 10,
     "metadata": {},
     "output_type": "execute_result"
    }
   ],
   "source": [
    "eq_Psi_x.subs(x,L/2)"
   ]
  },
  {
   "cell_type": "code",
   "execution_count": 11,
   "id": "b9aecce2-e832-43b4-b911-bd6ea8d8e3d6",
   "metadata": {},
   "outputs": [
    {
     "data": {
      "text/latex": [
       "\\begin{equation}\\Psi^{2}{\\left(x \\right)}=\\left(1 - \\cos{\\left(\\frac{\\pi x}{2 L} \\right)}\\right)^{2}\\end{equation}"
      ],
      "text/plain": [
       "Equation(Psi(x)**2, (1 - cos(pi*x/(2*L)))**2)"
      ]
     },
     "execution_count": 11,
     "metadata": {},
     "output_type": "execute_result"
    }
   ],
   "source": [
    "eq_Psi_x**2"
   ]
  },
  {
   "cell_type": "code",
   "execution_count": 12,
   "id": "2299ae6e-4eb7-4e3a-903a-72c289125bee",
   "metadata": {},
   "outputs": [
    {
     "data": {
      "text/latex": [
       "\\begin{equation}m^{\\star}=m_{1} + m_{2} \\left(1 - \\frac{\\sqrt{2}}{2}\\right)^{2} + \\int\\limits_{0}^{L} m \\left(1 - \\cos{\\left(\\frac{\\pi x}{2 L} \\right)}\\right)^{2}\\, dx\\end{equation}"
      ],
      "text/plain": [
       "Equation(m^\\star, m_1 + m_2*(1 - sqrt(2)/2)**2 + Integral(m*(1 - cos(pi*x/(2*L)))**2, (x, 0, L)))"
      ]
     },
     "execution_count": 12,
     "metadata": {},
     "output_type": "execute_result"
    }
   ],
   "source": [
    "eq_m_star.subs(eq_Psi_x, eq_Psi_x.subs(x,L), eq_Psi_x.subs(x,L/2))"
   ]
  },
  {
   "cell_type": "code",
   "execution_count": 13,
   "id": "439e8ce0-6032-4447-8dcb-480a97ef63b8",
   "metadata": {},
   "outputs": [
    {
     "data": {
      "text/latex": [
       "\\begin{equation}m^{\\star}=m \\left(- \\frac{4 L}{\\pi} + \\frac{3 L}{2}\\right) + m_{1} + m_{2} \\left(1 - \\frac{\\sqrt{2}}{2}\\right)^{2}\\end{equation}"
      ],
      "text/plain": [
       "Equation(m^\\star, m*(-4*L/pi + 3*L/2) + m_1 + m_2*(1 - sqrt(2)/2)**2)"
      ]
     },
     "execution_count": 13,
     "metadata": {},
     "output_type": "execute_result"
    }
   ],
   "source": [
    "eq_m_star.subs(eq_Psi_x, eq_Psi_x.subs(x,L), eq_Psi_x.subs(x,L/2)).doit()"
   ]
  },
  {
   "cell_type": "markdown",
   "id": "be6916fe-e42a-4c59-87db-3312e15143ad",
   "metadata": {},
   "source": [
    "#### Bestimmung der Steifigkeit"
   ]
  },
  {
   "cell_type": "markdown",
   "id": "f85c2b03-4d86-44a4-b457-93b6e1b80563",
   "metadata": {},
   "source": [
    "Zuerst wird die Formfunktion zwei mal abgeleitet:"
   ]
  },
  {
   "cell_type": "code",
   "execution_count": 14,
   "id": "e60ea8da-55df-43fe-9b1b-808aa89ec360",
   "metadata": {},
   "outputs": [
    {
     "data": {
      "text/latex": [
       "\\begin{equation}\\Psi{\\left(x \\right)}=1 - \\cos{\\left(\\frac{\\pi x}{2 L} \\right)}\\end{equation}"
      ],
      "text/plain": [
       "Equation(Psi(x), 1 - cos(pi*x/(2*L)))"
      ]
     },
     "metadata": {},
     "output_type": "display_data"
    },
    {
     "data": {
      "text/latex": [
       "\\begin{equation}\\frac{d}{d x} \\Psi{\\left(x \\right)}=\\frac{\\pi \\sin{\\left(\\frac{\\pi x}{2 L} \\right)}}{2 L}\\end{equation}"
      ],
      "text/plain": [
       "Equation(Derivative(Psi(x), x), pi*sin(pi*x/(2*L))/(2*L))"
      ]
     },
     "metadata": {},
     "output_type": "display_data"
    },
    {
     "data": {
      "text/latex": [
       "\\begin{equation}\\frac{d^{2}}{d x^{2}} \\Psi{\\left(x \\right)}=\\frac{\\pi^{2} \\cos{\\left(\\frac{\\pi x}{2 L} \\right)}}{4 L^{2}}\\end{equation}"
      ],
      "text/plain": [
       "Equation(Derivative(Psi(x), (x, 2)), pi**2*cos(pi*x/(2*L))/(4*L**2))"
      ]
     },
     "metadata": {},
     "output_type": "display_data"
    }
   ],
   "source": [
    "display(eq_Psi_x,sp.diff(eq_Psi_x,x,1),sp.diff(eq_Psi_x,x,2))"
   ]
  },
  {
   "cell_type": "markdown",
   "id": "6c9c1bb7-c50f-4a0c-ba03-d6c21756d68e",
   "metadata": {},
   "source": [
    "Danach bedingt es lediglich das einsetzen:"
   ]
  },
  {
   "cell_type": "code",
   "execution_count": 15,
   "id": "47d40797-64bf-474d-a72b-c16817a9a155",
   "metadata": {},
   "outputs": [
    {
     "data": {
      "text/latex": [
       "\\begin{equation}k^{\\star}=\\int\\limits_{0}^{L} E I \\left(\\frac{\\partial^{2}}{\\partial x^{2}} \\left(1 - \\cos{\\left(\\frac{\\pi x}{2 L} \\right)}\\right)\\right)^{2}\\, dx\\end{equation}"
      ],
      "text/plain": [
       "Equation(k^\\star, Integral(E*I*Derivative(1 - cos(pi*x/(2*L)), (x, 2))**2, (x, 0, L)))"
      ]
     },
     "metadata": {},
     "output_type": "display_data"
    },
    {
     "data": {
      "text/latex": [
       "\\begin{equation}k^{\\star}=\\frac{\\pi^{4} E I}{32 L^{3}}\\end{equation}"
      ],
      "text/plain": [
       "Equation(k^\\star, pi**4*E*I/(32*L**3))"
      ]
     },
     "metadata": {},
     "output_type": "display_data"
    }
   ],
   "source": [
    "display(eq_k_star.subs(eq_Psi_x),\n",
    "       eq_k_star.subs(eq_Psi_x).doit())"
   ]
  },
  {
   "cell_type": "markdown",
   "id": "f4d3d4ed-64da-4fac-a164-76af51cb4126",
   "metadata": {},
   "source": [
    "#### Grundfrequenz\n",
    "Letztlich kann die Grundfrequenz bestimmt werden:"
   ]
  },
  {
   "cell_type": "code",
   "execution_count": 16,
   "id": "b78093dd-d9aa-4cc2-a215-7ca11155779b",
   "metadata": {},
   "outputs": [
    {
     "data": {
      "text/latex": [
       "\\begin{equation}\\omega_{1}=\\frac{\\sqrt{2} \\pi^{2} \\sqrt{\\frac{E I}{4 m \\left(- \\frac{4 L}{\\pi} + \\frac{3 L}{2}\\right) + 4 m_{1} + m_{2} \\left(-2 + \\sqrt{2}\\right)^{2}}}}{4 L^{\\frac{3}{2}}}\\end{equation}"
      ],
      "text/plain": [
       "Equation(omega_1, sqrt(2)*pi**2*sqrt(E*I/(4*m*(-4*L/pi + 3*L/2) + 4*m_1 + m_2*(-2 + sqrt(2))**2))/(4*L**(3/2)))"
      ]
     },
     "execution_count": 16,
     "metadata": {},
     "output_type": "execute_result"
    }
   ],
   "source": [
    "omega_1_sub = eq_eigenkreisfreq.subs(eq_k_star, eq_m_star).subs(eq_Psi_x, eq_Psi_x.subs(x,L), eq_Psi_x.subs(x,L/2)).simplify()\n",
    "\n",
    "omega_1_sub"
   ]
  },
  {
   "cell_type": "code",
   "execution_count": 17,
   "id": "833a9523-8108-46e4-83e5-35c7afdfc706",
   "metadata": {},
   "outputs": [
    {
     "data": {
      "text/latex": [
       "\\begin{equation}\\omega_{1}=\\frac{1.74 \\left(\\frac{E I}{m}\\right)^{0.5}}{L^{1.5}}\\end{equation}"
      ],
      "text/plain": [
       "Equation(omega_1, 1.74*(E*I/m)**0.5/L**1.5)"
      ]
     },
     "execution_count": 17,
     "metadata": {},
     "output_type": "execute_result"
    }
   ],
   "source": [
    "omega_1_sub.subs(params).simplify().evalf(3)"
   ]
  },
  {
   "cell_type": "code",
   "execution_count": 18,
   "id": "6c2003a6-3682-404d-b2b0-b9de364c271a",
   "metadata": {},
   "outputs": [
    {
     "data": {
      "text/latex": [
       "\\begin{equation}\\omega_{1}=\\frac{\\sqrt{2} \\pi^{2} \\sqrt{\\frac{E I}{4 m \\left(- \\frac{4 L}{\\pi} + \\frac{3 L}{2}\\right) + 4 m_{1} + m_{2} \\left(-2 + \\sqrt{2}\\right)^{2}}}}{4 L^{\\frac{3}{2}}}\\end{equation}"
      ],
      "text/plain": [
       "Equation(omega_1, sqrt(2)*pi**2*sqrt(E*I/(4*m*(-4*L/pi + 3*L/2) + 4*m_1 + m_2*(-2 + sqrt(2))**2))/(4*L**(3/2)))"
      ]
     },
     "execution_count": 18,
     "metadata": {},
     "output_type": "execute_result"
    }
   ],
   "source": [
    "omega_1_sub"
   ]
  },
  {
   "cell_type": "code",
   "execution_count": 19,
   "id": "98f1a9f8-7c98-48d5-9fc7-5ef0b043fef2",
   "metadata": {},
   "outputs": [],
   "source": [
    "\n",
    "sp.init_printing(use_latex='mathjax', latex_mode='equation')\n"
   ]
  },
  {
   "cell_type": "code",
   "execution_count": 20,
   "id": "c26d5458-12fc-4f08-9476-bd04616ef3ac",
   "metadata": {},
   "outputs": [
    {
     "data": {
      "text/latex": [
       "\\begin{equation}\\omega_{1} = \\frac{\\sqrt{2} \\pi^{2} \\sqrt{\\frac{E I}{4 m \\left(- \\frac{4 L}{\\pi} + \\frac{3 L}{2}\\right) + 4 m_{1} + m_{2} \\left(-2 + \\sqrt{2}\\right)^{2}}}}{4 L^{\\frac{3}{2}}}\\end{equation}"
      ],
      "text/plain": [
       "                 __________________________________________\n",
       "         2      ╱                   E⋅I                    \n",
       "     √2⋅π ⋅    ╱  ──────────────────────────────────────── \n",
       "              ╱       ⎛  4⋅L   3⋅L⎞                      2 \n",
       "             ╱    4⋅m⋅⎜- ─── + ───⎟ + 4⋅m₁ + m₂⋅(-2 + √2)  \n",
       "           ╲╱         ⎝   π     2 ⎠                        \n",
       "ω₁ = ──────────────────────────────────────────────────────\n",
       "                                3/2                        \n",
       "                             4⋅L                           "
      ]
     },
     "metadata": {},
     "output_type": "display_data"
    }
   ],
   "source": [
    "display(sp.Eq(omega_1_sub.lhs, omega_1_sub.rhs))"
   ]
  }
 ],
 "metadata": {
  "kernelspec": {
   "display_name": "Python 3 (ipykernel)",
   "language": "python",
   "name": "python3"
  },
  "language_info": {
   "codemirror_mode": {
    "name": "ipython",
    "version": 3
   },
   "file_extension": ".py",
   "mimetype": "text/x-python",
   "name": "python",
   "nbconvert_exporter": "python",
   "pygments_lexer": "ipython3",
   "version": "3.10.12"
  }
 },
 "nbformat": 4,
 "nbformat_minor": 5
}
