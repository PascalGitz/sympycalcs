{
 "cells": [
  {
   "cell_type": "raw",
   "id": "8f7cfe6f-3af1-4be4-b6ec-9765c1834cb2",
   "metadata": {},
   "source": [
    "---\n",
    "format:\n",
    "  pdf:\n",
    "    toc: true\n",
    "    number-sections: true\n",
    "    colorlinks: true\n",
    "    echo: False\n",
    "    lang: de\n",
    "---"
   ]
  },
  {
   "cell_type": "code",
   "execution_count": 1,
   "id": "4c859871-0cb0-4e9d-a6f0-fdcc21b610e6",
   "metadata": {},
   "outputs": [
    {
     "name": "stdout",
     "output_type": "stream",
     "text": [
      "C:\\Users\\Pascal Gitz\\OneDrive - Hochschule Luzern\\Dokumente\\sympycalcs\n"
     ]
    }
   ],
   "source": [
    "import os\n",
    "os.chdir('../')\n",
    "current_path = os.getcwd()\n",
    "print(current_path)"
   ]
  },
  {
   "cell_type": "code",
   "execution_count": 1,
   "id": "ec0e6b12-e7c2-45e8-b62e-ee8a923e7b8c",
   "metadata": {},
   "outputs": [],
   "source": [
    "import sympycalcs.helpers as sh\n",
    "from sympycalcs import render, convert\n",
    "import sympy as sp \n",
    "\n",
    "import sympy.physics.units as unit\n",
    "from sympy.abc import *\n",
    "sp.init_printing(use_latex='mathjax', latex_mode='equation')"
   ]
  },
  {
   "cell_type": "markdown",
   "id": "8a7a012a-0d21-42cf-b81a-55def416eb42",
   "metadata": {},
   "source": [
    "# Beispiel: Kragarm mit 2 Punktmassen\n",
    "{{< pagebreak >}}\n",
    "## Aufgabenstellung\n",
    "\n",
    "Das in @fig-kragarm_2_punkte dargestellte System stellt einen Kragarm mit verteilter Masse und 2 Punktmassen dar. Eine mögliche Formfunktion ist rechts daneben gezeigt.\n",
    "\n",
    "![Kragarm mit verteilter Masse und zwei Punktmassen](bilder/aufgabe_rayleigh_2_massen.svg){#fig-kragarm_2_punkte}\n",
    "\n",
    "Gesucht:\n",
    "\n",
    "- Grundfrequenz (1. Eigenfrequenz $\\omega_n$) des Systems, berechnet mit dem Rayleigh-Quotienten.\n",
    "\n",
    "Gegeben:\n",
    "\n",
    "- Randbedingungen für den Spezialfall: $m_{const} = 0 \\text{ und } m_1 = m_2 = m$\n",
    "- Formfunktion:\n",
    "$$ \\Psi(x) = 1 - \\cos(\\frac{\\pi x}{2L})$$\n"
   ]
  },
  {
   "cell_type": "code",
   "execution_count": 3,
   "id": "69fde425-7664-4fda-9749-5d102e85fa98",
   "metadata": {},
   "outputs": [],
   "source": [
    "L = sp.symbols('L', positive=True)\n",
    "m_1, m_2, m_star, k_star, omega_1 = sp.symbols('m_1, m_2, m_star, k_star omega_1')\n",
    "\n",
    "Psi_x = sp.Function('Psi')(x)\n",
    "f = sp.Function('f')(x,t)"
   ]
  },
  {
   "cell_type": "code",
   "execution_count": 4,
   "id": "a8998184-fd6e-413b-b0b4-057c2f270628",
   "metadata": {},
   "outputs": [],
   "source": [
    "params={\n",
    "    m:0,\n",
    "    m_1:m,\n",
    "    m_2:m\n",
    "}\n"
   ]
  },
  {
   "cell_type": "markdown",
   "id": "1a14d53f-ee38-44e7-b1f3-d95ee0a2fb3d",
   "metadata": {},
   "source": [
    "{{< pagebreak >}}\n",
    "## Musterlösung"
   ]
  },
  {
   "cell_type": "markdown",
   "id": "1b33cbfd-d353-4e32-a815-fa04598acca1",
   "metadata": {},
   "source": [
    "### Formfunktion"
   ]
  },
  {
   "cell_type": "code",
   "execution_count": 5,
   "id": "51aa5991-5ec4-4f2f-8d2d-6f64b4129e51",
   "metadata": {},
   "outputs": [
    {
     "data": {
      "text/latex": [
       "\\begin{equation}\\Psi{\\left(x \\right)} = 1 - \\cos{\\left(\\frac{\\pi x}{2 L} \\right)}\\end{equation}"
      ],
      "text/plain": [
       "Equation(Psi(x), 1 - cos(pi*x/(2*L)))"
      ]
     },
     "execution_count": 5,
     "metadata": {},
     "output_type": "execute_result"
    }
   ],
   "source": [
    "eq_Psi_x = Eqn(Psi_x, 1 - sp.cos(sp.pi*x/(2*L)))\n",
    "eq_Psi_x"
   ]
  },
  {
   "cell_type": "markdown",
   "id": "1d138029-e3f9-4247-b53d-e01228fe97b8",
   "metadata": {},
   "source": [
    "### Allgemeine Bewegungsgleichung\n",
    "\n",
    "Mithilfe der in der Vorlesung hergeleiteten Bewegungsgleichung kann anhand der Formfunktion $\\Psi$ die erste Eigenkreisfrequenz ermittelt werden. Der Rayleigh-Quotient ist eine Energiebetrachtung. Er setzt die potentielle, maximale Energie $E_{pot,max}$ zur kinetischen, maximalen Energie $E_{kin,max}$ ins Verhältnis. Daraus lässt sich die Kreisfrequenz $\\omega_n$ herauslösen.\n"
   ]
  },
  {
   "cell_type": "code",
   "execution_count": 6,
   "id": "cf6bdffc-a3fb-4437-9452-283d8a578a1a",
   "metadata": {},
   "outputs": [
    {
     "data": {
      "text/latex": [
       "\\begin{equation}m_{star} = m_{1} \\Psi^{2}{\\left(L \\right)} + m_{2} \\Psi^{2}{\\left(\\frac{L}{2} \\right)} + \\int\\limits_{0}^{L} m \\Psi^{2}{\\left(x \\right)}\\, dx\\end{equation}"
      ],
      "text/plain": [
       "Equation(m_star, m_1*Psi(L)**2 + m_2*Psi(L/2)**2 + Integral(m*Psi(x)**2, (x, 0\n",
       ", L)))"
      ]
     },
     "metadata": {},
     "output_type": "display_data"
    },
    {
     "data": {
      "text/latex": [
       "\\begin{equation}k_{star} = \\int\\limits_{0}^{L} E I \\left(\\frac{d^{2}}{d x^{2}} \\Psi{\\left(x \\right)}\\right)^{2}\\, dx\\end{equation}"
      ],
      "text/plain": [
       "Equation(k_star, Integral(E*I*Derivative(Psi(x), (x, 2))**2, (x, 0, L)))"
      ]
     },
     "metadata": {},
     "output_type": "display_data"
    }
   ],
   "source": [
    "eq_m_star = Eqn(m_star,sp.Integral(m*Psi_x**2,(x, 0,L))+m_1 * Psi_x.subs(x,L)**2 + m_2 *Psi_x.subs(x,L/2)**2)\n",
    "eq_k_star = Eqn(k_star,sp.Integral(E*I*sp.Derivative(Psi_x,x,2)**2, (x,0,L)))\n",
    "display(eq_m_star, eq_k_star)"
   ]
  },
  {
   "cell_type": "code",
   "execution_count": 7,
   "id": "6f2a337a-3229-4f5d-ad50-7d09cb970be0",
   "metadata": {},
   "outputs": [
    {
     "data": {
      "text/latex": [
       "\\begin{equation}f{\\left(x,t \\right)} = k_{star} u + m_{star} \\frac{d^{2}}{d x^{2}} u\\end{equation}"
      ],
      "text/plain": [
       "Equation(f(x, t), k_star*u + m_star*Derivative(u, (x, 2)))"
      ]
     },
     "execution_count": 7,
     "metadata": {},
     "output_type": "execute_result"
    }
   ],
   "source": [
    "eq_bewegung_allg = Eqn(f, sp.Derivative(u,x,2)*m_star+u*k_star)\n",
    "eq_bewegung_allg"
   ]
  },
  {
   "cell_type": "code",
   "execution_count": 8,
   "id": "5327abf7-543d-45fa-a58c-35effc6f7838",
   "metadata": {},
   "outputs": [
    {
     "data": {
      "text/latex": [
       "\\begin{equation}f{\\left(x,t \\right)} = u \\int\\limits_{0}^{L} E I \\left(\\frac{d^{2}}{d x^{2}} \\Psi{\\left(x \\right)}\\right)^{2}\\, dx + \\left(m_{1} \\Psi^{2}{\\left(L \\right)} + m_{2} \\Psi^{2}{\\left(\\frac{L}{2} \\right)} + \\int\\limits_{0}^{L} m \\Psi^{2}{\\left(x \\right)}\\, dx\\right) \\frac{d^{2}}{d x^{2}} u\\end{equation}"
      ],
      "text/plain": [
       "Equation(f(x, t), u*Integral(E*I*Derivative(Psi(x), (x, 2))**2, (x, 0, L)) + (\n",
       "m_1*Psi(L)**2 + m_2*Psi(L/2)**2 + Integral(m*Psi(x)**2, (x, 0, L)))*Derivative\n",
       "(u, (x, 2)))"
      ]
     },
     "execution_count": 8,
     "metadata": {},
     "output_type": "execute_result"
    }
   ],
   "source": [
    "eq_bewegung_allg.subs(eq_m_star, eq_k_star)"
   ]
  },
  {
   "cell_type": "markdown",
   "id": "c4fd14a6-b739-4c61-8a56-ed4da98a5806",
   "metadata": {},
   "source": [
    "Substituiert mit Massen- und Steifigkeitsvariable:"
   ]
  },
  {
   "cell_type": "markdown",
   "id": "0ae9073e-7561-42e9-9533-1e13e641143f",
   "metadata": {},
   "source": [
    "### Eigenkreisfrequenz\n",
    "\n",
    "Aus der Bewegungsgleichung kann die Eigenkreisfrequenz ermittelt werden:"
   ]
  },
  {
   "cell_type": "code",
   "execution_count": 9,
   "id": "3c2867b2-a828-4a72-a400-afd922de10c5",
   "metadata": {},
   "outputs": [
    {
     "data": {
      "text/latex": [
       "\\begin{equation}\\omega_{1} = \\sqrt{\\frac{k_{star}}{m_{star}}}\\end{equation}"
      ],
      "text/plain": [
       "Equation(omega_1, sqrt(k_star/m_star))"
      ]
     },
     "execution_count": 9,
     "metadata": {},
     "output_type": "execute_result"
    }
   ],
   "source": [
    "eq_eigenkreisfreq = Eqn(omega_1, sp.sqrt(k_star/ m_star))\n",
    "eq_eigenkreisfreq"
   ]
  },
  {
   "cell_type": "markdown",
   "id": "58212682-82cc-43af-825d-65fb04e1a3a0",
   "metadata": {},
   "source": [
    "#### Bestimmung der Masse\n",
    "\n",
    "Die Masse kann mittels der Lösung des Integrals bestimmt werden. Dabei sind die Punktmassen mittels der entsprechenden Deformation an den Stellen $L$ und $\\frac{L}{2}$ zu berücksichtigen, sowie die verteilte Masse über die gesamte Länge.\n"
   ]
  },
  {
   "cell_type": "code",
   "execution_count": 10,
   "id": "0bcb798d-934b-4824-bd60-1779867157ab",
   "metadata": {},
   "outputs": [
    {
     "data": {
      "text/latex": [
       "\\begin{equation}\\Psi{\\left(L \\right)} = 1\\end{equation}"
      ],
      "text/plain": [
       "Equation(Psi(L), 1)"
      ]
     },
     "execution_count": 10,
     "metadata": {},
     "output_type": "execute_result"
    }
   ],
   "source": [
    "eq_Psi_x.subs(x,L)"
   ]
  },
  {
   "cell_type": "code",
   "execution_count": 11,
   "id": "1cd3fe13-aa64-44fb-8784-e800a8732ca9",
   "metadata": {},
   "outputs": [
    {
     "data": {
      "text/latex": [
       "\\begin{equation}\\Psi{\\left(\\frac{L}{2} \\right)} = 1 - \\frac{\\sqrt{2}}{2}\\end{equation}"
      ],
      "text/plain": [
       "Equation(Psi(L/2), 1 - sqrt(2)/2)"
      ]
     },
     "execution_count": 11,
     "metadata": {},
     "output_type": "execute_result"
    }
   ],
   "source": [
    "eq_Psi_x.subs(x,L/2)"
   ]
  },
  {
   "cell_type": "code",
   "execution_count": 12,
   "id": "639c5a37-a7e8-40b4-a064-68e4816a76b4",
   "metadata": {},
   "outputs": [
    {
     "data": {
      "text/latex": [
       "\\begin{equation}\\Psi^{2}{\\left(x \\right)} = \\left(1 - \\cos{\\left(\\frac{\\pi x}{2 L} \\right)}\\right)^{2}\\end{equation}"
      ],
      "text/plain": [
       "Equation(Psi(x)**2, (1 - cos(pi*x/(2*L)))**2)"
      ]
     },
     "execution_count": 12,
     "metadata": {},
     "output_type": "execute_result"
    }
   ],
   "source": [
    "eq_Psi_x**2"
   ]
  },
  {
   "cell_type": "code",
   "execution_count": 13,
   "id": "22b49725-46d5-4c6e-870f-387ae2e5d8f1",
   "metadata": {},
   "outputs": [
    {
     "data": {
      "text/latex": [
       "\\begin{equation}m_{star} = m_{1} + m_{2} \\left(1 - \\frac{\\sqrt{2}}{2}\\right)^{2} + \\int\\limits_{0}^{L} m \\left(1 - \\cos{\\left(\\frac{\\pi x}{2 L} \\right)}\\right)^{2}\\, dx\\end{equation}"
      ],
      "text/plain": [
       "Equation(m_star, m_1 + m_2*(1 - sqrt(2)/2)**2 + Integral(m*(1 - cos(pi*x/(2*L)\n",
       "))**2, (x, 0, L)))"
      ]
     },
     "execution_count": 13,
     "metadata": {},
     "output_type": "execute_result"
    }
   ],
   "source": [
    "eq_m_star.subs(eq_Psi_x, eq_Psi_x.subs(x,L), eq_Psi_x.subs(x,L/2))"
   ]
  },
  {
   "cell_type": "code",
   "execution_count": 14,
   "id": "447c906c-242b-4142-8153-90801aa87509",
   "metadata": {},
   "outputs": [
    {
     "data": {
      "text/latex": [
       "\\begin{equation}m_{star} = m \\left(- \\frac{4 L}{\\pi} + \\frac{3 L}{2}\\right) + m_{1} + m_{2} \\left(1 - \\frac{\\sqrt{2}}{2}\\right)^{2}\\end{equation}"
      ],
      "text/plain": [
       "Equation(m_star, m*(-4*L/pi + 3*L/2) + m_1 + m_2*(1 - sqrt(2)/2)**2)"
      ]
     },
     "execution_count": 14,
     "metadata": {},
     "output_type": "execute_result"
    }
   ],
   "source": [
    "eq_m_star.subs(eq_Psi_x, eq_Psi_x.subs(x,L), eq_Psi_x.subs(x,L/2)).doit()"
   ]
  },
  {
   "cell_type": "markdown",
   "id": "c91d25f2-5dd1-43b8-8031-c4464010e7b2",
   "metadata": {},
   "source": [
    "#### Bestimmung der Steifigkeit"
   ]
  },
  {
   "cell_type": "markdown",
   "id": "b962fc9f-2729-4fe3-ab72-7ce0143d3699",
   "metadata": {},
   "source": [
    "Die Steifigkeit in kann mittels der Lösung des Integrals in bestimmt werden. \n",
    "Zur Ermittlung der Steifigkeit $k^\\star$ muss zuerst der Ansatz zweimal nach $x$ abgeleitet werden."
   ]
  },
  {
   "cell_type": "code",
   "execution_count": 15,
   "id": "d39c8c2c-67ab-49a1-8dcd-5ebdc936cbc1",
   "metadata": {},
   "outputs": [
    {
     "data": {
      "text/latex": [
       "\\begin{equation}\\Psi{\\left(x \\right)} = 1 - \\cos{\\left(\\frac{\\pi x}{2 L} \\right)}\\end{equation}"
      ],
      "text/plain": [
       "Equation(Psi(x), 1 - cos(pi*x/(2*L)))"
      ]
     },
     "metadata": {},
     "output_type": "display_data"
    },
    {
     "data": {
      "text/latex": [
       "\\begin{equation}\\frac{d}{d x} \\Psi{\\left(x \\right)} = \\frac{\\pi \\sin{\\left(\\frac{\\pi x}{2 L} \\right)}}{2 L}\\end{equation}"
      ],
      "text/plain": [
       "Equation(Derivative(Psi(x), x), pi*sin(pi*x/(2*L))/(2*L))"
      ]
     },
     "metadata": {},
     "output_type": "display_data"
    },
    {
     "data": {
      "text/latex": [
       "\\begin{equation}\\frac{d^{2}}{d x^{2}} \\Psi{\\left(x \\right)} = \\frac{\\pi^{2} \\cos{\\left(\\frac{\\pi x}{2 L} \\right)}}{4 L^{2}}\\end{equation}"
      ],
      "text/plain": [
       "Equation(Derivative(Psi(x), (x, 2)), pi**2*cos(pi*x/(2*L))/(4*L**2))"
      ]
     },
     "metadata": {},
     "output_type": "display_data"
    }
   ],
   "source": [
    "display(eq_Psi_x,sp.diff(eq_Psi_x,x,1),sp.diff(eq_Psi_x,x,2))"
   ]
  },
  {
   "cell_type": "markdown",
   "id": "ad5ad66f-f94e-430b-94c5-e3e46c8aa5fd",
   "metadata": {},
   "source": [
    "Danach bedingt es lediglich das einsetzen:"
   ]
  },
  {
   "cell_type": "code",
   "execution_count": 16,
   "id": "0ed66d9d-4f82-40e8-b6d5-0b6d14204646",
   "metadata": {},
   "outputs": [
    {
     "data": {
      "text/latex": [
       "\\begin{equation}k_{star} = \\int\\limits_{0}^{L} E I \\left(\\frac{\\partial^{2}}{\\partial x^{2}} \\left(1 - \\cos{\\left(\\frac{\\pi x}{2 L} \\right)}\\right)\\right)^{2}\\, dx\\end{equation}"
      ],
      "text/plain": [
       "Equation(k_star, Integral(E*I*Derivative(1 - cos(pi*x/(2*L)), (x, 2))**2, (x, \n",
       "0, L)))"
      ]
     },
     "metadata": {},
     "output_type": "display_data"
    },
    {
     "data": {
      "text/latex": [
       "\\begin{equation}k_{star} = \\frac{\\pi^{4} E I}{32 L^{3}}\\end{equation}"
      ],
      "text/plain": [
       "Equation(k_star, pi**4*E*I/(32*L**3))"
      ]
     },
     "metadata": {},
     "output_type": "display_data"
    }
   ],
   "source": [
    "display(eq_k_star.subs(eq_Psi_x),\n",
    "       eq_k_star.subs(eq_Psi_x).doit())"
   ]
  },
  {
   "cell_type": "markdown",
   "id": "1403b9a7-55f3-4983-b38e-1ad58a290464",
   "metadata": {},
   "source": [
    "#### Grundfrequenz\n",
    "Letztlich kann die Grundfrequenz bestimmt werden:"
   ]
  },
  {
   "cell_type": "code",
   "execution_count": 17,
   "id": "538da856-7bb1-4456-8148-e9b1dd7448f1",
   "metadata": {},
   "outputs": [
    {
     "data": {
      "text/latex": [
       "\\begin{equation}\\omega_{1} = \\frac{\\sqrt{2} \\pi^{2} \\sqrt{\\frac{E I}{4 m \\left(- \\frac{4 L}{\\pi} + \\frac{3 L}{2}\\right) + 4 m_{1} + m_{2} \\left(-2 + \\sqrt{2}\\right)^{2}}}}{4 L^{\\frac{3}{2}}}\\end{equation}"
      ],
      "text/plain": [
       "Equation(omega_1, sqrt(2)*pi**2*sqrt(E*I/(4*m*(-4*L/pi + 3*L/2) + 4*m_1 + m_2*\n",
       "(-2 + sqrt(2))**2))/(4*L**(3/2)))"
      ]
     },
     "execution_count": 17,
     "metadata": {},
     "output_type": "execute_result"
    }
   ],
   "source": [
    "omega_1_sub = eq_eigenkreisfreq.subs(eq_k_star, eq_m_star).subs(eq_Psi_x, eq_Psi_x.subs(x,L), eq_Psi_x.subs(x,L/2)).simplify()\n",
    "\n",
    "omega_1_sub"
   ]
  },
  {
   "cell_type": "markdown",
   "id": "3fcd26bc-e4c0-453e-adc7-92409e52e45e",
   "metadata": {},
   "source": [
    "#### Auswertung des Spezialfalls\n",
    "\n",
    "Mit Hilfe der Randbedingungen für den Spezialfall aus der Aufgabenstellung resultiert die Grundfrequenz zu:"
   ]
  },
  {
   "cell_type": "code",
   "execution_count": 18,
   "id": "23bda4f1-b7c1-47cd-a920-1002f23e0152",
   "metadata": {},
   "outputs": [
    {
     "data": {
      "text/latex": [
       "\\begin{equation}\\omega_{1} = \\frac{1.67 \\left(\\frac{E I}{m}\\right)^{0.5}}{L^{1.5}}\\end{equation}"
      ],
      "text/plain": [
       "Equation(omega_1, 1.67*(E*I/m)**0.5/L**1.5)"
      ]
     },
     "execution_count": 18,
     "metadata": {},
     "output_type": "execute_result"
    }
   ],
   "source": [
    "omega_1_sub.subs(params).simplify().evalf(3)"
   ]
  }
 ],
 "metadata": {
  "kernelspec": {
   "display_name": "Python 3 (ipykernel)",
   "language": "python",
   "name": "python3"
  },
  "language_info": {
   "codemirror_mode": {
    "name": "ipython",
    "version": 3
   },
   "file_extension": ".py",
   "mimetype": "text/x-python",
   "name": "python",
   "nbconvert_exporter": "python",
   "pygments_lexer": "ipython3",
   "version": "3.11.5"
  }
 },
 "nbformat": 4,
 "nbformat_minor": 5
}
