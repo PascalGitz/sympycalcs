{
 "cells": [
  {
   "cell_type": "raw",
   "id": "8f7cfe6f-3af1-4be4-b6ec-9765c1834cb2",
   "metadata": {},
   "source": [
    "---\n",
    "format:\n",
    "  pdf:\n",
    "    toc: true\n",
    "    number-sections: true\n",
    "    colorlinks: true\n",
    "    echo: False\n",
    "    lang: de\n",
    "---"
   ]
  },
  {
   "cell_type": "code",
   "execution_count": 1,
   "id": "4c859871-0cb0-4e9d-a6f0-fdcc21b610e6",
   "metadata": {},
   "outputs": [],
   "source": [
    "import os\n",
    "os.chdir('../')\n",
    "current_path = os.getcwd()\n"
   ]
  },
  {
   "cell_type": "code",
   "execution_count": 2,
   "id": "ec0e6b12-e7c2-45e8-b62e-ee8a923e7b8c",
   "metadata": {},
   "outputs": [],
   "source": [
    "import sympy as sp \n",
    "import sympycalcs as spc\n",
    "import sympy.physics.units as unit\n",
    "from sympy.abc import *\n",
    "\n",
    "sp.init_printing(use_latex='mathjax', latex_mode='equation')"
   ]
  },
  {
   "cell_type": "markdown",
   "id": "8a7a012a-0d21-42cf-b81a-55def416eb42",
   "metadata": {},
   "source": [
    "# Beispiel: Kragarm mit 2 Punktmassen\n",
    "{{< pagebreak >}}\n",
    "## Aufgabenstellung\n",
    "\n",
    "Das in @fig-kragarm_2_punkte dargestellte System stellt einen Kragarm mit verteilter Masse und 2 Punktmassen dar. Eine mögliche Formfunktion ist rechts daneben gezeigt.\n",
    "\n",
    "![Kragarm mit verteilter Masse und zwei Punktmassen](bilder/aufgabe_rayleigh_2_massen.svg){#fig-kragarm_2_punkte}\n",
    "\n",
    "Gesucht:\n",
    "\n",
    "- Grundfrequenz (1. Eigenfrequenz $\\omega_n$) des Systems, berechnet mit dem Rayleigh-Quotienten.\n",
    "\n",
    "Gegeben:\n",
    "\n",
    "- Randbedingungen für den Spezialfall: $m_{const} = 0 \\text{ und } m_1 = m_2 = m$\n",
    "- Formfunktion:\n",
    "$$ \\Psi(x) = 1 - \\cos(\\frac{\\pi x}{2L})$$\n"
   ]
  },
  {
   "cell_type": "code",
   "execution_count": 3,
   "id": "69fde425-7664-4fda-9749-5d102e85fa98",
   "metadata": {},
   "outputs": [],
   "source": [
    "L = sp.symbols('L', positive=True)\n",
    "m_1, m_2, m_star, k_star, omega_1 = sp.symbols('m_1, m_2, m_star, k_star omega_1')\n",
    "\n",
    "Psi_x = sp.Function('Psi')(x)\n",
    "f = sp.Function('f')(x,t)"
   ]
  },
  {
   "cell_type": "code",
   "execution_count": 4,
   "id": "a8998184-fd6e-413b-b0b4-057c2f270628",
   "metadata": {},
   "outputs": [
    {
     "data": {
      "text/markdown": [
       "|  Parameter  | ​  |\n",
       "|---|---|\n",
       "| $m = 0$ | $m_{1} = m$ |\n",
       "| $m_{2} = m$ | ​  |\n"
      ],
      "text/plain": [
       "<IPython.core.display.Markdown object>"
      ]
     },
     "metadata": {},
     "output_type": "display_data"
    }
   ],
   "source": [
    "params={\n",
    "    m:0,\n",
    "    m_1:m,\n",
    "    m_2:m\n",
    "}\n",
    "spc.dict_to_table(params)"
   ]
  },
  {
   "cell_type": "markdown",
   "id": "1a14d53f-ee38-44e7-b1f3-d95ee0a2fb3d",
   "metadata": {},
   "source": [
    "{{< pagebreak >}}\n",
    "## Musterlösung"
   ]
  },
  {
   "cell_type": "markdown",
   "id": "1b33cbfd-d353-4e32-a815-fa04598acca1",
   "metadata": {},
   "source": [
    "### Formfunktion"
   ]
  },
  {
   "cell_type": "code",
   "execution_count": 5,
   "id": "51aa5991-5ec4-4f2f-8d2d-6f64b4129e51",
   "metadata": {},
   "outputs": [
    {
     "data": {
      "text/latex": [
       "\\begin{equation}\\Psi{\\left(x \\right)} = 1 - \\cos{\\left(\\frac{\\pi x}{2 L} \\right)}\\end{equation}"
      ],
      "text/plain": [
       "              ⎛π⋅x⎞\n",
       "Ψ(x) = 1 - cos⎜───⎟\n",
       "              ⎝2⋅L⎠"
      ]
     },
     "execution_count": 5,
     "metadata": {},
     "output_type": "execute_result"
    }
   ],
   "source": [
    "eq_Psi_x = sp.Eq(Psi_x, 1 - sp.cos(sp.pi*x/(2*L)))\n",
    "eq_Psi_x"
   ]
  },
  {
   "cell_type": "markdown",
   "id": "1d138029-e3f9-4247-b53d-e01228fe97b8",
   "metadata": {},
   "source": [
    "### Allgemeine Bewegungsgleichung\n",
    "\n",
    "Mithilfe der in der Vorlesung hergeleiteten Bewegungsgleichung kann anhand der Formfunktion $\\Psi$ die erste Eigenkreisfrequenz ermittelt werden. Der Rayleigh-Quotient ist eine Energiebetrachtung. Er setzt die potentielle, maximale Energie $E_{pot,max}$ zur kinetischen, maximalen Energie $E_{kin,max}$ ins Verhältnis. Daraus lässt sich die Kreisfrequenz $\\omega_n$ herauslösen.\n"
   ]
  },
  {
   "cell_type": "code",
   "execution_count": 6,
   "id": "cf6bdffc-a3fb-4437-9452-283d8a578a1a",
   "metadata": {},
   "outputs": [
    {
     "data": {
      "text/latex": [
       "\\begin{equation}m_{star} = m_{1} \\Psi^{2}{\\left(L \\right)} + m_{2} \\Psi^{2}{\\left(\\frac{L}{2} \\right)} + \\int\\limits_{0}^{L} m \\Psi^{2}{\\left(x \\right)}\\, dx\\end{equation}"
      ],
      "text/plain": [
       "                              L           \n",
       "                              ⌠           \n",
       "            2          2⎛L⎞   ⎮    2      \n",
       "mₛₜₐᵣ = m₁⋅Ψ (L) + m₂⋅Ψ ⎜─⎟ + ⎮ m⋅Ψ (x) dx\n",
       "                        ⎝2⎠   ⌡           \n",
       "                              0           "
      ]
     },
     "metadata": {},
     "output_type": "display_data"
    },
    {
     "data": {
      "text/latex": [
       "\\begin{equation}k_{star} = \\int\\limits_{0}^{L} E I \\left(\\frac{d^{2}}{d x^{2}} \\Psi{\\left(x \\right)}\\right)^{2}\\, dx\\end{equation}"
      ],
      "text/plain": [
       "        L                    \n",
       "        ⌠                    \n",
       "        ⎮                2   \n",
       "        ⎮     ⎛  2      ⎞    \n",
       "        ⎮     ⎜ d       ⎟    \n",
       "kₛₜₐᵣ = ⎮ E⋅I⋅⎜───(Ψ(x))⎟  dx\n",
       "        ⎮     ⎜  2      ⎟    \n",
       "        ⎮     ⎝dx       ⎠    \n",
       "        ⌡                    \n",
       "        0                    "
      ]
     },
     "metadata": {},
     "output_type": "display_data"
    }
   ],
   "source": [
    "eq_m_star = sp.Eq(m_star,sp.Integral(m*Psi_x**2,(x, 0,L))+m_1 * Psi_x.subs(x,L)**2 + m_2 *Psi_x.subs(x,L/2)**2)\n",
    "eq_k_star = sp.Eq(k_star,sp.Integral(E*I*sp.Derivative(Psi_x,x,2)**2, (x,0,L)))\n",
    "display(eq_m_star, eq_k_star)"
   ]
  },
  {
   "cell_type": "code",
   "execution_count": 7,
   "id": "6f2a337a-3229-4f5d-ad50-7d09cb970be0",
   "metadata": {},
   "outputs": [
    {
     "data": {
      "text/latex": [
       "\\begin{equation}f{\\left(x,t \\right)} = k_{star} u + m_{star} \\frac{d^{2}}{d x^{2}} u\\end{equation}"
      ],
      "text/plain": [
       "                            2   \n",
       "                           d    \n",
       "f(x, t) = kₛₜₐᵣ⋅u + mₛₜₐᵣ⋅───(u)\n",
       "                            2   \n",
       "                          dx    "
      ]
     },
     "execution_count": 7,
     "metadata": {},
     "output_type": "execute_result"
    }
   ],
   "source": [
    "eq_bewegung_allg = sp.Eq(f, sp.Derivative(u,x,2)*m_star+u*k_star)\n",
    "eq_bewegung_allg"
   ]
  },
  {
   "cell_type": "code",
   "execution_count": 8,
   "id": "5327abf7-543d-45fa-a58c-35effc6f7838",
   "metadata": {},
   "outputs": [
    {
     "data": {
      "text/latex": [
       "\\begin{equation}f{\\left(x,t \\right)} = u \\int\\limits_{0}^{L} E I \\left(\\frac{d^{2}}{d x^{2}} \\Psi{\\left(x \\right)}\\right)^{2}\\, dx + \\left(m_{1} \\Psi^{2}{\\left(L \\right)} + m_{2} \\Psi^{2}{\\left(\\frac{L}{2} \\right)} + \\int\\limits_{0}^{L} m \\Psi^{2}{\\left(x \\right)}\\, dx\\right) \\frac{d^{2}}{d x^{2}} u\\end{equation}"
      ],
      "text/plain": [
       "            L                                                                 \n",
       "            ⌠                                                                 \n",
       "            ⎮                2      ⎛                      L           ⎞      \n",
       "            ⎮     ⎛  2      ⎞       ⎜                      ⌠           ⎟   2  \n",
       "            ⎮     ⎜ d       ⎟       ⎜    2          2⎛L⎞   ⎮    2      ⎟  d   \n",
       "f(x, t) = u⋅⎮ E⋅I⋅⎜───(Ψ(x))⎟  dx + ⎜m₁⋅Ψ (L) + m₂⋅Ψ ⎜─⎟ + ⎮ m⋅Ψ (x) dx⎟⋅───(u\n",
       "            ⎮     ⎜  2      ⎟       ⎜                ⎝2⎠   ⌡           ⎟   2  \n",
       "            ⎮     ⎝dx       ⎠       ⎝                      0           ⎠ dx   \n",
       "            ⌡                                                                 \n",
       "            0                                                                 \n",
       "\n",
       " \n",
       " \n",
       " \n",
       " \n",
       " \n",
       ")\n",
       " \n",
       " \n",
       " \n",
       " "
      ]
     },
     "execution_count": 8,
     "metadata": {},
     "output_type": "execute_result"
    }
   ],
   "source": [
    "spc.eq_subs(eq_bewegung_allg, eq_m_star, eq_k_star)"
   ]
  },
  {
   "cell_type": "markdown",
   "id": "c4fd14a6-b739-4c61-8a56-ed4da98a5806",
   "metadata": {},
   "source": [
    "Substituiert mit Massen- und Steifigkeitsvariable:"
   ]
  },
  {
   "cell_type": "markdown",
   "id": "0ae9073e-7561-42e9-9533-1e13e641143f",
   "metadata": {},
   "source": [
    "### Eigenkreisfrequenz\n",
    "\n",
    "Aus der Bewegungsgleichung kann die Eigenkreisfrequenz ermittelt werden:"
   ]
  },
  {
   "cell_type": "code",
   "execution_count": 9,
   "id": "3c2867b2-a828-4a72-a400-afd922de10c5",
   "metadata": {},
   "outputs": [
    {
     "data": {
      "text/latex": [
       "\\begin{equation}\\omega_{1} = \\sqrt{\\frac{k_{star}}{m_{star}}}\\end{equation}"
      ],
      "text/plain": [
       "         _______\n",
       "        ╱ kₛₜₐᵣ \n",
       "ω₁ =   ╱  ───── \n",
       "     ╲╱   mₛₜₐᵣ "
      ]
     },
     "execution_count": 9,
     "metadata": {},
     "output_type": "execute_result"
    }
   ],
   "source": [
    "eq_eigenkreisfreq = sp.Eq(omega_1, sp.sqrt(k_star/ m_star))\n",
    "eq_eigenkreisfreq"
   ]
  },
  {
   "cell_type": "markdown",
   "id": "58212682-82cc-43af-825d-65fb04e1a3a0",
   "metadata": {},
   "source": [
    "#### Bestimmung der Masse\n",
    "\n",
    "Die Masse kann mittels der Lösung des Integrals bestimmt werden. Dabei sind die Punktmassen mittels der entsprechenden Deformation an den Stellen $L$ und $\\frac{L}{2}$ zu berücksichtigen, sowie die verteilte Masse über die gesamte Länge.\n"
   ]
  },
  {
   "cell_type": "code",
   "execution_count": 10,
   "id": "0bcb798d-934b-4824-bd60-1779867157ab",
   "metadata": {},
   "outputs": [
    {
     "data": {
      "text/latex": [
       "\\begin{equation}\\Psi{\\left(L \\right)} = 1\\end{equation}"
      ],
      "text/plain": [
       "Ψ(L) = 1"
      ]
     },
     "execution_count": 10,
     "metadata": {},
     "output_type": "execute_result"
    }
   ],
   "source": [
    "eq_Psi_x.subs(x,L)"
   ]
  },
  {
   "cell_type": "code",
   "execution_count": 11,
   "id": "1cd3fe13-aa64-44fb-8784-e800a8732ca9",
   "metadata": {},
   "outputs": [
    {
     "data": {
      "text/latex": [
       "\\begin{equation}\\Psi{\\left(\\frac{L}{2} \\right)} = 1 - \\frac{\\sqrt{2}}{2}\\end{equation}"
      ],
      "text/plain": [
       " ⎛L⎞       √2\n",
       "Ψ⎜─⎟ = 1 - ──\n",
       " ⎝2⎠       2 "
      ]
     },
     "execution_count": 11,
     "metadata": {},
     "output_type": "execute_result"
    }
   ],
   "source": [
    "eq_Psi_x.subs(x,L/2)"
   ]
  },
  {
   "cell_type": "code",
   "execution_count": 12,
   "id": "7da735de",
   "metadata": {},
   "outputs": [
    {
     "data": {
      "text/latex": [
       "\\begin{equation}\\Psi^{2}{\\left(x \\right)} = \\left(1 - \\cos{\\left(\\frac{\\pi x}{2 L} \\right)}\\right)^{2}\\end{equation}"
      ],
      "text/plain": [
       "                      2\n",
       " 2      ⎛       ⎛π⋅x⎞⎞ \n",
       "Ψ (x) = ⎜1 - cos⎜───⎟⎟ \n",
       "        ⎝       ⎝2⋅L⎠⎠ "
      ]
     },
     "execution_count": 12,
     "metadata": {},
     "output_type": "execute_result"
    }
   ],
   "source": [
    "sp.Eq(eq_Psi_x.lhs**2, eq_Psi_x.rhs**2)"
   ]
  },
  {
   "cell_type": "code",
   "execution_count": 13,
   "id": "22b49725-46d5-4c6e-870f-387ae2e5d8f1",
   "metadata": {},
   "outputs": [
    {
     "data": {
      "text/latex": [
       "\\begin{equation}m_{star} = m_{1} + m_{2} \\left(1 - \\frac{\\sqrt{2}}{2}\\right)^{2} + \\int\\limits_{0}^{L} m \\left(1 - \\cos{\\left(\\frac{\\pi x}{2 L} \\right)}\\right)^{2}\\, dx\\end{equation}"
      ],
      "text/plain": [
       "                            L                     \n",
       "                            ⌠                     \n",
       "                        2   ⎮                 2   \n",
       "                ⎛    √2⎞    ⎮   ⎛       ⎛π⋅x⎞⎞    \n",
       "mₛₜₐᵣ = m₁ + m₂⋅⎜1 - ──⎟  + ⎮ m⋅⎜1 - cos⎜───⎟⎟  dx\n",
       "                ⎝    2 ⎠    ⎮   ⎝       ⎝2⋅L⎠⎠    \n",
       "                            ⌡                     \n",
       "                            0                     "
      ]
     },
     "execution_count": 13,
     "metadata": {},
     "output_type": "execute_result"
    }
   ],
   "source": [
    "spc.eq_subs(eq_m_star,eq_Psi_x, eq_Psi_x.subs(x,L), eq_Psi_x.subs(x,L/2))"
   ]
  },
  {
   "cell_type": "code",
   "execution_count": 14,
   "id": "447c906c-242b-4142-8153-90801aa87509",
   "metadata": {},
   "outputs": [
    {
     "data": {
      "text/latex": [
       "\\begin{equation}m_{star} = m \\left(- \\frac{4 L}{\\pi} + \\frac{3 L}{2}\\right) + m_{1} + m_{2} \\left(1 - \\frac{\\sqrt{2}}{2}\\right)^{2}\\end{equation}"
      ],
      "text/plain": [
       "                                          2\n",
       "          ⎛  4⋅L   3⋅L⎞           ⎛    √2⎞ \n",
       "mₛₜₐᵣ = m⋅⎜- ─── + ───⎟ + m₁ + m₂⋅⎜1 - ──⎟ \n",
       "          ⎝   π     2 ⎠           ⎝    2 ⎠ "
      ]
     },
     "execution_count": 14,
     "metadata": {},
     "output_type": "execute_result"
    }
   ],
   "source": [
    "spc.eq_subs(eq_m_star,eq_Psi_x, eq_Psi_x.subs(x,L), eq_Psi_x.subs(x,L/2)).doit()"
   ]
  },
  {
   "cell_type": "markdown",
   "id": "c91d25f2-5dd1-43b8-8031-c4464010e7b2",
   "metadata": {},
   "source": [
    "#### Bestimmung der Steifigkeit"
   ]
  },
  {
   "cell_type": "markdown",
   "id": "b962fc9f-2729-4fe3-ab72-7ce0143d3699",
   "metadata": {},
   "source": [
    "Die Steifigkeit in kann mittels der Lösung des Integrals in bestimmt werden. \n",
    "Zur Ermittlung der Steifigkeit $k^\\star$ muss zuerst der Ansatz zweimal nach $x$ abgeleitet werden."
   ]
  },
  {
   "cell_type": "code",
   "execution_count": 15,
   "id": "d39c8c2c-67ab-49a1-8dcd-5ebdc936cbc1",
   "metadata": {},
   "outputs": [
    {
     "data": {
      "text/latex": [
       "\\begin{equation}\\Psi{\\left(x \\right)} = 1 - \\cos{\\left(\\frac{\\pi x}{2 L} \\right)}\\end{equation}"
      ],
      "text/plain": [
       "              ⎛π⋅x⎞\n",
       "Ψ(x) = 1 - cos⎜───⎟\n",
       "              ⎝2⋅L⎠"
      ]
     },
     "metadata": {},
     "output_type": "display_data"
    },
    {
     "data": {
      "text/latex": [
       "\\begin{equation}\\frac{d}{d x} \\Psi{\\left(x \\right)} = \\frac{\\pi \\sin{\\left(\\frac{\\pi x}{2 L} \\right)}}{2 L}\\end{equation}"
      ],
      "text/plain": [
       "                ⎛π⋅x⎞\n",
       "           π⋅sin⎜───⎟\n",
       "d               ⎝2⋅L⎠\n",
       "──(Ψ(x)) = ──────────\n",
       "dx            2⋅L    "
      ]
     },
     "metadata": {},
     "output_type": "display_data"
    },
    {
     "data": {
      "text/latex": [
       "\\begin{equation}\\frac{d^{2}}{d x^{2}} \\Psi{\\left(x \\right)} = \\frac{\\pi^{2} \\cos{\\left(\\frac{\\pi x}{2 L} \\right)}}{4 L^{2}}\\end{equation}"
      ],
      "text/plain": [
       "             2    ⎛π⋅x⎞\n",
       "  2         π ⋅cos⎜───⎟\n",
       " d                ⎝2⋅L⎠\n",
       "───(Ψ(x)) = ───────────\n",
       "  2                2   \n",
       "dx              4⋅L    "
      ]
     },
     "metadata": {},
     "output_type": "display_data"
    }
   ],
   "source": [
    "display(eq_Psi_x,sp.Eq(sp.diff(Psi_x, x, 1),sp.diff(eq_Psi_x.rhs,x,1).doit()),sp.Eq(sp.diff(Psi_x, x, 2),sp.diff(eq_Psi_x.rhs,x,2)))"
   ]
  },
  {
   "cell_type": "markdown",
   "id": "ad5ad66f-f94e-430b-94c5-e3e46c8aa5fd",
   "metadata": {},
   "source": [
    "Danach bedingt es lediglich das einsetzen:"
   ]
  },
  {
   "cell_type": "code",
   "execution_count": 16,
   "id": "652bcefe",
   "metadata": {},
   "outputs": [
    {
     "data": {
      "text/latex": [
       "\\begin{equation}k_{star} = \\frac{\\pi^{4} E I}{32 L^{3}}\\end{equation}"
      ],
      "text/plain": [
       "         4    \n",
       "        π ⋅E⋅I\n",
       "kₛₜₐᵣ = ──────\n",
       "            3 \n",
       "        32⋅L  "
      ]
     },
     "execution_count": 16,
     "metadata": {},
     "output_type": "execute_result"
    }
   ],
   "source": [
    "spc.eq_subs(eq_k_star, eq_Psi_x).doit()"
   ]
  },
  {
   "cell_type": "code",
   "execution_count": 17,
   "id": "0ed66d9d-4f82-40e8-b6d5-0b6d14204646",
   "metadata": {},
   "outputs": [
    {
     "data": {
      "text/latex": [
       "\\begin{equation}k_{star} = \\int\\limits_{0}^{L} E I \\left(\\frac{\\partial^{2}}{\\partial x^{2}} \\left(1 - \\cos{\\left(\\frac{\\pi x}{2 L} \\right)}\\right)\\right)^{2}\\, dx\\end{equation}"
      ],
      "text/plain": [
       "        L                            \n",
       "        ⌠                            \n",
       "        ⎮                        2   \n",
       "        ⎮     ⎛  2              ⎞    \n",
       "        ⎮     ⎜ ∂ ⎛       ⎛π⋅x⎞⎞⎟    \n",
       "kₛₜₐᵣ = ⎮ E⋅I⋅⎜───⎜1 - cos⎜───⎟⎟⎟  dx\n",
       "        ⎮     ⎜  2⎝       ⎝2⋅L⎠⎠⎟    \n",
       "        ⎮     ⎝∂x               ⎠    \n",
       "        ⌡                            \n",
       "        0                            "
      ]
     },
     "metadata": {},
     "output_type": "display_data"
    },
    {
     "data": {
      "text/latex": [
       "\\begin{equation}k_{star} = \\frac{\\pi^{4} E I}{32 L^{3}}\\end{equation}"
      ],
      "text/plain": [
       "         4    \n",
       "        π ⋅E⋅I\n",
       "kₛₜₐᵣ = ──────\n",
       "            3 \n",
       "        32⋅L  "
      ]
     },
     "metadata": {},
     "output_type": "display_data"
    }
   ],
   "source": [
    "display(spc.eq_subs(eq_k_star, eq_Psi_x),\n",
    "       spc.eq_subs(eq_k_star,eq_Psi_x).doit())"
   ]
  },
  {
   "cell_type": "markdown",
   "id": "1403b9a7-55f3-4983-b38e-1ad58a290464",
   "metadata": {},
   "source": [
    "#### Grundfrequenz\n",
    "Letztlich kann die Grundfrequenz bestimmt werden:"
   ]
  },
  {
   "cell_type": "code",
   "execution_count": 18,
   "id": "538da856-7bb1-4456-8148-e9b1dd7448f1",
   "metadata": {},
   "outputs": [
    {
     "data": {
      "text/latex": [
       "\\begin{equation}\\omega_{1} = \\frac{\\sqrt{2} \\pi^{2} \\sqrt{\\frac{E I}{4 m \\left(- \\frac{4 L}{\\pi} + \\frac{3 L}{2}\\right) + 4 m_{1} + m_{2} \\left(-2 + \\sqrt{2}\\right)^{2}}}}{4 L^{\\frac{3}{2}}}\\end{equation}"
      ],
      "text/plain": [
       "                 __________________________________________\n",
       "         2      ╱                   E⋅I                    \n",
       "     √2⋅π ⋅    ╱  ──────────────────────────────────────── \n",
       "              ╱       ⎛  4⋅L   3⋅L⎞                      2 \n",
       "             ╱    4⋅m⋅⎜- ─── + ───⎟ + 4⋅m₁ + m₂⋅(-2 + √2)  \n",
       "           ╲╱         ⎝   π     2 ⎠                        \n",
       "ω₁ = ──────────────────────────────────────────────────────\n",
       "                                3/2                        \n",
       "                             4⋅L                           "
      ]
     },
     "execution_count": 18,
     "metadata": {},
     "output_type": "execute_result"
    }
   ],
   "source": [
    "omega_1_sub = spc.eq_subs(eq_eigenkreisfreq,eq_k_star, eq_m_star,eq_Psi_x, eq_Psi_x.subs(x,L), eq_Psi_x.subs(x,L/2)).simplify()\n",
    "\n",
    "omega_1_sub"
   ]
  },
  {
   "cell_type": "markdown",
   "id": "3fcd26bc-e4c0-453e-adc7-92409e52e45e",
   "metadata": {},
   "source": [
    "#### Auswertung des Spezialfalls\n",
    "\n",
    "Mit Hilfe der Randbedingungen für den Spezialfall aus der Aufgabenstellung resultiert die Grundfrequenz zu:"
   ]
  },
  {
   "cell_type": "code",
   "execution_count": 19,
   "id": "23bda4f1-b7c1-47cd-a920-1002f23e0152",
   "metadata": {},
   "outputs": [
    {
     "data": {
      "text/latex": [
       "\\begin{equation}\\omega_{1} = \\frac{1.67 \\left(\\frac{E I}{m}\\right)^{0.5}}{L^{1.5}}\\end{equation}"
      ],
      "text/plain": [
       "                     0.5\n",
       "           -1.5 ⎛E⋅I⎞   \n",
       "ω₁ = 1.67⋅L    ⋅⎜───⎟   \n",
       "                ⎝ m ⎠   "
      ]
     },
     "execution_count": 19,
     "metadata": {},
     "output_type": "execute_result"
    }
   ],
   "source": [
    "omega_1_sub.subs(params).simplify().evalf(3)"
   ]
  }
 ],
 "metadata": {
  "kernelspec": {
   "display_name": "Python 3 (ipykernel)",
   "language": "python",
   "name": "python3"
  },
  "language_info": {
   "codemirror_mode": {
    "name": "ipython",
    "version": 3
   },
   "file_extension": ".py",
   "mimetype": "text/x-python",
   "name": "python",
   "nbconvert_exporter": "python",
   "pygments_lexer": "ipython3",
   "version": "3.11.7"
  }
 },
 "nbformat": 4,
 "nbformat_minor": 5
}
