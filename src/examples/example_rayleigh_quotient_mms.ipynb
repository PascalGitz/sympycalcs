{
 "cells": [
  {
   "cell_type": "raw",
   "id": "7f053631-fab8-49dd-a53b-e647ac8f351a",
   "metadata": {},
   "source": [
    "---\n",
    "format:\n",
    "  pdf:\n",
    "    toc: true\n",
    "    number-sections: true\n",
    "    colorlinks: true\n",
    "    echo: False\n",
    "    lang: de\n",
    "---"
   ]
  },
  {
   "cell_type": "code",
   "execution_count": 1,
   "id": "b92ee210-41f3-463f-a7c7-1e43fb404f0e",
   "metadata": {},
   "outputs": [],
   "source": [
    "import os\n",
    "os.chdir('../')\n",
    "current_path = os.getcwd()\n"
   ]
  },
  {
   "cell_type": "code",
   "execution_count": 2,
   "id": "bf3ec231-7253-4e53-9b12-293e650fad64",
   "metadata": {},
   "outputs": [],
   "source": [
    "import sympycalcs.helpers as sh\n",
    "import sympy as sp \n",
    "\n",
    "import sympy.physics.units as unit\n",
    "from sympy.abc import *\n",
    "sp.init_printing(use_latex='mathjax', latex_mode='equation')\n"
   ]
  },
  {
   "cell_type": "markdown",
   "id": "4c8a9291-e669-4dd4-942a-daff6871dbba",
   "metadata": {},
   "source": [
    "# Beispiel: Rayleigh-Quotient an einem Siebenmassenschwinger beim Ersatzkraftverfahren\n",
    "\n",
    "{{< pagebreak >}}\n",
    "\n",
    "## Aufgabenstellung\n",
    "\n",
    "Das Beispiel ist aus @Dupraz2004 Seite 77 entnommen. Die Lastermittlung wird übernommen. Es wird vom vereinfachten Modell in @fig-ekv_6_modell ausgegangen. Der Fokus liegt auf der Bestimmung der Grundfrequenz.\n",
    "\n",
    "![Vereinfachtes Modell für einen Mehrmassenschwinger](bilder/aufgabe_ekv_sieben_biege.svg){#fig-ekv_6_modell}\n",
    "\n",
    "Gesucht:\n",
    "\n",
    "- Erstelle die Nachgiebigkeitsmatrix (Verwende das Bildungsgesetz)\n",
    "- Grundschwingzeit\n",
    "\n",
    "Gegeben:\n",
    "\n",
    "\n"
   ]
  },
  {
   "cell_type": "code",
   "execution_count": 3,
   "id": "bddfe7f3-62a8-4099-bf2a-e68968c4141b",
   "metadata": {},
   "outputs": [],
   "source": [
    "H_i, m_i,  I, I_x, I_y, f, f_y,f_x, T_x, T_y= sp.symbols('H_i, m_i  I  I_x I_y f f_y f_x T_x T_y')\n",
    "n = 6 # n-Massenschwinger\n",
    "F = sp.MatrixSymbol('F', n,1)\n",
    "u = sp.MatrixSymbol('u', n,1)\n",
    "u_y = sp.MatrixSymbol('u_y', n,1)\n",
    "u_x = sp.MatrixSymbol('u_x', n,1)\n",
    "f_hat = sp.MatrixSymbol('\\hat{f}', n,n)\n",
    "M = sp.MatrixSymbol('M', n,1)\n"
   ]
  },
  {
   "cell_type": "code",
   "execution_count": 4,
   "id": "4dfccbcd-8ccc-4a57-babe-6bb75bbed76f",
   "metadata": {},
   "outputs": [
    {
     "data": {
      "text/markdown": [
       "|  Parameter  | ​  |\n",
       "|---|---|\n",
       "| $E = \\frac{27000000000 \\text{N}}{\\text{m}^{2}}$ | $H_{i} = 3.105 \\text{m}$ |\n",
       "| $I_{x} = 14.89 \\text{m}^{4}$ | $I_{y} = 28.27 \\text{m}^{4}$ |\n",
       "| $m_{i} = \\frac{1278000 \\text{N} \\text{s}^{2}}{\\text{m}}$ | ​  |\n"
      ],
      "text/plain": [
       "<IPython.core.display.Markdown object>"
      ]
     },
     "metadata": {},
     "output_type": "display_data"
    },
    {
     "data": {
      "text/markdown": [
       "|  Parameter  | ​  |\n",
       "|---|---|\n",
       "| $E = 27000000000.0$ | $H_{i} = 3.105$ |\n",
       "| $I_{x} = 14.89$ | $I_{y} = 28.27$ |\n",
       "| $m_{i} = 1278000.0$ | ​  |\n"
      ],
      "text/plain": [
       "<IPython.core.display.Markdown object>"
      ]
     },
     "metadata": {},
     "output_type": "display_data"
    }
   ],
   "source": [
    "params={\n",
    "    E: 27*10**9*unit.newton/ unit.meter**2,\n",
    "    H_i: 3.105*unit.meter,\n",
    "    m_i: 1278*10**3*unit.newton*unit.second**2 /unit.meter,\n",
    "    I_x: 14.89*unit.meter**4,\n",
    "    I_y: 28.27*unit.meter**4,\n",
    "}\n",
    "\n",
    "params_plot = sh.params_value(params)\n",
    "\n",
    "sh.dict_to_table(params)\n",
    "sh.dict_to_table(params_plot)\n"
   ]
  },
  {
   "cell_type": "markdown",
   "id": "c2fcf94e-274b-482b-baed-2d36671a5f3a",
   "metadata": {},
   "source": [
    "{{< pagebreak >}}\n",
    "\n",
    "## Musterlösung"
   ]
  },
  {
   "cell_type": "markdown",
   "id": "c6d4a5cf-9af5-458e-828d-d21fc3cecf17",
   "metadata": {},
   "source": [
    "### Rayleigh-Quotient"
   ]
  },
  {
   "cell_type": "code",
   "execution_count": 5,
   "id": "b9b26568-cbbc-4cd2-bff7-c716ae6ccd99",
   "metadata": {},
   "outputs": [],
   "source": [
    "def nachgiebigkeitsmatrix_nach_bildungsgesetz(n):\n",
    "    \"\"\"\n",
    "    Erstellt die Nachgiebigkeitsmatrix nach dem Bildungsgesetz. Dieses ist nur zulässig für gleichmässige Stockwerkshöhen, sowie gleichbleibenden Stockwerkssteifigkeiten.\n",
    "    Dies muss abschliessend mit h^3/(6*E*I) mutlipliziert werden.\n",
    "    \"\"\"\n",
    "    from sympy import symbols, zeros\n",
    "\n",
    "    \n",
    "    def bildungsgesetz(i,j):\n",
    "        return j**2*(3*i-j)\n",
    "\n",
    "    matrix = sp.zeros(n, n)\n",
    "    matrix_symbols =sp.zeros(n,n)\n",
    "    matrix_unsymm = sp.zeros(n, n)\n",
    "    \n",
    "    for i in range(1,n+1):\n",
    "        for j in range(1,n+1):\n",
    "            if i >=j:\n",
    "                matrix[i-1,j-1] = bildungsgesetz(i,j)\n",
    "                matrix_symbols[i-1,j-1] = sp.Symbol(f'f_{i,j}')\n",
    "                matrix_unsymm[i-1,j-1] = bildungsgesetz(i,j)\n",
    "\n",
    "            if j>i:\n",
    "                matrix[i-1, j-1] = bildungsgesetz(j,i)\n",
    "                matrix_symbols[i-1,j-1] = sp.Symbol(f'f_{i,j}')\n",
    "\n",
    "    \n",
    "    return matrix, matrix_symbols, matrix_unsymm\n",
    "            \n"
   ]
  },
  {
   "cell_type": "code",
   "execution_count": 6,
   "id": "048be53d-e957-40d8-9553-b8f628e91970",
   "metadata": {},
   "outputs": [
    {
     "data": {
      "text/latex": [
       "\\begin{equation}\\hat{f} = \\left[\\begin{matrix}2 \\frac{H_{i}^{3}}{6 E I} & 5 \\frac{H_{i}^{3}}{6 E I} & 8 \\frac{H_{i}^{3}}{6 E I} & 11 \\frac{H_{i}^{3}}{6 E I} & 14 \\frac{H_{i}^{3}}{6 E I} & 17 \\frac{H_{i}^{3}}{6 E I}\\\\5 \\frac{H_{i}^{3}}{6 E I} & 16 \\frac{H_{i}^{3}}{6 E I} & 28 \\frac{H_{i}^{3}}{6 E I} & 40 \\frac{H_{i}^{3}}{6 E I} & 52 \\frac{H_{i}^{3}}{6 E I} & 64 \\frac{H_{i}^{3}}{6 E I}\\\\8 \\frac{H_{i}^{3}}{6 E I} & 28 \\frac{H_{i}^{3}}{6 E I} & 54 \\frac{H_{i}^{3}}{6 E I} & 81 \\frac{H_{i}^{3}}{6 E I} & 108 \\frac{H_{i}^{3}}{6 E I} & 135 \\frac{H_{i}^{3}}{6 E I}\\\\11 \\frac{H_{i}^{3}}{6 E I} & 40 \\frac{H_{i}^{3}}{6 E I} & 81 \\frac{H_{i}^{3}}{6 E I} & 128 \\frac{H_{i}^{3}}{6 E I} & 176 \\frac{H_{i}^{3}}{6 E I} & 224 \\frac{H_{i}^{3}}{6 E I}\\\\14 \\frac{H_{i}^{3}}{6 E I} & 52 \\frac{H_{i}^{3}}{6 E I} & 108 \\frac{H_{i}^{3}}{6 E I} & 176 \\frac{H_{i}^{3}}{6 E I} & 250 \\frac{H_{i}^{3}}{6 E I} & 325 \\frac{H_{i}^{3}}{6 E I}\\\\17 \\frac{H_{i}^{3}}{6 E I} & 64 \\frac{H_{i}^{3}}{6 E I} & 135 \\frac{H_{i}^{3}}{6 E I} & 224 \\frac{H_{i}^{3}}{6 E I} & 325 \\frac{H_{i}^{3}}{6 E I} & 432 \\frac{H_{i}^{3}}{6 E I}\\end{matrix}\\right]\\end{equation}"
      ],
      "text/plain": [
       "          ⎡     3         3          3          3          3          3  ⎤\n",
       "          ⎢   Hᵢ        Hᵢ         Hᵢ         Hᵢ         Hᵢ         Hᵢ   ⎥\n",
       "          ⎢2⋅─────   5⋅─────    8⋅─────   11⋅─────   14⋅─────   17⋅───── ⎥\n",
       "          ⎢  6⋅E⋅I     6⋅E⋅I      6⋅E⋅I      6⋅E⋅I      6⋅E⋅I      6⋅E⋅I ⎥\n",
       "          ⎢                                                              ⎥\n",
       "          ⎢     3          3         3          3          3          3  ⎥\n",
       "          ⎢   Hᵢ         Hᵢ        Hᵢ         Hᵢ         Hᵢ         Hᵢ   ⎥\n",
       "          ⎢5⋅─────   16⋅─────  28⋅─────   40⋅─────   52⋅─────   64⋅───── ⎥\n",
       "          ⎢  6⋅E⋅I      6⋅E⋅I     6⋅E⋅I      6⋅E⋅I      6⋅E⋅I      6⋅E⋅I ⎥\n",
       "          ⎢                                                              ⎥\n",
       "          ⎢     3          3         3          3           3          3 ⎥\n",
       "          ⎢   Hᵢ         Hᵢ        Hᵢ         Hᵢ          Hᵢ         Hᵢ  ⎥\n",
       "          ⎢8⋅─────   28⋅─────  54⋅─────   81⋅─────   108⋅─────  135⋅─────⎥\n",
       "          ⎢  6⋅E⋅I      6⋅E⋅I     6⋅E⋅I      6⋅E⋅I       6⋅E⋅I      6⋅E⋅I⎥\n",
       "\\hat{f} = ⎢                                                              ⎥\n",
       "          ⎢      3         3         3           3          3          3 ⎥\n",
       "          ⎢    Hᵢ        Hᵢ        Hᵢ          Hᵢ         Hᵢ         Hᵢ  ⎥\n",
       "          ⎢11⋅─────  40⋅─────  81⋅─────   128⋅─────  176⋅─────  224⋅─────⎥\n",
       "          ⎢   6⋅E⋅I     6⋅E⋅I     6⋅E⋅I       6⋅E⋅I      6⋅E⋅I      6⋅E⋅I⎥\n",
       "          ⎢                                                              ⎥\n",
       "          ⎢      3         3          3          3          3          3 ⎥\n",
       "          ⎢    Hᵢ        Hᵢ         Hᵢ         Hᵢ         Hᵢ         Hᵢ  ⎥\n",
       "          ⎢14⋅─────  52⋅─────  108⋅─────  176⋅─────  250⋅─────  325⋅─────⎥\n",
       "          ⎢   6⋅E⋅I     6⋅E⋅I      6⋅E⋅I      6⋅E⋅I      6⋅E⋅I      6⋅E⋅I⎥\n",
       "          ⎢                                                              ⎥\n",
       "          ⎢      3         3          3          3          3          3 ⎥\n",
       "          ⎢    Hᵢ        Hᵢ         Hᵢ         Hᵢ         Hᵢ         Hᵢ  ⎥\n",
       "          ⎢17⋅─────  64⋅─────  135⋅─────  224⋅─────  325⋅─────  432⋅─────⎥\n",
       "          ⎣   6⋅E⋅I     6⋅E⋅I      6⋅E⋅I      6⋅E⋅I      6⋅E⋅I      6⋅E⋅I⎦"
      ]
     },
     "metadata": {},
     "output_type": "display_data"
    },
    {
     "data": {
      "text/latex": [
       "\\begin{equation}F = \\left[\\begin{matrix}1\\\\2\\\\3\\\\4\\\\5\\\\6\\end{matrix}\\right]\\end{equation}"
      ],
      "text/plain": [
       "    ⎡1⎤\n",
       "    ⎢ ⎥\n",
       "    ⎢2⎥\n",
       "    ⎢ ⎥\n",
       "    ⎢3⎥\n",
       "F = ⎢ ⎥\n",
       "    ⎢4⎥\n",
       "    ⎢ ⎥\n",
       "    ⎢5⎥\n",
       "    ⎢ ⎥\n",
       "    ⎣6⎦"
      ]
     },
     "metadata": {},
     "output_type": "display_data"
    },
    {
     "data": {
      "text/latex": [
       "\\begin{equation}u = \\hat{f} F\\end{equation}"
      ],
      "text/plain": [
       "u = \\hat{f}⋅F"
      ]
     },
     "metadata": {},
     "output_type": "display_data"
    }
   ],
   "source": [
    "eq_f_hat = sp.Eq(f_hat, sp.UnevaluatedExpr(H_i**3/(6*E*I))*nachgiebigkeitsmatrix_nach_bildungsgesetz(n)[0])\n",
    "\n",
    "eq_F = sp.Eq(F,sp.Matrix(list(range(1, n+1))))\n",
    "eq_u = sp.Eq(u,f_hat * F)\n",
    "\n",
    "\n",
    "display(eq_f_hat, eq_F, eq_u)"
   ]
  },
  {
   "cell_type": "code",
   "execution_count": 7,
   "id": "2c357f1c-4b26-47ab-8c2f-80a462c0ae29",
   "metadata": {},
   "outputs": [],
   "source": [
    "eq_M = sp.Eq(M,sp.ones(n,1)*m_i)\n"
   ]
  },
  {
   "cell_type": "code",
   "execution_count": 8,
   "id": "47fffeb8-effc-46bf-8c27-76e3311142ea",
   "metadata": {},
   "outputs": [],
   "source": [
    "eq_f = sp.Eq(f,sp.Mul(sp.UnevaluatedExpr(1 / (2*sp.pi)),sp.sqrt(sp.Sum(sp.HadamardProduct(F, u)[i,0], (i, 0, F.shape[0]-1)) / sp.Sum(sp.HadamardProduct(M,u.applyfunc(lambda x:x**2))[i,0],(i,0,M.shape[0]-1))), evaluate=False))\n",
    "\n",
    "eq_T = sp.Eq(T,1 / f)\n",
    "\n",
    "\n"
   ]
  },
  {
   "cell_type": "markdown",
   "id": "1db25ac2-f737-4262-af34-67cb766507f8",
   "metadata": {},
   "source": [
    "Mittels dem Rayleigh-Quotient für das vereinfachte Modell lässt sich die Grundfrequenz direkt bestimmen."
   ]
  },
  {
   "cell_type": "code",
   "execution_count": 9,
   "id": "a694236b-3440-4bcf-9cb7-8c22a03623b4",
   "metadata": {},
   "outputs": [
    {
     "data": {
      "text/latex": [
       "\\begin{equation}f = \\frac{1}{2 \\pi} \\sqrt{\\frac{\\sum_{i=0}^{5} F_{i, 0} u_{i, 0}}{\\sum_{i=0}^{5} M_{i, 0} u_{i, 0}^{2}}}\\end{equation}"
      ],
      "text/plain": [
       "                          ____________________________\n",
       "                         ╱   5                        \n",
       "                        ╱   ___                       \n",
       "                       ╱    ╲                         \n",
       "                      ╱      ╲                        \n",
       "                     ╱       ╱   (F)[i, 0]⋅(u)[i, 0]  \n",
       "                    ╱       ╱                         \n",
       "                   ╱        ‾‾‾                       \n",
       "     1            ╱        i = 0                      \n",
       "f = ───⋅         ╱         ────────────────────────── \n",
       "    2⋅π         ╱            5                        \n",
       "               ╱            ___                       \n",
       "              ╱             ╲                         \n",
       "             ╱               ╲                2       \n",
       "            ╱                ╱   (M)[i, 0]⋅(u) [i, 0] \n",
       "           ╱                ╱                         \n",
       "          ╱                 ‾‾‾                       \n",
       "        ╲╱                 i = 0                      "
      ]
     },
     "metadata": {},
     "output_type": "display_data"
    },
    {
     "data": {
      "text/latex": [
       "\\begin{equation}F = \\left[\\begin{matrix}1\\\\2\\\\3\\\\4\\\\5\\\\6\\end{matrix}\\right]\\end{equation}"
      ],
      "text/plain": [
       "    ⎡1⎤\n",
       "    ⎢ ⎥\n",
       "    ⎢2⎥\n",
       "    ⎢ ⎥\n",
       "    ⎢3⎥\n",
       "F = ⎢ ⎥\n",
       "    ⎢4⎥\n",
       "    ⎢ ⎥\n",
       "    ⎢5⎥\n",
       "    ⎢ ⎥\n",
       "    ⎣6⎦"
      ]
     },
     "metadata": {},
     "output_type": "display_data"
    },
    {
     "data": {
      "text/latex": [
       "\\begin{equation}M = \\left[\\begin{matrix}m_{i}\\\\m_{i}\\\\m_{i}\\\\m_{i}\\\\m_{i}\\\\m_{i}\\end{matrix}\\right]\\end{equation}"
      ],
      "text/plain": [
       "    ⎡mᵢ⎤\n",
       "    ⎢  ⎥\n",
       "    ⎢mᵢ⎥\n",
       "    ⎢  ⎥\n",
       "    ⎢mᵢ⎥\n",
       "M = ⎢  ⎥\n",
       "    ⎢mᵢ⎥\n",
       "    ⎢  ⎥\n",
       "    ⎢mᵢ⎥\n",
       "    ⎢  ⎥\n",
       "    ⎣mᵢ⎦"
      ]
     },
     "metadata": {},
     "output_type": "display_data"
    },
    {
     "data": {
      "text/latex": [
       "\\begin{equation}T = \\frac{1}{f}\\end{equation}"
      ],
      "text/plain": [
       "    1\n",
       "T = ─\n",
       "    f"
      ]
     },
     "metadata": {},
     "output_type": "display_data"
    }
   ],
   "source": [
    "display(eq_f, eq_F, eq_M, eq_T)"
   ]
  },
  {
   "cell_type": "markdown",
   "id": "c50298e3-40c8-45b2-a15b-8577fc47a9b8",
   "metadata": {},
   "source": [
    "Dabei entspricht $\\mathbf{u}$ dem Verschiebungsvektor infolge des Kraftvektors $\\mathbf{F}$. Der Verschiebungsvektor kann mittels Nachgiebigkeitsmatrix bestimmt werden.\n",
    "\n",
    "#### Nachgiebigkeitsmatrix\n",
    "\n",
    "Für gleichbleibende Geschosshöhen und Geschosssteifigkeiten lässt sich die Nachgiebigkeitsmatrix leicht mittels dem Bildungsgesetz in @eq-ekv_6_bildungsgesetz ermitteln.\n",
    "\n",
    "$$\n",
    "\\hat{f}_{i,j} = \\frac{H^3}{6EI} \\cdot j^2(3i-j) \\text{ für } i\\geq j\n",
    "$${#eq-ekv_6_bildungsgesetz}\n",
    "\n",
    "$\\hat{\\mathbf{f}}$ entspricht der Nachgiebigkeitsmatrix mit den Einträgen $\\hat{f}_{i,j}$.\n",
    "\n",
    "Beachte dabei dass die @eq-ekv_6_bildungsgesetz nur für $i\\geq j$ gilt. Die Einträge entsprechen folgendem Schema:"
   ]
  },
  {
   "cell_type": "code",
   "execution_count": 10,
   "id": "6b6e8491-8051-4ddf-8a19-c038ed6b6abf",
   "metadata": {},
   "outputs": [
    {
     "data": {
      "text/latex": [
       "\\begin{equation}\\left[\\begin{matrix}f_{(1, 1)} & f_{(1, 2)} & f_{(1, 3)} & f_{(1, 4)} & f_{(1, 5)} & f_{(1, 6)}\\\\f_{(2, 1)} & f_{(2, 2)} & f_{(2, 3)} & f_{(2, 4)} & f_{(2, 5)} & f_{(2, 6)}\\\\f_{(3, 1)} & f_{(3, 2)} & f_{(3, 3)} & f_{(3, 4)} & f_{(3, 5)} & f_{(3, 6)}\\\\f_{(4, 1)} & f_{(4, 2)} & f_{(4, 3)} & f_{(4, 4)} & f_{(4, 5)} & f_{(4, 6)}\\\\f_{(5, 1)} & f_{(5, 2)} & f_{(5, 3)} & f_{(5, 4)} & f_{(5, 5)} & f_{(5, 6)}\\\\f_{(6, 1)} & f_{(6, 2)} & f_{(6, 3)} & f_{(6, 4)} & f_{(6, 5)} & f_{(6, 6)}\\end{matrix}\\right]\\end{equation}"
      ],
      "text/plain": [
       "⎡f_(1, 1)  f_(1, 2)  f_(1, 3)  f_(1, 4)  f_(1, 5)  f_(1, 6)⎤\n",
       "⎢                                                          ⎥\n",
       "⎢f_(2, 1)  f_(2, 2)  f_(2, 3)  f_(2, 4)  f_(2, 5)  f_(2, 6)⎥\n",
       "⎢                                                          ⎥\n",
       "⎢f_(3, 1)  f_(3, 2)  f_(3, 3)  f_(3, 4)  f_(3, 5)  f_(3, 6)⎥\n",
       "⎢                                                          ⎥\n",
       "⎢f_(4, 1)  f_(4, 2)  f_(4, 3)  f_(4, 4)  f_(4, 5)  f_(4, 6)⎥\n",
       "⎢                                                          ⎥\n",
       "⎢f_(5, 1)  f_(5, 2)  f_(5, 3)  f_(5, 4)  f_(5, 5)  f_(5, 6)⎥\n",
       "⎢                                                          ⎥\n",
       "⎣f_(6, 1)  f_(6, 2)  f_(6, 3)  f_(6, 4)  f_(6, 5)  f_(6, 6)⎦"
      ]
     },
     "metadata": {},
     "output_type": "display_data"
    }
   ],
   "source": [
    "display(nachgiebigkeitsmatrix_nach_bildungsgesetz(n)[1])"
   ]
  },
  {
   "cell_type": "markdown",
   "id": "bb154dae-f97b-4b6c-99f9-83edbc68a20f",
   "metadata": {},
   "source": [
    "Unter strikter Anwendung von @eq-ekv_6_bildungsgesetz folgt daraus:"
   ]
  },
  {
   "cell_type": "code",
   "execution_count": 11,
   "id": "321884ea-5413-4d23-8c0f-48c1b448c9f3",
   "metadata": {},
   "outputs": [
    {
     "data": {
      "text/latex": [
       "\\begin{equation}\\left[\\begin{matrix}2 & 0 & 0 & 0 & 0 & 0\\\\5 & 16 & 0 & 0 & 0 & 0\\\\8 & 28 & 54 & 0 & 0 & 0\\\\11 & 40 & 81 & 128 & 0 & 0\\\\14 & 52 & 108 & 176 & 250 & 0\\\\17 & 64 & 135 & 224 & 325 & 432\\end{matrix}\\right]\\end{equation}"
      ],
      "text/plain": [
       "⎡2   0    0    0    0    0 ⎤\n",
       "⎢                          ⎥\n",
       "⎢5   16   0    0    0    0 ⎥\n",
       "⎢                          ⎥\n",
       "⎢8   28  54    0    0    0 ⎥\n",
       "⎢                          ⎥\n",
       "⎢11  40  81   128   0    0 ⎥\n",
       "⎢                          ⎥\n",
       "⎢14  52  108  176  250   0 ⎥\n",
       "⎢                          ⎥\n",
       "⎣17  64  135  224  325  432⎦"
      ]
     },
     "metadata": {},
     "output_type": "display_data"
    }
   ],
   "source": [
    "display(nachgiebigkeitsmatrix_nach_bildungsgesetz(n)[2])"
   ]
  },
  {
   "cell_type": "markdown",
   "id": "f14da70a-9b32-4d1b-98e0-60182413888b",
   "metadata": {},
   "source": [
    "Aufgrund von Symmetrie kann diese abschliessend über die Diagonale gespiegelt werden:"
   ]
  },
  {
   "cell_type": "code",
   "execution_count": 12,
   "id": "4e0a2854-c4ca-4e1e-b086-75231d87d8c2",
   "metadata": {},
   "outputs": [
    {
     "data": {
      "text/latex": [
       "\\begin{equation}\\frac{6 E I}{H_{i}^{3}} \\hat{f} = \\left[\\begin{matrix}2 & 5 & 8 & 11 & 14 & 17\\\\5 & 16 & 28 & 40 & 52 & 64\\\\8 & 28 & 54 & 81 & 108 & 135\\\\11 & 40 & 81 & 128 & 176 & 224\\\\14 & 52 & 108 & 176 & 250 & 325\\\\17 & 64 & 135 & 224 & 325 & 432\\end{matrix}\\right]\\end{equation}"
      ],
      "text/plain": [
       "                ⎡2   5    8   11   14   17 ⎤\n",
       "                ⎢                          ⎥\n",
       "                ⎢5   16  28   40   52   64 ⎥\n",
       "                ⎢                          ⎥\n",
       "6⋅E⋅I           ⎢8   28  54   81   108  135⎥\n",
       "─────⋅\\hat{f} = ⎢                          ⎥\n",
       "   3            ⎢11  40  81   128  176  224⎥\n",
       " Hᵢ             ⎢                          ⎥\n",
       "                ⎢14  52  108  176  250  325⎥\n",
       "                ⎢                          ⎥\n",
       "                ⎣17  64  135  224  325  432⎦"
      ]
     },
     "metadata": {},
     "output_type": "display_data"
    }
   ],
   "source": [
    "display(sp.Eq(f_hat/sp.UnevaluatedExpr(H_i**3 /(6*E*I)), eq_f_hat.rhs/sp.UnevaluatedExpr(H_i**3 /(6*E*I))))"
   ]
  },
  {
   "cell_type": "markdown",
   "id": "f2b42712-9666-4f5c-8bcf-26809ef6850c",
   "metadata": {},
   "source": [
    "Durch Multiplikation der *Nachgiebigkeit* mit der *Einwirkung* resultiert die Deformation."
   ]
  },
  {
   "cell_type": "code",
   "execution_count": 13,
   "id": "a1e5603f-ae7d-4eab-947b-1748d571a87a",
   "metadata": {},
   "outputs": [
    {
     "data": {
      "text/latex": [
       "\\begin{equation}u = \\hat{f} F\\end{equation}"
      ],
      "text/plain": [
       "u = \\hat{f}⋅F"
      ]
     },
     "metadata": {},
     "output_type": "display_data"
    },
    {
     "data": {
      "text/latex": [
       "\\begin{equation}u = \\left[\\begin{matrix}2 \\frac{H_{i}^{3}}{6 E I} & 5 \\frac{H_{i}^{3}}{6 E I} & 8 \\frac{H_{i}^{3}}{6 E I} & 11 \\frac{H_{i}^{3}}{6 E I} & 14 \\frac{H_{i}^{3}}{6 E I} & 17 \\frac{H_{i}^{3}}{6 E I}\\\\5 \\frac{H_{i}^{3}}{6 E I} & 16 \\frac{H_{i}^{3}}{6 E I} & 28 \\frac{H_{i}^{3}}{6 E I} & 40 \\frac{H_{i}^{3}}{6 E I} & 52 \\frac{H_{i}^{3}}{6 E I} & 64 \\frac{H_{i}^{3}}{6 E I}\\\\8 \\frac{H_{i}^{3}}{6 E I} & 28 \\frac{H_{i}^{3}}{6 E I} & 54 \\frac{H_{i}^{3}}{6 E I} & 81 \\frac{H_{i}^{3}}{6 E I} & 108 \\frac{H_{i}^{3}}{6 E I} & 135 \\frac{H_{i}^{3}}{6 E I}\\\\11 \\frac{H_{i}^{3}}{6 E I} & 40 \\frac{H_{i}^{3}}{6 E I} & 81 \\frac{H_{i}^{3}}{6 E I} & 128 \\frac{H_{i}^{3}}{6 E I} & 176 \\frac{H_{i}^{3}}{6 E I} & 224 \\frac{H_{i}^{3}}{6 E I}\\\\14 \\frac{H_{i}^{3}}{6 E I} & 52 \\frac{H_{i}^{3}}{6 E I} & 108 \\frac{H_{i}^{3}}{6 E I} & 176 \\frac{H_{i}^{3}}{6 E I} & 250 \\frac{H_{i}^{3}}{6 E I} & 325 \\frac{H_{i}^{3}}{6 E I}\\\\17 \\frac{H_{i}^{3}}{6 E I} & 64 \\frac{H_{i}^{3}}{6 E I} & 135 \\frac{H_{i}^{3}}{6 E I} & 224 \\frac{H_{i}^{3}}{6 E I} & 325 \\frac{H_{i}^{3}}{6 E I} & 432 \\frac{H_{i}^{3}}{6 E I}\\end{matrix}\\right] \\left[\\begin{matrix}1\\\\2\\\\3\\\\4\\\\5\\\\6\\end{matrix}\\right]\\end{equation}"
      ],
      "text/plain": [
       "    ⎡     3         3          3          3          3          3  ⎤    \n",
       "    ⎢   Hᵢ        Hᵢ         Hᵢ         Hᵢ         Hᵢ         Hᵢ   ⎥    \n",
       "    ⎢2⋅─────   5⋅─────    8⋅─────   11⋅─────   14⋅─────   17⋅───── ⎥    \n",
       "    ⎢  6⋅E⋅I     6⋅E⋅I      6⋅E⋅I      6⋅E⋅I      6⋅E⋅I      6⋅E⋅I ⎥    \n",
       "    ⎢                                                              ⎥    \n",
       "    ⎢     3          3         3          3          3          3  ⎥    \n",
       "    ⎢   Hᵢ         Hᵢ        Hᵢ         Hᵢ         Hᵢ         Hᵢ   ⎥    \n",
       "    ⎢5⋅─────   16⋅─────  28⋅─────   40⋅─────   52⋅─────   64⋅───── ⎥    \n",
       "    ⎢  6⋅E⋅I      6⋅E⋅I     6⋅E⋅I      6⋅E⋅I      6⋅E⋅I      6⋅E⋅I ⎥    \n",
       "    ⎢                                                              ⎥ ⎡1⎤\n",
       "    ⎢     3          3         3          3           3          3 ⎥ ⎢ ⎥\n",
       "    ⎢   Hᵢ         Hᵢ        Hᵢ         Hᵢ          Hᵢ         Hᵢ  ⎥ ⎢2⎥\n",
       "    ⎢8⋅─────   28⋅─────  54⋅─────   81⋅─────   108⋅─────  135⋅─────⎥ ⎢ ⎥\n",
       "    ⎢  6⋅E⋅I      6⋅E⋅I     6⋅E⋅I      6⋅E⋅I       6⋅E⋅I      6⋅E⋅I⎥ ⎢3⎥\n",
       "u = ⎢                                                              ⎥⋅⎢ ⎥\n",
       "    ⎢      3         3         3           3          3          3 ⎥ ⎢4⎥\n",
       "    ⎢    Hᵢ        Hᵢ        Hᵢ          Hᵢ         Hᵢ         Hᵢ  ⎥ ⎢ ⎥\n",
       "    ⎢11⋅─────  40⋅─────  81⋅─────   128⋅─────  176⋅─────  224⋅─────⎥ ⎢5⎥\n",
       "    ⎢   6⋅E⋅I     6⋅E⋅I     6⋅E⋅I       6⋅E⋅I      6⋅E⋅I      6⋅E⋅I⎥ ⎢ ⎥\n",
       "    ⎢                                                              ⎥ ⎣6⎦\n",
       "    ⎢      3         3          3          3          3          3 ⎥    \n",
       "    ⎢    Hᵢ        Hᵢ         Hᵢ         Hᵢ         Hᵢ         Hᵢ  ⎥    \n",
       "    ⎢14⋅─────  52⋅─────  108⋅─────  176⋅─────  250⋅─────  325⋅─────⎥    \n",
       "    ⎢   6⋅E⋅I     6⋅E⋅I      6⋅E⋅I      6⋅E⋅I      6⋅E⋅I      6⋅E⋅I⎥    \n",
       "    ⎢                                                              ⎥    \n",
       "    ⎢      3         3          3          3          3          3 ⎥    \n",
       "    ⎢    Hᵢ        Hᵢ         Hᵢ         Hᵢ         Hᵢ         Hᵢ  ⎥    \n",
       "    ⎢17⋅─────  64⋅─────  135⋅─────  224⋅─────  325⋅─────  432⋅─────⎥    \n",
       "    ⎣   6⋅E⋅I     6⋅E⋅I      6⋅E⋅I      6⋅E⋅I      6⋅E⋅I      6⋅E⋅I⎦    "
      ]
     },
     "metadata": {},
     "output_type": "display_data"
    },
    {
     "data": {
      "text/latex": [
       "\\begin{equation}u = \\left[\\begin{matrix}\\frac{42 H_{i}^{3}}{E I}\\\\\\frac{925 H_{i}^{3}}{6 E I}\\\\\\frac{950 H_{i}^{3}}{3 E I}\\\\\\frac{1535 H_{i}^{3}}{3 E I}\\\\\\frac{2173 H_{i}^{3}}{3 E I}\\\\\\frac{5663 H_{i}^{3}}{6 E I}\\end{matrix}\\right]\\end{equation}"
      ],
      "text/plain": [
       "    ⎡      3 ⎤\n",
       "    ⎢ 42⋅Hᵢ  ⎥\n",
       "    ⎢ ────── ⎥\n",
       "    ⎢  E⋅I   ⎥\n",
       "    ⎢        ⎥\n",
       "    ⎢      3 ⎥\n",
       "    ⎢925⋅Hᵢ  ⎥\n",
       "    ⎢─────── ⎥\n",
       "    ⎢ 6⋅E⋅I  ⎥\n",
       "    ⎢        ⎥\n",
       "    ⎢      3 ⎥\n",
       "    ⎢950⋅Hᵢ  ⎥\n",
       "    ⎢─────── ⎥\n",
       "    ⎢ 3⋅E⋅I  ⎥\n",
       "u = ⎢        ⎥\n",
       "    ⎢       3⎥\n",
       "    ⎢1535⋅Hᵢ ⎥\n",
       "    ⎢────────⎥\n",
       "    ⎢ 3⋅E⋅I  ⎥\n",
       "    ⎢        ⎥\n",
       "    ⎢       3⎥\n",
       "    ⎢2173⋅Hᵢ ⎥\n",
       "    ⎢────────⎥\n",
       "    ⎢ 3⋅E⋅I  ⎥\n",
       "    ⎢        ⎥\n",
       "    ⎢       3⎥\n",
       "    ⎢5663⋅Hᵢ ⎥\n",
       "    ⎢────────⎥\n",
       "    ⎣ 6⋅E⋅I  ⎦"
      ]
     },
     "metadata": {},
     "output_type": "display_data"
    }
   ],
   "source": [
    "display(eq_u, sh.eq_subs(eq_u,eq_f_hat, eq_F), sh.eq_subs(eq_u, eq_f_hat, eq_F).doit())"
   ]
  },
  {
   "cell_type": "markdown",
   "id": "62dd726b-1046-4c0f-86fa-765e27b363fa",
   "metadata": {},
   "source": [
    "Durch einsetzen der bestimmten Verformung in die Gleichung der Eigenfrequenz folgt:"
   ]
  },
  {
   "cell_type": "code",
   "execution_count": 14,
   "id": "d22b16f9-ec04-44e3-a9c6-eec1a5afdbf6",
   "metadata": {},
   "outputs": [
    {
     "data": {
      "text/latex": [
       "\\begin{equation}f = \\frac{\\sqrt{43665341610} \\sqrt{\\frac{E I}{H_{i}^{3} m_{i}}}}{4993178 \\pi}\\end{equation}"
      ],
      "text/plain": [
       "                      ________\n",
       "                     ╱  E⋅I   \n",
       "    √43665341610⋅   ╱  ────── \n",
       "                   ╱     3    \n",
       "                 ╲╱    Hᵢ ⋅mᵢ \n",
       "f = ──────────────────────────\n",
       "            4993178⋅π         "
      ]
     },
     "metadata": {},
     "output_type": "display_data"
    },
    {
     "data": {
      "text/latex": [
       "\\begin{equation}T = \\frac{\\sqrt{43665341610} \\pi}{8745 \\sqrt{\\frac{E I}{H_{i}^{3} m_{i}}}}\\end{equation}"
      ],
      "text/plain": [
       "      √43665341610⋅π  \n",
       "T = ──────────────────\n",
       "              ________\n",
       "             ╱  E⋅I   \n",
       "    8745⋅   ╱  ────── \n",
       "           ╱     3    \n",
       "         ╲╱    Hᵢ ⋅mᵢ "
      ]
     },
     "metadata": {},
     "output_type": "display_data"
    }
   ],
   "source": [
    "eq_f_subs = sh.eq_subs(eq_f, eq_u, eq_M, eq_f_hat, eq_F).doit()\n",
    "eq_T_subs = sh.eq_subs(eq_T, eq_f_subs).doit()\n",
    "\n",
    "display(eq_f_subs, eq_T_subs)"
   ]
  },
  {
   "cell_type": "markdown",
   "id": "2426dd6b-ed61-4471-b7f1-03896fb28e36",
   "metadata": {},
   "source": [
    "### Grundschwingzeit"
   ]
  },
  {
   "cell_type": "markdown",
   "id": "ea5f5a11-c9d3-4cb0-ad2a-fb4601606065",
   "metadata": {},
   "source": [
    "#### X-Richtung\n",
    "\n",
    "Es gilt $I$ mit $I_y$ zu substituieren."
   ]
  },
  {
   "cell_type": "code",
   "execution_count": 15,
   "id": "13269181-9395-4927-bdcb-0a32f2e5b364",
   "metadata": {},
   "outputs": [
    {
     "data": {
      "text/latex": [
       "\\begin{equation}u_{x} = \\hat{f} F\\end{equation}"
      ],
      "text/plain": [
       "uₓ = \\hat{f}⋅F"
      ]
     },
     "metadata": {},
     "output_type": "display_data"
    },
    {
     "data": {
      "text/latex": [
       "\\begin{equation}f_{x} = \\frac{1.88}{\\text{s}}\\end{equation}"
      ],
      "text/plain": [
       "      1.88 \n",
       "fₓ = ──────\n",
       "     second"
      ]
     },
     "metadata": {},
     "output_type": "display_data"
    },
    {
     "data": {
      "text/latex": [
       "\\begin{equation}T_{x} = 0.531 \\text{s}\\end{equation}"
      ],
      "text/plain": [
       "Tₓ = 0.531⋅second"
      ]
     },
     "metadata": {},
     "output_type": "display_data"
    }
   ],
   "source": [
    "eq_u_x = sh.eq_subs(eq_u).subs(I, I_y).subs(u, u_x).doit()\n",
    "\n",
    "eq_f_x = eq_f_subs.subs(I, I_y).subs(f, f_x)\n",
    "eq_T_x = eq_T_subs.subs(I,I_y).subs(T, T_x)\n",
    "\n",
    "\n",
    "display(eq_u_x, eq_f_x.subs(params).evalf(3), eq_T_x.subs(params).evalf(3))\n"
   ]
  },
  {
   "cell_type": "markdown",
   "id": "008fd7a8-1499-47b6-a70d-ee7c7ab89337",
   "metadata": {},
   "source": [
    "#### Y-Richtung\n",
    "\n",
    "Es gilt $I$ mit $I_x$ zu substituieren."
   ]
  },
  {
   "cell_type": "code",
   "execution_count": 16,
   "id": "3cc67c34-e235-48f4-af27-4d25d1fd0a72",
   "metadata": {},
   "outputs": [
    {
     "data": {
      "text/latex": [
       "\\begin{equation}u_{y} = \\left[\\begin{matrix}\\frac{42 H_{i}^{3}}{E I_{x}}\\\\\\frac{925 H_{i}^{3}}{6 E I_{x}}\\\\\\frac{950 H_{i}^{3}}{3 E I_{x}}\\\\\\frac{1535 H_{i}^{3}}{3 E I_{x}}\\\\\\frac{2173 H_{i}^{3}}{3 E I_{x}}\\\\\\frac{5663 H_{i}^{3}}{6 E I_{x}}\\end{matrix}\\right]\\end{equation}"
      ],
      "text/plain": [
       "      ⎡      3 ⎤\n",
       "      ⎢ 42⋅Hᵢ  ⎥\n",
       "      ⎢ ────── ⎥\n",
       "      ⎢  E⋅Iₓ  ⎥\n",
       "      ⎢        ⎥\n",
       "      ⎢      3 ⎥\n",
       "      ⎢925⋅Hᵢ  ⎥\n",
       "      ⎢─────── ⎥\n",
       "      ⎢ 6⋅E⋅Iₓ ⎥\n",
       "      ⎢        ⎥\n",
       "      ⎢      3 ⎥\n",
       "      ⎢950⋅Hᵢ  ⎥\n",
       "      ⎢─────── ⎥\n",
       "      ⎢ 3⋅E⋅Iₓ ⎥\n",
       "u_y = ⎢        ⎥\n",
       "      ⎢       3⎥\n",
       "      ⎢1535⋅Hᵢ ⎥\n",
       "      ⎢────────⎥\n",
       "      ⎢ 3⋅E⋅Iₓ ⎥\n",
       "      ⎢        ⎥\n",
       "      ⎢       3⎥\n",
       "      ⎢2173⋅Hᵢ ⎥\n",
       "      ⎢────────⎥\n",
       "      ⎢ 3⋅E⋅Iₓ ⎥\n",
       "      ⎢        ⎥\n",
       "      ⎢       3⎥\n",
       "      ⎢5663⋅Hᵢ ⎥\n",
       "      ⎢────────⎥\n",
       "      ⎣ 6⋅E⋅Iₓ ⎦"
      ]
     },
     "metadata": {},
     "output_type": "display_data"
    },
    {
     "data": {
      "text/latex": [
       "\\begin{equation}f_{y} = \\frac{1.37}{\\text{s}}\\end{equation}"
      ],
      "text/plain": [
       "       1.37 \n",
       "f_y = ──────\n",
       "      second"
      ]
     },
     "metadata": {},
     "output_type": "display_data"
    },
    {
     "data": {
      "text/latex": [
       "\\begin{equation}T_{y} = 0.732 \\text{s}\\end{equation}"
      ],
      "text/plain": [
       "T_y = 0.732⋅second"
      ]
     },
     "metadata": {},
     "output_type": "display_data"
    }
   ],
   "source": [
    "\n",
    "eq_u_y = sh.eq_subs(eq_u,eq_f_hat, eq_F).subs(I, I_x).subs(u, u_y).doit()\n",
    "eq_f_y = eq_f_subs.subs(I, I_x).subs(f, f_y)\n",
    "eq_T_y = eq_T_subs.subs(I,I_x).subs(T, T_y)\n",
    "\n",
    "display(eq_u_y, eq_f_y.subs(params).evalf(3), eq_T_y.subs(params).evalf(3))"
   ]
  },
  {
   "cell_type": "markdown",
   "id": "4e1ef51c-37c7-4479-ab4e-16a4e1560dd2",
   "metadata": {},
   "source": [
    "### Abminderung der Steifigkeit\n",
    "\n",
    "Um die Rissbildung zu berücksichtigen wird die Steifigkeit auf 30 % abgemindert."
   ]
  },
  {
   "cell_type": "markdown",
   "id": "cd6613c6-abca-42e2-acda-058a2cf42cc1",
   "metadata": {},
   "source": [
    "#### X-Richtung"
   ]
  },
  {
   "cell_type": "code",
   "execution_count": 17,
   "id": "f397e8ee-d299-4514-86c1-57cd2c347fce",
   "metadata": {},
   "outputs": [
    {
     "data": {
      "text/latex": [
       "\\begin{equation}f_{x} = \\frac{1.03}{\\text{s}}\\end{equation}"
      ],
      "text/plain": [
       "      1.03 \n",
       "fₓ = ──────\n",
       "     second"
      ]
     },
     "metadata": {},
     "output_type": "display_data"
    },
    {
     "data": {
      "text/latex": [
       "\\begin{equation}T_{x} = 0.97 \\text{s}\\end{equation}"
      ],
      "text/plain": [
       "Tₓ = 0.97⋅second"
      ]
     },
     "metadata": {},
     "output_type": "display_data"
    }
   ],
   "source": [
    "eq_f_x_red = eq_f_x.subs(E,0.3*E)\n",
    "eq_T_x_red = eq_T_x.subs(E,0.3*E)\n",
    "\n",
    "display(eq_f_x_red.subs(params).evalf(3), eq_T_x_red.subs(params).evalf(3))"
   ]
  },
  {
   "cell_type": "markdown",
   "id": "4c469fcc-ea28-4e98-b310-f201d14d7aad",
   "metadata": {},
   "source": [
    "#### Y-Richtung"
   ]
  },
  {
   "cell_type": "code",
   "execution_count": 18,
   "id": "fb1a4e63-d475-457c-ba0d-7b6fab43779d",
   "metadata": {},
   "outputs": [
    {
     "data": {
      "text/latex": [
       "\\begin{equation}f_{y} = \\frac{0.748}{\\text{s}}\\end{equation}"
      ],
      "text/plain": [
       "      0.748 \n",
       "f_y = ──────\n",
       "      second"
      ]
     },
     "metadata": {},
     "output_type": "display_data"
    },
    {
     "data": {
      "text/latex": [
       "\\begin{equation}T_{y} = 1.34 \\text{s}\\end{equation}"
      ],
      "text/plain": [
       "T_y = 1.34⋅second"
      ]
     },
     "metadata": {},
     "output_type": "display_data"
    }
   ],
   "source": [
    "eq_f_y_red = eq_f_y.subs(E,0.3*E)\n",
    "eq_T_y_red = eq_T_y.subs(E,0.3*E)\n",
    "\n",
    "display(eq_f_y_red.subs(params).evalf(3), eq_T_y_red.subs(params).evalf(3))"
   ]
  }
 ],
 "metadata": {
  "kernelspec": {
   "display_name": "Python 3 (ipykernel)",
   "language": "python",
   "name": "python3"
  },
  "language_info": {
   "codemirror_mode": {
    "name": "ipython",
    "version": 3
   },
   "file_extension": ".py",
   "mimetype": "text/x-python",
   "name": "python",
   "nbconvert_exporter": "python",
   "pygments_lexer": "ipython3",
   "version": "3.11.7"
  }
 },
 "nbformat": 4,
 "nbformat_minor": 5
}
