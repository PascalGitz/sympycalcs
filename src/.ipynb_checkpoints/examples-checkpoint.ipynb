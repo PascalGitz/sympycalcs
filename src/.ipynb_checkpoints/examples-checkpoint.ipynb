{
 "cells": [
  {
   "cell_type": "code",
   "execution_count": 1,
   "metadata": {},
   "outputs": [],
   "source": [
    "import sympy as sp\n",
    "import sympy.physics.units as unit\n",
    "from sympycalcs import dict_to_table,  to_float"
   ]
  },
  {
   "cell_type": "code",
   "execution_count": 2,
   "metadata": {},
   "outputs": [
    {
     "name": "stderr",
     "output_type": "stream",
     "text": [
      "<>:1: SyntaxWarning: invalid escape sequence '\\,'\n",
      "<>:2: SyntaxWarning: invalid escape sequence '\\,'\n",
      "<>:3: SyntaxWarning: invalid escape sequence '\\,'\n",
      "<>:5: SyntaxWarning: invalid escape sequence '\\,'\n",
      "<>:1: SyntaxWarning: invalid escape sequence '\\,'\n",
      "<>:2: SyntaxWarning: invalid escape sequence '\\,'\n",
      "<>:3: SyntaxWarning: invalid escape sequence '\\,'\n",
      "<>:5: SyntaxWarning: invalid escape sequence '\\,'\n",
      "C:\\Users\\Pascal Gitz\\AppData\\Local\\Temp\\ipykernel_25412\\1719553042.py:1: SyntaxWarning: invalid escape sequence '\\,'\n",
      "  sigma_c_inf_1, F_c1, z_1 = sp.symbols('sigma_c_inf\\,1, F_c\\,1 z_\\,1')\n",
      "C:\\Users\\Pascal Gitz\\AppData\\Local\\Temp\\ipykernel_25412\\1719553042.py:2: SyntaxWarning: invalid escape sequence '\\,'\n",
      "  z_2 = sp.symbols('F_c\\,2 z_\\,2')\n",
      "C:\\Users\\Pascal Gitz\\AppData\\Local\\Temp\\ipykernel_25412\\1719553042.py:3: SyntaxWarning: invalid escape sequence '\\,'\n",
      "  F_z2, F_c2, f_sy, x_2, epsilon_s2, epsilon_c2, sigma_s2, chi_II, sigma_c_inf_2, M_2 = sp.symbols('F_z\\,2 F_c\\,2 f_sy x_\\,2 varepsilon_s\\,2 varepsilon_c\\,2 sigma_s\\,2 \\chi^{II} sigma_c_inf\\,2 M_2')\n",
      "C:\\Users\\Pascal Gitz\\AppData\\Local\\Temp\\ipykernel_25412\\1719553042.py:5: SyntaxWarning: invalid escape sequence '\\,'\n",
      "  epsilon_sy, x_3, F_c3, F_s3, chi_y, M_y = sp.symbols('varepsilon_sy x_\\,3 F_c\\,3, F_s\\,3, \\chi_y M_y')\n"
     ]
    }
   ],
   "source": [
    "sigma_c_inf_1, F_c1, z_1 = sp.symbols('sigma_c_inf\\,1, F_c\\,1 z_\\,1')\n",
    "z_2 = sp.symbols('F_c\\,2 z_\\,2')\n",
    "F_z2, F_c2, f_sy, x_2, epsilon_s2, epsilon_c2, sigma_s2, chi_II, sigma_c_inf_2, M_2 = sp.symbols('F_z\\,2 F_c\\,2 f_sy x_\\,2 varepsilon_s\\,2 varepsilon_c\\,2 sigma_s\\,2 \\chi^{II} sigma_c_inf\\,2 M_2')\n",
    "EI_II, EI_I = sp.symbols('EI^{II} EI^I')\n",
    "epsilon_sy, x_3, F_c3, F_s3, chi_y, M_y = sp.symbols('varepsilon_sy x_\\,3 F_c\\,3, F_s\\,3, \\chi_y M_y')\n",
    "x_4, M_R, epsilon_cw, epsilon_su,epsilon_sw, chi_u = sp.symbols('x_4, M_R varepsilon_cw varepsilon_su varepsilon_sw chi_u')\n",
    "EI_III = sp.symbols('EI^{III}')\n",
    "w_1 = sp.symbols('w_1')"
   ]
  },
  {
   "cell_type": "code",
   "execution_count": 3,
   "metadata": {},
   "outputs": [],
   "source": [
    "params_krummung = {\n",
    "\n",
    "    epsilon_cw : 2.3/1000,\n",
    "    epsilon_sw : 111.7/1000,\n",
    "    F_c1: 20*unit.m, \n",
    "    z_1: 300*unit.mm,\n",
    "    sigma_c_inf_1: 200*unit.N/unit.mm**2\n",
    "}\n"
   ]
  },
  {
   "cell_type": "markdown",
   "metadata": {},
   "source": [
    "# Test\n",
    "\n",
    "## Test\n",
    "\n",
    "oasihflksakdnlksamd\n",
    "\n",
    "$$\n",
    "B = cos (\\varphi)\n",
    "$${#eq-123}"
   ]
  },
  {
   "cell_type": "code",
   "execution_count": 4,
   "metadata": {},
   "outputs": [
    {
     "data": {
      "text/markdown": [
       "|  Parameter  | ​  |\n",
       "|---|---|\n",
       "| $F_{c,1} = 20 \\text{m}$ | $\\sigma_{c inf,1} = \\frac{200 \\text{N}}{\\text{mm}^{2}}$ |\n",
       "| $\\varepsilon_{cw} = 0.0023$ | $\\varepsilon_{sw} = 0.1117$ |\n",
       "| $z_{,1} = 300 \\text{mm}$ | ​  |\n"
      ],
      "text/plain": [
       "<IPython.core.display.Markdown object>"
      ]
     },
     "metadata": {},
     "output_type": "display_data"
    }
   ],
   "source": [
    "dict_to_table(params_krummung)"
   ]
  },
  {
   "cell_type": "code",
   "execution_count": 5,
   "metadata": {},
   "outputs": [],
   "source": [
    "testtable = to_float(params_krummung)"
   ]
  },
  {
   "cell_type": "code",
   "execution_count": 6,
   "metadata": {},
   "outputs": [
    {
     "data": {
      "text/markdown": [
       "|  Parameter  | ​  |\n",
       "|---|---|\n",
       "| $F_{c,1} = 20.0$ | $\\sigma_{c inf,1} = 200000000.0$ |\n",
       "| $\\varepsilon_{cw} = 0.0023$ | $\\varepsilon_{sw} = 0.1117$ |\n",
       "| $z_{,1} = 0.3$ | ​  |\n"
      ],
      "text/plain": [
       "<IPython.core.display.Markdown object>"
      ]
     },
     "metadata": {},
     "output_type": "display_data"
    }
   ],
   "source": [
    "dict_to_table(testtable)"
   ]
  },
  {
   "cell_type": "code",
   "execution_count": 7,
   "metadata": {},
   "outputs": [],
   "source": [
    "meter = 20"
   ]
  },
  {
   "cell_type": "code",
   "execution_count": 8,
   "metadata": {},
   "outputs": [],
   "source": [
    "import numpy as np\n",
    "phi = 20*unit.degrees + 1*unit.rad\n",
    "testarray = np.array([phi,phi*34,phi])\n",
    "x_array = np.array([1.41598645654,2,4])"
   ]
  },
  {
   "cell_type": "code",
   "execution_count": 9,
   "metadata": {},
   "outputs": [],
   "source": [
    "import matplotlib.pyplot as plt"
   ]
  },
  {
   "cell_type": "code",
   "execution_count": 10,
   "metadata": {},
   "outputs": [
    {
     "data": {
      "image/png": "[encoded data removed]",
      "text/plain": [
       "<Figure size 640x480 with 1 Axes>"
      ]
     },
     "metadata": {},
     "output_type": "display_data"
    }
   ],
   "source": [
    "plt.plot(to_float(testarray), to_float(x_array), color='black')\n",
    "plt.fill_between(to_float(testarray), to_float(x_array), color='black', alpha = 0.1)\n",
    "plt.xlabel('$u$ [m]')\n",
    "plt.ylabel('$F$ [kN]')\n",
    "plt.show()"
   ]
  },
  {
   "cell_type": "code",
   "execution_count": null,
   "metadata": {},
   "outputs": [],
   "source": []
  },
  {
   "cell_type": "code",
   "execution_count": 11,
   "metadata": {},
   "outputs": [
    {
     "data": {
      "text/plain": [
       "77.29577951308232"
      ]
     },
     "execution_count": 11,
     "metadata": {},
     "output_type": "execute_result"
    }
   ],
   "source": [
    "to_float(phi)"
   ]
  },
  {
   "cell_type": "code",
   "execution_count": 12,
   "metadata": {},
   "outputs": [],
   "source": [
    "q = sp.symbols('q')"
   ]
  },
  {
   "cell_type": "code",
   "execution_count": 13,
   "metadata": {},
   "outputs": [
    {
     "data": {
      "text/latex": [
       "$\\displaystyle 581244346703.64 = q$"
      ],
      "text/plain": [
       "Eq(581244346703.64, q)"
      ]
     },
     "execution_count": 13,
     "metadata": {},
     "output_type": "execute_result"
    }
   ],
   "source": [
    "eq1 = sp.Eq(F_c1 * sigma_c_inf_1 / epsilon_cw * sp.sqrt(epsilon_sw)+ 23*unit.seconds, q)\n",
    "\n",
    "to_float(eq1.subs(params_krummung))"
   ]
  },
  {
   "cell_type": "code",
   "execution_count": 14,
   "metadata": {},
   "outputs": [
    {
     "data": {
      "text/latex": [
       "$\\displaystyle \\frac{581244.34668064 \\text{m} \\text{N}}{\\text{mm}^{2}} + 23 \\text{s} = q$"
      ],
      "text/plain": [
       "Eq(581244.34668064*meter*newton/millimeter**2 + 23*second, q)"
      ]
     },
     "execution_count": 14,
     "metadata": {},
     "output_type": "execute_result"
    }
   ],
   "source": [
    "eq1.subs(params_krummung)"
   ]
  }
 ],
 "metadata": {
  "kernelspec": {
   "display_name": "calculations",
   "language": "python",
   "name": "python3"
  },
  "language_info": {
   "codemirror_mode": {
    "name": "ipython",
    "version": 3
   },
   "file_extension": ".py",
   "mimetype": "text/x-python",
   "name": "python",
   "nbconvert_exporter": "python",
   "pygments_lexer": "ipython3",
   "version": "3.12.1"
  },
  "orig_nbformat": 4
 },
 "nbformat": 4,
 "nbformat_minor": 2
}
