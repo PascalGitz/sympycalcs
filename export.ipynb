{
 "cells": [
  {
   "cell_type": "code",
   "execution_count": 2,
   "id": "15e8b4d0-c3f3-47e6-9e46-cbcacdb92331",
   "metadata": {
    "ExecuteTime": {
     "end_time": "2024-03-21T09:02:32.120898Z",
     "start_time": "2024-03-21T09:02:16.916112Z"
    }
   },
   "outputs": [
    {
     "name": "stdout",
     "output_type": "stream",
     "text": [
      "* Creating isolated environment: venv+pip...\n",
      "* Installing packages in isolated environment:\n",
      "  - setuptools >= 40.8.0\n",
      "* Getting build dependencies for wheel...\n",
      "running egg_info\n",
      "writing src\\sympycalcs.egg-info\\PKG-INFO\n",
      "writing dependency_links to src\\sympycalcs.egg-info\\dependency_links.txt\n",
      "writing top-level names to src\\sympycalcs.egg-info\\top_level.txt\n",
      "reading manifest file 'src\\sympycalcs.egg-info\\SOURCES.txt'\n",
      "adding license file 'LICENSE'\n",
      "writing manifest file 'src\\sympycalcs.egg-info\\SOURCES.txt'\n",
      "* Installing packages in isolated environment:\n",
      "  - wheel\n",
      "* Building wheel...\n",
      "running bdist_wheel\n",
      "running build\n",
      "running build_py\n",
      "copying src\\test_sympycalcs.py -> build\\lib\n",
      "copying src\\sympycalcs\\beton.py -> build\\lib\\sympycalcs\n",
      "copying src\\sympycalcs\\helpers.py -> build\\lib\\sympycalcs\n",
      "copying src\\sympycalcs\\__init__.py -> build\\lib\\sympycalcs\n",
      "running egg_info\n",
      "writing src\\sympycalcs.egg-info\\PKG-INFO\n",
      "writing dependency_links to src\\sympycalcs.egg-info\\dependency_links.txt\n",
      "writing top-level names to src\\sympycalcs.egg-info\\top_level.txt\n",
      "reading manifest file 'src\\sympycalcs.egg-info\\SOURCES.txt'\n",
      "adding license file 'LICENSE'\n",
      "writing manifest file 'src\\sympycalcs.egg-info\\SOURCES.txt'\n",
      "installing to build\\bdist.win-amd64\\wheel\n",
      "running install\n",
      "running install_lib\n",
      "creating build\\bdist.win-amd64\\wheel\n",
      "creating build\\bdist.win-amd64\\wheel\\sympycalcs\n",
      "copying build\\lib\\sympycalcs\\beton.py -> build\\bdist.win-amd64\\wheel\\.\\sympycalcs\n",
      "copying build\\lib\\sympycalcs\\helpers.py -> build\\bdist.win-amd64\\wheel\\.\\sympycalcs\n",
      "copying build\\lib\\sympycalcs\\__init__.py -> build\\bdist.win-amd64\\wheel\\.\\sympycalcs\n",
      "copying build\\lib\\test_sympycalcs.py -> build\\bdist.win-amd64\\wheel\\.\n",
      "running install_egg_info\n",
      "Copying src\\sympycalcs.egg-info to build\\bdist.win-amd64\\wheel\\.\\sympycalcs-0.0.1-py3.12.egg-info\n",
      "running install_scripts\n",
      "creating build\\bdist.win-amd64\\wheel\\sympycalcs-0.0.1.dist-info\\WHEEL\n",
      "creating 'c:\\Users\\Pascal Gitz\\OneDrive - Hochschule Luzern\\Dokumente\\Programmieren\\sympycalcs\\dist\\.tmp-s7g4ozxn\\sympycalcs-0.0.1-py3-none-any.whl' and adding 'build\\bdist.win-amd64\\wheel' to it\n",
      "adding 'test_sympycalcs.py'\n",
      "adding 'sympycalcs/__init__.py'\n",
      "adding 'sympycalcs/beton.py'\n",
      "adding 'sympycalcs/helpers.py'\n",
      "adding 'sympycalcs-0.0.1.dist-info/LICENSE'\n",
      "adding 'sympycalcs-0.0.1.dist-info/METADATA'\n",
      "adding 'sympycalcs-0.0.1.dist-info/WHEEL'\n",
      "adding 'sympycalcs-0.0.1.dist-info/top_level.txt'\n",
      "adding 'sympycalcs-0.0.1.dist-info/RECORD'\n",
      "removing build\\bdist.win-amd64\\wheel\n",
      "Successfully built sympycalcs-0.0.1-py3-none-any.whl\n"
     ]
    }
   ],
   "source": [
    "!python -m build --wheel\n",
    "# !pip install dist/sympycalcs-0.0.1-py3-none-any.whl --force-reinstall"
   ]
  },
  {
   "cell_type": "code",
   "execution_count": null,
   "id": "392cdc85",
   "metadata": {},
   "outputs": [],
   "source": []
  }
 ],
 "metadata": {
  "kernelspec": {
   "display_name": "Python 3 (ipykernel)",
   "language": "python",
   "name": "python3"
  },
  "language_info": {
   "codemirror_mode": {
    "name": "ipython",
    "version": 3
   },
   "file_extension": ".py",
   "mimetype": "text/x-python",
   "name": "python",
   "nbconvert_exporter": "python",
   "pygments_lexer": "ipython3",
   "version": "3.12.1"
  }
 },
 "nbformat": 4,
 "nbformat_minor": 5
}
