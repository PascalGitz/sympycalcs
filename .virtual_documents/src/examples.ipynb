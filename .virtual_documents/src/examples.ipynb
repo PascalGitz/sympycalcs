import sympy as sp
import sympy.physics.units as unit
from sympycalcs import dict_to_table,  to_float, to_convert, display_eq


sigma_c_inf_1, F_c1, z_1 = sp.symbols('sigma_c_inf\,1, F_c\,1 z_\,1')
z_2 = sp.symbols('F_c\,2 z_\,2')
F_z2, F_c2, f_sy, x_2, epsilon_s2, epsilon_c2, sigma_s2, chi_II, sigma_c_inf_2, M_2 = sp.symbols('F_z\,2 F_c\,2 f_sy x_\,2 varepsilon_s\,2 varepsilon_c\,2 sigma_s\,2 \chi^{II} sigma_c_inf\,2 M_2')
EI_II, EI_I = sp.symbols('EI^{II} EI^I')
epsilon_sy, x_3, F_c3, F_s3, chi_y, M_y = sp.symbols('varepsilon_sy x_\,3 F_c\,3, F_s\,3, \chi_y M_y')
x_4, M_R, epsilon_cw, epsilon_su,epsilon_sw, chi_u = sp.symbols('x_4, M_R varepsilon_cw varepsilon_su varepsilon_sw chi_u')
EI_III = sp.symbols('EI^{III}')
w_1 = sp.symbols('w_1')


params_krummung = {

    epsilon_cw : 2.3/1000,
    epsilon_sw : 111.7/1000,
    F_c1: 20*unit.m, 
    z_1: 300*unit.mm,
    sigma_c_inf_1: 200*unit.N/unit.mm**2
}






a = 20*unit.m/unit.mm

to_convert(a.simplify(),unit.percent)


dict_to_table(params_krummung)


testtable = to_float(params_krummung)

testtable = to_convert(params_krummung, unit.m)


testtable


dict_to_table(testtable)


meter = 20


import numpy as np
phi = 22*unit.m
testarray = np.array([phi,phi*34,phi])
x_array = np.array([1.41598645654,2,4])

to_convert(testarray, unit.mm)


import matplotlib.pyplot as plt


plt.plot(to_float(testarray), to_float(x_array), color='black')
plt.fill_between(to_float(testarray), to_float(x_array), color='black', alpha = 0.1)
plt.xlabel('$u$ [m]')
plt.ylabel('$F$ [kN]')
plt.show()


q = sp.symbols('q')


eq1 = sp.Eq(F_c1 * sigma_c_inf_1 / epsilon_cw * sp.sqrt(epsilon_sw)+ 23*unit.seconds, q)

to_float(eq1.subs(params_krummung))


to_convert(eq1.subs(params_krummung), [unit.m, unit.minute, unit.kilogram])


sigma_w_SV14 = np.array([0.0, 550, 657]) * unit.N / unit.mm**2


type(to_float(sigma_w_SV14)[1])


type(to_convert(sigma_w_SV14, unit.m)[2])



