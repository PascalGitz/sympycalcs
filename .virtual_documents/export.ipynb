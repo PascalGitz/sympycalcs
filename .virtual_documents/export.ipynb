get_ipython().getoutput("python -m build --wheel")
# !pip install dist/sympycalcs-0.0.1-py3-none-any.whl --force-reinstall
